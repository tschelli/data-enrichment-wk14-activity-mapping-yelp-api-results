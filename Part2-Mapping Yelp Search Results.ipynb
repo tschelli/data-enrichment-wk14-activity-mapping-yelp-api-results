{
 "cells": [
  {
   "cell_type": "markdown",
   "id": "c6d4c9a7",
   "metadata": {
    "id": "8guYh-VR7nlX"
   },
   "source": [
    "# Part 2 - Mapping Yelp Search Results"
   ]
  },
  {
   "cell_type": "markdown",
   "id": "9be6e6c0",
   "metadata": {},
   "source": []
  },
  {
   "cell_type": "markdown",
   "id": "8f1dfbbf",
   "metadata": {},
   "source": [
    "## Obective"
   ]
  },
  {
   "cell_type": "markdown",
   "id": "37daea31",
   "metadata": {
    "id": "8guYh-VR7nlX"
   },
   "source": [
    "- For this CodeAlong, we will be working with the Yelp API results from last class. \n",
    "- You will load in the .csv.gz of your yelp results and prepare the data for visualization.\n",
    "- You will use Plotly Express to create an interactive map with all of the results."
   ]
  },
  {
   "cell_type": "markdown",
   "id": "0a02a2fd",
   "metadata": {
    "id": "8guYh-VR7nlX"
   },
   "source": [
    "## Tools You Will Use\n",
    "- Part 1:\n",
    "    - Yelp API:\n",
    "        - Getting Started: \n",
    "            - https://www.yelp.com/developers/documentation/v3/get_started\n",
    "\n",
    "    - `YelpAPI` python package\n",
    "        -  \"YelpAPI\": https://github.com/gfairchild/yelpapi\n",
    "- Part 2:\n",
    "\n",
    "    - Plotly Express: https://plotly.com/python/getting-started/\n",
    "        - With Mapbox API: https://www.mapbox.com/\n",
    "        - `px.scatter_mapbox` [Documentation](https://plotly.com/python/scattermapbox/): \n",
    "\n",
    "\n"
   ]
  },
  {
   "cell_type": "markdown",
   "id": "a3f15049",
   "metadata": {},
   "source": [
    "### Applying Code From\n",
    "- [Advanced Transformations with Pandas - Part 1](https://login.codingdojo.com/m/376/12529/88086)\n",
    "- [Advanced Transformations with Pandas - Part 2](https://login.codingdojo.com/m/376/12529/88088)"
   ]
  },
  {
   "cell_type": "markdown",
   "id": "745e757f",
   "metadata": {},
   "source": [
    "### Goal"
   ]
  },
  {
   "cell_type": "markdown",
   "id": "a27ea8f9",
   "metadata": {},
   "source": [
    "- We want to create a map with every restaurant plotted as a scatter plot with detailed information that appears when we hover over a business\n",
    "- We will use plotly express's `px.scatter_mapbox` function to accomplish this.\n",
    "    - https://plotly.com/python/scattermapbox/\n",
    "    \n",
    "    - We will need a Mapbox API token for some of the options:\n",
    "        - https://studio.mapbox.com/\n",
    "    "
   ]
  },
  {
   "cell_type": "markdown",
   "id": "8c50b2b6",
   "metadata": {},
   "source": [
    "# Loading Data from Part 1"
   ]
  },
  {
   "cell_type": "code",
   "execution_count": 1,
   "id": "ffa40ba8",
   "metadata": {},
   "outputs": [
    {
     "name": "stdout",
     "output_type": "stream",
     "text": [
      "Requirement already satisfied: plotly in c:\\users\\tyler\\anaconda3\\envs\\dojo-env\\lib\\site-packages (5.11.0)\n",
      "Requirement already satisfied: tenacity>=6.2.0 in c:\\users\\tyler\\anaconda3\\envs\\dojo-env\\lib\\site-packages (from plotly) (8.1.0)\n"
     ]
    }
   ],
   "source": [
    "## Plotly is not included in your dojo-env\n",
    "!pip install plotly"
   ]
  },
  {
   "cell_type": "code",
   "execution_count": 1,
   "id": "6c26b323",
   "metadata": {},
   "outputs": [],
   "source": [
    "# Standard Imports\n",
    "import numpy as np\n",
    "import pandas as pd\n",
    "import matplotlib.pyplot as plt\n",
    "import seaborn as sns\n",
    "\n",
    "import json\n",
    "\n",
    "## importing plotly \n",
    "import plotly.express as px"
   ]
  },
  {
   "cell_type": "code",
   "execution_count": 2,
   "id": "73f882e7",
   "metadata": {},
   "outputs": [
    {
     "data": {
      "text/html": [
       "<div>\n",
       "<style scoped>\n",
       "    .dataframe tbody tr th:only-of-type {\n",
       "        vertical-align: middle;\n",
       "    }\n",
       "\n",
       "    .dataframe tbody tr th {\n",
       "        vertical-align: top;\n",
       "    }\n",
       "\n",
       "    .dataframe thead th {\n",
       "        text-align: right;\n",
       "    }\n",
       "</style>\n",
       "<table border=\"1\" class=\"dataframe\">\n",
       "  <thead>\n",
       "    <tr style=\"text-align: right;\">\n",
       "      <th></th>\n",
       "      <th>id</th>\n",
       "      <th>alias</th>\n",
       "      <th>name</th>\n",
       "      <th>image_url</th>\n",
       "      <th>is_closed</th>\n",
       "      <th>url</th>\n",
       "      <th>review_count</th>\n",
       "      <th>categories</th>\n",
       "      <th>rating</th>\n",
       "      <th>coordinates</th>\n",
       "      <th>transactions</th>\n",
       "      <th>price</th>\n",
       "      <th>location</th>\n",
       "      <th>phone</th>\n",
       "      <th>display_phone</th>\n",
       "      <th>distance</th>\n",
       "    </tr>\n",
       "  </thead>\n",
       "  <tbody>\n",
       "    <tr>\n",
       "      <th>0</th>\n",
       "      <td>Km1aQHFPP7VwvFimVByPgg</td>\n",
       "      <td>dels-pizzeria-pismo-beach</td>\n",
       "      <td>Del's Pizzeria</td>\n",
       "      <td>https://s3-media2.fl.yelpcdn.com/bphoto/dEgnqd...</td>\n",
       "      <td>False</td>\n",
       "      <td>https://www.yelp.com/biz/dels-pizzeria-pismo-b...</td>\n",
       "      <td>499</td>\n",
       "      <td>[{'alias': 'pizza', 'title': 'Pizza'}, {'alias...</td>\n",
       "      <td>4.0</td>\n",
       "      <td>{'latitude': 35.14405, 'longitude': -120.6429}</td>\n",
       "      <td>['pickup', 'delivery']</td>\n",
       "      <td>$$</td>\n",
       "      <td>{'address1': '1101 Price St', 'address2': '', ...</td>\n",
       "      <td>1.805773e+10</td>\n",
       "      <td>(805) 773-4438</td>\n",
       "      <td>456.832734</td>\n",
       "    </tr>\n",
       "    <tr>\n",
       "      <th>1</th>\n",
       "      <td>UCH_lRmCHWBqzb0zs3Hbvg</td>\n",
       "      <td>pizmo-cafe-pismo-beach</td>\n",
       "      <td>PizMo Cafe</td>\n",
       "      <td>https://s3-media4.fl.yelpcdn.com/bphoto/rno5HY...</td>\n",
       "      <td>False</td>\n",
       "      <td>https://www.yelp.com/biz/pizmo-cafe-pismo-beac...</td>\n",
       "      <td>458</td>\n",
       "      <td>[{'alias': 'pizza', 'title': 'Pizza'}, {'alias...</td>\n",
       "      <td>4.0</td>\n",
       "      <td>{'latitude': 35.1405040480287, 'longitude': -1...</td>\n",
       "      <td>['delivery']</td>\n",
       "      <td>$$</td>\n",
       "      <td>{'address1': '270 Pomeroy Ave', 'address2': ''...</td>\n",
       "      <td>1.805556e+10</td>\n",
       "      <td>(805) 556-0347</td>\n",
       "      <td>488.774648</td>\n",
       "    </tr>\n",
       "    <tr>\n",
       "      <th>2</th>\n",
       "      <td>vxFH7N_Ntxg-pagIIWM75g</td>\n",
       "      <td>beach-pizza-grover-beach</td>\n",
       "      <td>Beach Pizza</td>\n",
       "      <td>https://s3-media3.fl.yelpcdn.com/bphoto/aCoCRY...</td>\n",
       "      <td>False</td>\n",
       "      <td>https://www.yelp.com/biz/beach-pizza-grover-be...</td>\n",
       "      <td>138</td>\n",
       "      <td>[{'alias': 'pizza', 'title': 'Pizza'}, {'alias...</td>\n",
       "      <td>4.5</td>\n",
       "      <td>{'latitude': 35.12111, 'longitude': -120.61964}</td>\n",
       "      <td>['pickup', 'delivery']</td>\n",
       "      <td>NaN</td>\n",
       "      <td>{'address1': '960 W Grand Ave', 'address2': No...</td>\n",
       "      <td>1.805474e+10</td>\n",
       "      <td>(805) 474-4499</td>\n",
       "      <td>2999.014031</td>\n",
       "    </tr>\n",
       "  </tbody>\n",
       "</table>\n",
       "</div>"
      ],
      "text/plain": [
       "                       id                      alias            name  \\\n",
       "0  Km1aQHFPP7VwvFimVByPgg  dels-pizzeria-pismo-beach  Del's Pizzeria   \n",
       "1  UCH_lRmCHWBqzb0zs3Hbvg     pizmo-cafe-pismo-beach      PizMo Cafe   \n",
       "2  vxFH7N_Ntxg-pagIIWM75g   beach-pizza-grover-beach     Beach Pizza   \n",
       "\n",
       "                                           image_url  is_closed  \\\n",
       "0  https://s3-media2.fl.yelpcdn.com/bphoto/dEgnqd...      False   \n",
       "1  https://s3-media4.fl.yelpcdn.com/bphoto/rno5HY...      False   \n",
       "2  https://s3-media3.fl.yelpcdn.com/bphoto/aCoCRY...      False   \n",
       "\n",
       "                                                 url  review_count  \\\n",
       "0  https://www.yelp.com/biz/dels-pizzeria-pismo-b...           499   \n",
       "1  https://www.yelp.com/biz/pizmo-cafe-pismo-beac...           458   \n",
       "2  https://www.yelp.com/biz/beach-pizza-grover-be...           138   \n",
       "\n",
       "                                          categories  rating  \\\n",
       "0  [{'alias': 'pizza', 'title': 'Pizza'}, {'alias...     4.0   \n",
       "1  [{'alias': 'pizza', 'title': 'Pizza'}, {'alias...     4.0   \n",
       "2  [{'alias': 'pizza', 'title': 'Pizza'}, {'alias...     4.5   \n",
       "\n",
       "                                         coordinates            transactions  \\\n",
       "0     {'latitude': 35.14405, 'longitude': -120.6429}  ['pickup', 'delivery']   \n",
       "1  {'latitude': 35.1405040480287, 'longitude': -1...            ['delivery']   \n",
       "2    {'latitude': 35.12111, 'longitude': -120.61964}  ['pickup', 'delivery']   \n",
       "\n",
       "  price                                           location         phone  \\\n",
       "0    $$  {'address1': '1101 Price St', 'address2': '', ...  1.805773e+10   \n",
       "1    $$  {'address1': '270 Pomeroy Ave', 'address2': ''...  1.805556e+10   \n",
       "2   NaN  {'address1': '960 W Grand Ave', 'address2': No...  1.805474e+10   \n",
       "\n",
       "    display_phone     distance  \n",
       "0  (805) 773-4438   456.832734  \n",
       "1  (805) 556-0347   488.774648  \n",
       "2  (805) 474-4499  2999.014031  "
      ]
     },
     "execution_count": 2,
     "metadata": {},
     "output_type": "execute_result"
    }
   ],
   "source": [
    "## Load in csv.gz\n",
    "pismo_df = pd.read_csv('Data/Pismo Beach-pizza.csv.gz')\n",
    "pismo_df.head(3)"
   ]
  },
  {
   "cell_type": "markdown",
   "id": "182d9a50",
   "metadata": {},
   "source": [
    "## Required Preprocessing "
   ]
  },
  {
   "cell_type": "markdown",
   "id": "9db8a265",
   "metadata": {},
   "source": [
    "- 1. We need to get the latitude and longitude for each business as separate columns.\n",
    "- We also want to be able to show the restaurants:\n",
    "    - name,\n",
    "    - price range\n",
    "    - address\n",
    "    - and if they do delivery or takeout."
   ]
  },
  {
   "cell_type": "markdown",
   "id": "13d541ac",
   "metadata": {},
   "source": [
    "### Separating Latitude and Longitude"
   ]
  },
  {
   "cell_type": "code",
   "execution_count": 3,
   "id": "825c85f0",
   "metadata": {},
   "outputs": [
    {
     "data": {
      "text/html": [
       "<div>\n",
       "<style scoped>\n",
       "    .dataframe tbody tr th:only-of-type {\n",
       "        vertical-align: middle;\n",
       "    }\n",
       "\n",
       "    .dataframe tbody tr th {\n",
       "        vertical-align: top;\n",
       "    }\n",
       "\n",
       "    .dataframe thead th {\n",
       "        text-align: right;\n",
       "    }\n",
       "</style>\n",
       "<table border=\"1\" class=\"dataframe\">\n",
       "  <thead>\n",
       "    <tr style=\"text-align: right;\">\n",
       "      <th></th>\n",
       "      <th>0</th>\n",
       "    </tr>\n",
       "  </thead>\n",
       "  <tbody>\n",
       "    <tr>\n",
       "      <th>0</th>\n",
       "      <td>{'latitude': 35.14405, 'longitude': -120.6429}</td>\n",
       "    </tr>\n",
       "    <tr>\n",
       "      <th>1</th>\n",
       "      <td>{'latitude': 35.1405040480287, 'longitude': -1...</td>\n",
       "    </tr>\n",
       "    <tr>\n",
       "      <th>2</th>\n",
       "      <td>{'latitude': 35.12111, 'longitude': -120.61964}</td>\n",
       "    </tr>\n",
       "    <tr>\n",
       "      <th>3</th>\n",
       "      <td>{'latitude': 35.1351676233652, 'longitude': -1...</td>\n",
       "    </tr>\n",
       "    <tr>\n",
       "      <th>4</th>\n",
       "      <td>{'latitude': 35.14256, 'longitude': -120.64055}</td>\n",
       "    </tr>\n",
       "    <tr>\n",
       "      <th>...</th>\n",
       "      <td>...</td>\n",
       "    </tr>\n",
       "    <tr>\n",
       "      <th>83</th>\n",
       "      <td>{'latitude': 35.12111, 'longitude': -120.61964}</td>\n",
       "    </tr>\n",
       "    <tr>\n",
       "      <th>84</th>\n",
       "      <td>{'latitude': 35.13642, 'longitude': -120.62505}</td>\n",
       "    </tr>\n",
       "    <tr>\n",
       "      <th>85</th>\n",
       "      <td>{'latitude': 35.2153483, 'longitude': -120.614...</td>\n",
       "    </tr>\n",
       "    <tr>\n",
       "      <th>86</th>\n",
       "      <td>{'latitude': 35.131459, 'longitude': -120.605904}</td>\n",
       "    </tr>\n",
       "    <tr>\n",
       "      <th>87</th>\n",
       "      <td>{'latitude': 35.121122, 'longitude': -120.612425}</td>\n",
       "    </tr>\n",
       "  </tbody>\n",
       "</table>\n",
       "<p>88 rows × 1 columns</p>\n",
       "</div>"
      ],
      "text/plain": [
       "                                                    0\n",
       "0      {'latitude': 35.14405, 'longitude': -120.6429}\n",
       "1   {'latitude': 35.1405040480287, 'longitude': -1...\n",
       "2     {'latitude': 35.12111, 'longitude': -120.61964}\n",
       "3   {'latitude': 35.1351676233652, 'longitude': -1...\n",
       "4     {'latitude': 35.14256, 'longitude': -120.64055}\n",
       "..                                                ...\n",
       "83    {'latitude': 35.12111, 'longitude': -120.61964}\n",
       "84    {'latitude': 35.13642, 'longitude': -120.62505}\n",
       "85  {'latitude': 35.2153483, 'longitude': -120.614...\n",
       "86  {'latitude': 35.131459, 'longitude': -120.605904}\n",
       "87  {'latitude': 35.121122, 'longitude': -120.612425}\n",
       "\n",
       "[88 rows x 1 columns]"
      ]
     },
     "execution_count": 3,
     "metadata": {},
     "output_type": "execute_result"
    }
   ],
   "source": [
    "## use .apply pd.Series to convert a dict to columns\n",
    "pismo_df['coordinates'].apply(pd.Series)"
   ]
  },
  {
   "cell_type": "markdown",
   "id": "faecca22",
   "metadata": {},
   "source": [
    "- Why didn't that work???"
   ]
  },
  {
   "cell_type": "code",
   "execution_count": 4,
   "id": "4c52b779",
   "metadata": {},
   "outputs": [
    {
     "data": {
      "text/plain": [
       "\"{'latitude': 35.14405, 'longitude': -120.6429}\""
      ]
     },
     "execution_count": 4,
     "metadata": {},
     "output_type": "execute_result"
    }
   ],
   "source": [
    "## slice out a single test coordinate\n",
    "test_coord = pismo_df.loc[0, 'coordinates']\n",
    "test_coord"
   ]
  },
  {
   "cell_type": "markdown",
   "id": "819d8252",
   "metadata": {},
   "source": [
    "- Its not a dictionary anymore!!! WTF??\n",
    "    - CSV files cant store iterables (lists, dictionaries) so they get converted to strings."
   ]
  },
  {
   "cell_type": "markdown",
   "id": "df7e7c71",
   "metadata": {},
   "source": [
    "### Fixing the String-Dictionaries"
   ]
  },
  {
   "cell_type": "markdown",
   "id": "76185b76",
   "metadata": {},
   "source": [
    "- The json module has another version of load and dump called `json.loads` and `json.dumps`\n",
    "    - These are designed to process STRINGS instead of files. \n",
    "    \n",
    "- If we use `json.loads` we can convert our string dictionary into an actual dictionary. "
   ]
  },
  {
   "cell_type": "code",
   "execution_count": 8,
   "id": "8e4ab9ed",
   "metadata": {},
   "outputs": [
    {
     "ename": "JSONDecodeError",
     "evalue": "Expecting property name enclosed in double quotes: line 1 column 2 (char 1)",
     "output_type": "error",
     "traceback": [
      "\u001b[1;31m---------------------------------------------------------------------------\u001b[0m",
      "\u001b[1;31mJSONDecodeError\u001b[0m                           Traceback (most recent call last)",
      "Cell \u001b[1;32mIn [8], line 2\u001b[0m\n\u001b[0;32m      1\u001b[0m \u001b[38;5;66;03m## Use json.loads on the test coordinate\u001b[39;00m\n\u001b[1;32m----> 2\u001b[0m \u001b[43mjson\u001b[49m\u001b[38;5;241;43m.\u001b[39;49m\u001b[43mloads\u001b[49m\u001b[43m(\u001b[49m\u001b[43mtest_coord\u001b[49m\u001b[43m)\u001b[49m\n",
      "File \u001b[1;32m~\\anaconda3\\envs\\dojo-env\\lib\\json\\__init__.py:346\u001b[0m, in \u001b[0;36mloads\u001b[1;34m(s, cls, object_hook, parse_float, parse_int, parse_constant, object_pairs_hook, **kw)\u001b[0m\n\u001b[0;32m    341\u001b[0m     s \u001b[38;5;241m=\u001b[39m s\u001b[38;5;241m.\u001b[39mdecode(detect_encoding(s), \u001b[38;5;124m'\u001b[39m\u001b[38;5;124msurrogatepass\u001b[39m\u001b[38;5;124m'\u001b[39m)\n\u001b[0;32m    343\u001b[0m \u001b[38;5;28;01mif\u001b[39;00m (\u001b[38;5;28mcls\u001b[39m \u001b[38;5;129;01mis\u001b[39;00m \u001b[38;5;28;01mNone\u001b[39;00m \u001b[38;5;129;01mand\u001b[39;00m object_hook \u001b[38;5;129;01mis\u001b[39;00m \u001b[38;5;28;01mNone\u001b[39;00m \u001b[38;5;129;01mand\u001b[39;00m\n\u001b[0;32m    344\u001b[0m         parse_int \u001b[38;5;129;01mis\u001b[39;00m \u001b[38;5;28;01mNone\u001b[39;00m \u001b[38;5;129;01mand\u001b[39;00m parse_float \u001b[38;5;129;01mis\u001b[39;00m \u001b[38;5;28;01mNone\u001b[39;00m \u001b[38;5;129;01mand\u001b[39;00m\n\u001b[0;32m    345\u001b[0m         parse_constant \u001b[38;5;129;01mis\u001b[39;00m \u001b[38;5;28;01mNone\u001b[39;00m \u001b[38;5;129;01mand\u001b[39;00m object_pairs_hook \u001b[38;5;129;01mis\u001b[39;00m \u001b[38;5;28;01mNone\u001b[39;00m \u001b[38;5;129;01mand\u001b[39;00m \u001b[38;5;129;01mnot\u001b[39;00m kw):\n\u001b[1;32m--> 346\u001b[0m     \u001b[38;5;28;01mreturn\u001b[39;00m \u001b[43m_default_decoder\u001b[49m\u001b[38;5;241;43m.\u001b[39;49m\u001b[43mdecode\u001b[49m\u001b[43m(\u001b[49m\u001b[43ms\u001b[49m\u001b[43m)\u001b[49m\n\u001b[0;32m    347\u001b[0m \u001b[38;5;28;01mif\u001b[39;00m \u001b[38;5;28mcls\u001b[39m \u001b[38;5;129;01mis\u001b[39;00m \u001b[38;5;28;01mNone\u001b[39;00m:\n\u001b[0;32m    348\u001b[0m     \u001b[38;5;28mcls\u001b[39m \u001b[38;5;241m=\u001b[39m JSONDecoder\n",
      "File \u001b[1;32m~\\anaconda3\\envs\\dojo-env\\lib\\json\\decoder.py:337\u001b[0m, in \u001b[0;36mJSONDecoder.decode\u001b[1;34m(self, s, _w)\u001b[0m\n\u001b[0;32m    332\u001b[0m \u001b[38;5;28;01mdef\u001b[39;00m \u001b[38;5;21mdecode\u001b[39m(\u001b[38;5;28mself\u001b[39m, s, _w\u001b[38;5;241m=\u001b[39mWHITESPACE\u001b[38;5;241m.\u001b[39mmatch):\n\u001b[0;32m    333\u001b[0m     \u001b[38;5;124;03m\"\"\"Return the Python representation of ``s`` (a ``str`` instance\u001b[39;00m\n\u001b[0;32m    334\u001b[0m \u001b[38;5;124;03m    containing a JSON document).\u001b[39;00m\n\u001b[0;32m    335\u001b[0m \n\u001b[0;32m    336\u001b[0m \u001b[38;5;124;03m    \"\"\"\u001b[39;00m\n\u001b[1;32m--> 337\u001b[0m     obj, end \u001b[38;5;241m=\u001b[39m \u001b[38;5;28;43mself\u001b[39;49m\u001b[38;5;241;43m.\u001b[39;49m\u001b[43mraw_decode\u001b[49m\u001b[43m(\u001b[49m\u001b[43ms\u001b[49m\u001b[43m,\u001b[49m\u001b[43m \u001b[49m\u001b[43midx\u001b[49m\u001b[38;5;241;43m=\u001b[39;49m\u001b[43m_w\u001b[49m\u001b[43m(\u001b[49m\u001b[43ms\u001b[49m\u001b[43m,\u001b[49m\u001b[43m \u001b[49m\u001b[38;5;241;43m0\u001b[39;49m\u001b[43m)\u001b[49m\u001b[38;5;241;43m.\u001b[39;49m\u001b[43mend\u001b[49m\u001b[43m(\u001b[49m\u001b[43m)\u001b[49m\u001b[43m)\u001b[49m\n\u001b[0;32m    338\u001b[0m     end \u001b[38;5;241m=\u001b[39m _w(s, end)\u001b[38;5;241m.\u001b[39mend()\n\u001b[0;32m    339\u001b[0m     \u001b[38;5;28;01mif\u001b[39;00m end \u001b[38;5;241m!=\u001b[39m \u001b[38;5;28mlen\u001b[39m(s):\n",
      "File \u001b[1;32m~\\anaconda3\\envs\\dojo-env\\lib\\json\\decoder.py:353\u001b[0m, in \u001b[0;36mJSONDecoder.raw_decode\u001b[1;34m(self, s, idx)\u001b[0m\n\u001b[0;32m    344\u001b[0m \u001b[38;5;124;03m\"\"\"Decode a JSON document from ``s`` (a ``str`` beginning with\u001b[39;00m\n\u001b[0;32m    345\u001b[0m \u001b[38;5;124;03ma JSON document) and return a 2-tuple of the Python\u001b[39;00m\n\u001b[0;32m    346\u001b[0m \u001b[38;5;124;03mrepresentation and the index in ``s`` where the document ended.\u001b[39;00m\n\u001b[1;32m   (...)\u001b[0m\n\u001b[0;32m    350\u001b[0m \n\u001b[0;32m    351\u001b[0m \u001b[38;5;124;03m\"\"\"\u001b[39;00m\n\u001b[0;32m    352\u001b[0m \u001b[38;5;28;01mtry\u001b[39;00m:\n\u001b[1;32m--> 353\u001b[0m     obj, end \u001b[38;5;241m=\u001b[39m \u001b[38;5;28;43mself\u001b[39;49m\u001b[38;5;241;43m.\u001b[39;49m\u001b[43mscan_once\u001b[49m\u001b[43m(\u001b[49m\u001b[43ms\u001b[49m\u001b[43m,\u001b[49m\u001b[43m \u001b[49m\u001b[43midx\u001b[49m\u001b[43m)\u001b[49m\n\u001b[0;32m    354\u001b[0m \u001b[38;5;28;01mexcept\u001b[39;00m \u001b[38;5;167;01mStopIteration\u001b[39;00m \u001b[38;5;28;01mas\u001b[39;00m err:\n\u001b[0;32m    355\u001b[0m     \u001b[38;5;28;01mraise\u001b[39;00m JSONDecodeError(\u001b[38;5;124m\"\u001b[39m\u001b[38;5;124mExpecting value\u001b[39m\u001b[38;5;124m\"\u001b[39m, s, err\u001b[38;5;241m.\u001b[39mvalue) \u001b[38;5;28;01mfrom\u001b[39;00m \u001b[38;5;28mNone\u001b[39m\n",
      "\u001b[1;31mJSONDecodeError\u001b[0m: Expecting property name enclosed in double quotes: line 1 column 2 (char 1)"
     ]
    }
   ],
   "source": [
    "## Use json.loads on the test coordinate\n",
    "json.loads(test_coord)"
   ]
  },
  {
   "cell_type": "markdown",
   "id": "89771042",
   "metadata": {},
   "source": [
    "- JSON requires double quotes!"
   ]
  },
  {
   "cell_type": "code",
   "execution_count": 5,
   "id": "25a459c3",
   "metadata": {},
   "outputs": [
    {
     "data": {
      "text/plain": [
       "'{\"latitude\": 35.14405, \"longitude\": -120.6429}'"
      ]
     },
     "execution_count": 5,
     "metadata": {},
     "output_type": "execute_result"
    }
   ],
   "source": [
    "## replace single ' with \" \n",
    "test_coord = test_coord.replace(\"'\", '\"')\n",
    "test_coord"
   ]
  },
  {
   "cell_type": "code",
   "execution_count": 6,
   "id": "baf7b4ce",
   "metadata": {},
   "outputs": [
    {
     "data": {
      "text/plain": [
       "{'latitude': 35.14405, 'longitude': -120.6429}"
      ]
     },
     "execution_count": 6,
     "metadata": {},
     "output_type": "execute_result"
    }
   ],
   "source": [
    "## Use json.loads on the test coordinate, again\n",
    "json.loads(test_coord)"
   ]
  },
  {
   "cell_type": "markdown",
   "id": "ac9a2c61",
   "metadata": {},
   "source": [
    "### Now, how can we apply this same process to the entire column??"
   ]
  },
  {
   "cell_type": "code",
   "execution_count": 7,
   "id": "815d26be",
   "metadata": {},
   "outputs": [],
   "source": [
    "## replace ' with \" (entire column)\n",
    "pismo_df['coordinates'] = pismo_df['coordinates'].str.replace(\"'\",'\"')\n",
    "## apply json.loads\n",
    "pismo_df['coordinates'] = pismo_df['coordinates'].apply(json.loads)"
   ]
  },
  {
   "cell_type": "code",
   "execution_count": 8,
   "id": "b417c990",
   "metadata": {},
   "outputs": [
    {
     "data": {
      "text/plain": [
       "{'latitude': 35.12111, 'longitude': -120.61964}"
      ]
     },
     "execution_count": 8,
     "metadata": {},
     "output_type": "execute_result"
    }
   ],
   "source": [
    "## slice out a single test coordinate\n",
    "test_coord = pismo_df.loc[2, 'coordinates']\n",
    "test_coord"
   ]
  },
  {
   "cell_type": "markdown",
   "id": "a825c2f4",
   "metadata": {},
   "source": [
    "### Using Apply with pd.Series to convert a dictionary column into multiple columns"
   ]
  },
  {
   "cell_type": "code",
   "execution_count": 9,
   "id": "9b06ad2c",
   "metadata": {},
   "outputs": [
    {
     "data": {
      "text/html": [
       "<div>\n",
       "<style scoped>\n",
       "    .dataframe tbody tr th:only-of-type {\n",
       "        vertical-align: middle;\n",
       "    }\n",
       "\n",
       "    .dataframe tbody tr th {\n",
       "        vertical-align: top;\n",
       "    }\n",
       "\n",
       "    .dataframe thead th {\n",
       "        text-align: right;\n",
       "    }\n",
       "</style>\n",
       "<table border=\"1\" class=\"dataframe\">\n",
       "  <thead>\n",
       "    <tr style=\"text-align: right;\">\n",
       "      <th></th>\n",
       "      <th>latitude</th>\n",
       "      <th>longitude</th>\n",
       "    </tr>\n",
       "  </thead>\n",
       "  <tbody>\n",
       "    <tr>\n",
       "      <th>0</th>\n",
       "      <td>35.144050</td>\n",
       "      <td>-120.642900</td>\n",
       "    </tr>\n",
       "    <tr>\n",
       "      <th>1</th>\n",
       "      <td>35.140504</td>\n",
       "      <td>-120.641385</td>\n",
       "    </tr>\n",
       "    <tr>\n",
       "      <th>2</th>\n",
       "      <td>35.121110</td>\n",
       "      <td>-120.619640</td>\n",
       "    </tr>\n",
       "    <tr>\n",
       "      <th>3</th>\n",
       "      <td>35.135168</td>\n",
       "      <td>-120.624588</td>\n",
       "    </tr>\n",
       "    <tr>\n",
       "      <th>4</th>\n",
       "      <td>35.142560</td>\n",
       "      <td>-120.640550</td>\n",
       "    </tr>\n",
       "    <tr>\n",
       "      <th>...</th>\n",
       "      <td>...</td>\n",
       "      <td>...</td>\n",
       "    </tr>\n",
       "    <tr>\n",
       "      <th>83</th>\n",
       "      <td>35.121110</td>\n",
       "      <td>-120.619640</td>\n",
       "    </tr>\n",
       "    <tr>\n",
       "      <th>84</th>\n",
       "      <td>35.136420</td>\n",
       "      <td>-120.625050</td>\n",
       "    </tr>\n",
       "    <tr>\n",
       "      <th>85</th>\n",
       "      <td>35.215348</td>\n",
       "      <td>-120.614705</td>\n",
       "    </tr>\n",
       "    <tr>\n",
       "      <th>86</th>\n",
       "      <td>35.131459</td>\n",
       "      <td>-120.605904</td>\n",
       "    </tr>\n",
       "    <tr>\n",
       "      <th>87</th>\n",
       "      <td>35.121122</td>\n",
       "      <td>-120.612425</td>\n",
       "    </tr>\n",
       "  </tbody>\n",
       "</table>\n",
       "<p>88 rows × 2 columns</p>\n",
       "</div>"
      ],
      "text/plain": [
       "     latitude   longitude\n",
       "0   35.144050 -120.642900\n",
       "1   35.140504 -120.641385\n",
       "2   35.121110 -120.619640\n",
       "3   35.135168 -120.624588\n",
       "4   35.142560 -120.640550\n",
       "..        ...         ...\n",
       "83  35.121110 -120.619640\n",
       "84  35.136420 -120.625050\n",
       "85  35.215348 -120.614705\n",
       "86  35.131459 -120.605904\n",
       "87  35.121122 -120.612425\n",
       "\n",
       "[88 rows x 2 columns]"
      ]
     },
     "execution_count": 9,
     "metadata": {},
     "output_type": "execute_result"
    }
   ],
   "source": [
    "## use .apply pd.Series to convert a dict to columns\n",
    "pismo_df['coordinates'].apply(pd.Series)"
   ]
  },
  {
   "cell_type": "code",
   "execution_count": 10,
   "id": "a09d00b1",
   "metadata": {},
   "outputs": [
    {
     "data": {
      "text/html": [
       "<div>\n",
       "<style scoped>\n",
       "    .dataframe tbody tr th:only-of-type {\n",
       "        vertical-align: middle;\n",
       "    }\n",
       "\n",
       "    .dataframe tbody tr th {\n",
       "        vertical-align: top;\n",
       "    }\n",
       "\n",
       "    .dataframe thead th {\n",
       "        text-align: right;\n",
       "    }\n",
       "</style>\n",
       "<table border=\"1\" class=\"dataframe\">\n",
       "  <thead>\n",
       "    <tr style=\"text-align: right;\">\n",
       "      <th></th>\n",
       "      <th>id</th>\n",
       "      <th>alias</th>\n",
       "      <th>name</th>\n",
       "      <th>image_url</th>\n",
       "      <th>is_closed</th>\n",
       "      <th>url</th>\n",
       "      <th>review_count</th>\n",
       "      <th>categories</th>\n",
       "      <th>rating</th>\n",
       "      <th>transactions</th>\n",
       "      <th>price</th>\n",
       "      <th>location</th>\n",
       "      <th>phone</th>\n",
       "      <th>display_phone</th>\n",
       "      <th>distance</th>\n",
       "      <th>latitude</th>\n",
       "      <th>longitude</th>\n",
       "    </tr>\n",
       "  </thead>\n",
       "  <tbody>\n",
       "    <tr>\n",
       "      <th>0</th>\n",
       "      <td>Km1aQHFPP7VwvFimVByPgg</td>\n",
       "      <td>dels-pizzeria-pismo-beach</td>\n",
       "      <td>Del's Pizzeria</td>\n",
       "      <td>https://s3-media2.fl.yelpcdn.com/bphoto/dEgnqd...</td>\n",
       "      <td>False</td>\n",
       "      <td>https://www.yelp.com/biz/dels-pizzeria-pismo-b...</td>\n",
       "      <td>499</td>\n",
       "      <td>[{'alias': 'pizza', 'title': 'Pizza'}, {'alias...</td>\n",
       "      <td>4.0</td>\n",
       "      <td>['pickup', 'delivery']</td>\n",
       "      <td>$$</td>\n",
       "      <td>{'address1': '1101 Price St', 'address2': '', ...</td>\n",
       "      <td>1.805773e+10</td>\n",
       "      <td>(805) 773-4438</td>\n",
       "      <td>456.832734</td>\n",
       "      <td>35.144050</td>\n",
       "      <td>-120.642900</td>\n",
       "    </tr>\n",
       "    <tr>\n",
       "      <th>1</th>\n",
       "      <td>UCH_lRmCHWBqzb0zs3Hbvg</td>\n",
       "      <td>pizmo-cafe-pismo-beach</td>\n",
       "      <td>PizMo Cafe</td>\n",
       "      <td>https://s3-media4.fl.yelpcdn.com/bphoto/rno5HY...</td>\n",
       "      <td>False</td>\n",
       "      <td>https://www.yelp.com/biz/pizmo-cafe-pismo-beac...</td>\n",
       "      <td>458</td>\n",
       "      <td>[{'alias': 'pizza', 'title': 'Pizza'}, {'alias...</td>\n",
       "      <td>4.0</td>\n",
       "      <td>['delivery']</td>\n",
       "      <td>$$</td>\n",
       "      <td>{'address1': '270 Pomeroy Ave', 'address2': ''...</td>\n",
       "      <td>1.805556e+10</td>\n",
       "      <td>(805) 556-0347</td>\n",
       "      <td>488.774648</td>\n",
       "      <td>35.140504</td>\n",
       "      <td>-120.641385</td>\n",
       "    </tr>\n",
       "    <tr>\n",
       "      <th>2</th>\n",
       "      <td>vxFH7N_Ntxg-pagIIWM75g</td>\n",
       "      <td>beach-pizza-grover-beach</td>\n",
       "      <td>Beach Pizza</td>\n",
       "      <td>https://s3-media3.fl.yelpcdn.com/bphoto/aCoCRY...</td>\n",
       "      <td>False</td>\n",
       "      <td>https://www.yelp.com/biz/beach-pizza-grover-be...</td>\n",
       "      <td>138</td>\n",
       "      <td>[{'alias': 'pizza', 'title': 'Pizza'}, {'alias...</td>\n",
       "      <td>4.5</td>\n",
       "      <td>['pickup', 'delivery']</td>\n",
       "      <td>NaN</td>\n",
       "      <td>{'address1': '960 W Grand Ave', 'address2': No...</td>\n",
       "      <td>1.805474e+10</td>\n",
       "      <td>(805) 474-4499</td>\n",
       "      <td>2999.014031</td>\n",
       "      <td>35.121110</td>\n",
       "      <td>-120.619640</td>\n",
       "    </tr>\n",
       "  </tbody>\n",
       "</table>\n",
       "</div>"
      ],
      "text/plain": [
       "                       id                      alias            name  \\\n",
       "0  Km1aQHFPP7VwvFimVByPgg  dels-pizzeria-pismo-beach  Del's Pizzeria   \n",
       "1  UCH_lRmCHWBqzb0zs3Hbvg     pizmo-cafe-pismo-beach      PizMo Cafe   \n",
       "2  vxFH7N_Ntxg-pagIIWM75g   beach-pizza-grover-beach     Beach Pizza   \n",
       "\n",
       "                                           image_url  is_closed  \\\n",
       "0  https://s3-media2.fl.yelpcdn.com/bphoto/dEgnqd...      False   \n",
       "1  https://s3-media4.fl.yelpcdn.com/bphoto/rno5HY...      False   \n",
       "2  https://s3-media3.fl.yelpcdn.com/bphoto/aCoCRY...      False   \n",
       "\n",
       "                                                 url  review_count  \\\n",
       "0  https://www.yelp.com/biz/dels-pizzeria-pismo-b...           499   \n",
       "1  https://www.yelp.com/biz/pizmo-cafe-pismo-beac...           458   \n",
       "2  https://www.yelp.com/biz/beach-pizza-grover-be...           138   \n",
       "\n",
       "                                          categories  rating  \\\n",
       "0  [{'alias': 'pizza', 'title': 'Pizza'}, {'alias...     4.0   \n",
       "1  [{'alias': 'pizza', 'title': 'Pizza'}, {'alias...     4.0   \n",
       "2  [{'alias': 'pizza', 'title': 'Pizza'}, {'alias...     4.5   \n",
       "\n",
       "             transactions price  \\\n",
       "0  ['pickup', 'delivery']    $$   \n",
       "1            ['delivery']    $$   \n",
       "2  ['pickup', 'delivery']   NaN   \n",
       "\n",
       "                                            location         phone  \\\n",
       "0  {'address1': '1101 Price St', 'address2': '', ...  1.805773e+10   \n",
       "1  {'address1': '270 Pomeroy Ave', 'address2': ''...  1.805556e+10   \n",
       "2  {'address1': '960 W Grand Ave', 'address2': No...  1.805474e+10   \n",
       "\n",
       "    display_phone     distance   latitude   longitude  \n",
       "0  (805) 773-4438   456.832734  35.144050 -120.642900  \n",
       "1  (805) 556-0347   488.774648  35.140504 -120.641385  \n",
       "2  (805) 474-4499  2999.014031  35.121110 -120.619640  "
      ]
     },
     "execution_count": 10,
     "metadata": {},
     "output_type": "execute_result"
    }
   ],
   "source": [
    "## Concatenate the 2 new columns and drop the original.\n",
    "pismo_df = pd.concat([pismo_df, pismo_df['coordinates'].apply(pd.Series)], axis = 1)\n",
    "pismo_df = pismo_df.drop(columns = ['coordinates'])\n",
    "pismo_df.head(3)"
   ]
  },
  {
   "cell_type": "markdown",
   "id": "56b25f7a",
   "metadata": {},
   "source": [
    "## Creating a Simple Map"
   ]
  },
  {
   "cell_type": "markdown",
   "id": "cd5bc110",
   "metadata": {},
   "source": [
    "### Register for MapBox API"
   ]
  },
  {
   "cell_type": "markdown",
   "id": "73c91d8f",
   "metadata": {},
   "source": [
    "Mapbox API: https://www.mapbox.com/"
   ]
  },
  {
   "cell_type": "code",
   "execution_count": 13,
   "id": "2e9b4e94",
   "metadata": {},
   "outputs": [
    {
     "data": {
      "text/plain": [
       "dict_keys(['client_id', 'token'])"
      ]
     },
     "execution_count": 13,
     "metadata": {},
     "output_type": "execute_result"
    }
   ],
   "source": [
    "## Load in mapbox api credentials from .secret\n",
    "with open('/Users/tyler/.secret/mapbox.json') as f:\n",
    "    login = json.load(f)\n",
    "login.keys()"
   ]
  },
  {
   "cell_type": "markdown",
   "id": "cdb5689c",
   "metadata": {},
   "source": [
    "- Use the plotly express `set_maptbox_acccess_token` function"
   ]
  },
  {
   "cell_type": "code",
   "execution_count": 14,
   "id": "7bf3a1c1",
   "metadata": {},
   "outputs": [],
   "source": [
    "## set mapbox token\n",
    "px.set_mapbox_access_token(login['token'])"
   ]
  },
  {
   "cell_type": "code",
   "execution_count": 16,
   "id": "2214befe",
   "metadata": {},
   "outputs": [
    {
     "data": {
      "application/vnd.plotly.v1+json": {
       "config": {
        "plotlyServerURL": "https://plot.ly"
       },
       "data": [
        {
         "hovertemplate": "latitude=%{lat}<br>longitude=%{lon}<extra></extra>",
         "lat": [
          35.14405,
          35.1405040480287,
          35.12111,
          35.1351676233652,
          35.14256,
          35.1421,
          35.14017,
          35.12283,
          35.13878,
          35.14826862632902,
          35.1217466,
          35.120422,
          35.140673,
          35.1211137,
          35.122914,
          35.129473,
          35.1405919,
          35.12065823930062,
          35.1271688491754,
          35.1390422,
          35.1788187,
          35.11976049553751,
          35.17865,
          35.1579024160989,
          35.1395782866043,
          35.120827,
          35.128611,
          35.12367,
          35.121512527192415,
          35.1398105,
          35.0807952880859,
          35.1571807,
          35.12105,
          35.12115,
          35.12136,
          35.1792793,
          35.1423,
          35.13422,
          35.14016,
          35.13744,
          35.156578673999945,
          35.14179,
          35.14499,
          35.14041,
          35.1238970063092,
          35.16448,
          35.135665,
          35.1214790344238,
          35.157196,
          35.1790429145274,
          35.098442,
          35.1400099,
          35.1895964,
          35.1584181,
          35.13671,
          35.122148717721295,
          35.124651,
          35.1791,
          35.13201,
          35.1246138357304,
          35.18598306812193,
          35.143059,
          35.1073832,
          35.16444158956,
          35.11998,
          35.1350709847763,
          35.130022,
          35.123955,
          35.16329,
          35.1209503,
          35.12226305902,
          35.11928923068244,
          35.12324,
          35.12174,
          35.105072207875,
          35.1214,
          35.13723,
          35.119293,
          35.1212526022,
          35.1211137,
          35.1215320500822,
          35.1191471731716,
          35.11933,
          35.12111,
          35.13642,
          35.2153483,
          35.131459,
          35.121122
         ],
         "legendgroup": "",
         "lon": [
          -120.6429,
          -120.64138521999335,
          -120.61964,
          -120.624588188729,
          -120.64055,
          -120.64004,
          -120.63844,
          -120.58113,
          -120.64188,
          -120.64872596256193,
          -120.6285786,
          -120.608416,
          -120.640953,
          -120.6097587,
          -120.579206,
          -120.608468,
          -120.6417756,
          -120.61321266123021,
          -120.594927600102,
          -120.6408786,
          -120.7336868,
          -120.60226098442318,
          -120.73232,
          -120.672956889546,
          -120.643026373415,
          -120.611361,
          -120.597323,
          -120.57758,
          -120.61512424116302,
          -120.642319,
          -120.585754394531,
          -120.6713944,
          -120.60584,
          -120.59935,
          -120.60708,
          -120.7344666,
          -120.64026,
          -120.63768,
          -120.64242,
          -120.64148,
          -120.66992268238636,
          -120.64058,
          -120.64562,
          -120.64209,
          -120.57749658823,
          -120.68907,
          -120.623893,
          -120.625663757324,
          -120.670888,
          -120.733764740916,
          -120.60942,
          -120.64255,
          -120.721367,
          -120.6744566,
          -120.64104,
          -120.627865,
          -120.576662,
          -120.7338,
          -120.60796,
          -120.575822075593,
          -120.71281920653769,
          -120.641823,
          -120.6240768,
          -120.689234733582,
          -120.6088233,
          -120.6250463672,
          -120.608488,
          -120.5773181,
          -120.6886,
          -120.6120674,
          -120.633662715554,
          -120.60193853157756,
          -120.57984,
          -120.61934,
          -120.621940771099,
          -120.61175,
          -120.62932,
          -120.601132,
          -120.618937537,
          -120.6097587,
          -120.608323216438,
          -120.591320535186,
          -120.57651,
          -120.61964,
          -120.62505,
          -120.6147054,
          -120.605904,
          -120.612425
         ],
         "marker": {
          "color": "#636efa"
         },
         "mode": "markers",
         "name": "",
         "showlegend": false,
         "subplot": "mapbox",
         "type": "scattermapbox"
        }
       ],
       "layout": {
        "legend": {
         "tracegroupgap": 0
        },
        "mapbox": {
         "accesstoken": "pk.eyJ1IjoidHNjaGVsbGkiLCJhIjoiY2xienVseWJnMmFndjNvbml6bnl2cmY5ZSJ9.4OsA0FBjje5eniwvzW0CKA",
         "center": {
          "lat": 35.13597893236272,
          "lon": -120.63157800652635
         },
         "domain": {
          "x": [
           0,
           1
          ],
          "y": [
           0,
           1
          ]
         },
         "style": "open-street-map",
         "zoom": 8
        },
        "margin": {
         "t": 60
        },
        "template": {
         "data": {
          "bar": [
           {
            "error_x": {
             "color": "#2a3f5f"
            },
            "error_y": {
             "color": "#2a3f5f"
            },
            "marker": {
             "line": {
              "color": "#E5ECF6",
              "width": 0.5
             },
             "pattern": {
              "fillmode": "overlay",
              "size": 10,
              "solidity": 0.2
             }
            },
            "type": "bar"
           }
          ],
          "barpolar": [
           {
            "marker": {
             "line": {
              "color": "#E5ECF6",
              "width": 0.5
             },
             "pattern": {
              "fillmode": "overlay",
              "size": 10,
              "solidity": 0.2
             }
            },
            "type": "barpolar"
           }
          ],
          "carpet": [
           {
            "aaxis": {
             "endlinecolor": "#2a3f5f",
             "gridcolor": "white",
             "linecolor": "white",
             "minorgridcolor": "white",
             "startlinecolor": "#2a3f5f"
            },
            "baxis": {
             "endlinecolor": "#2a3f5f",
             "gridcolor": "white",
             "linecolor": "white",
             "minorgridcolor": "white",
             "startlinecolor": "#2a3f5f"
            },
            "type": "carpet"
           }
          ],
          "choropleth": [
           {
            "colorbar": {
             "outlinewidth": 0,
             "ticks": ""
            },
            "type": "choropleth"
           }
          ],
          "contour": [
           {
            "colorbar": {
             "outlinewidth": 0,
             "ticks": ""
            },
            "colorscale": [
             [
              0,
              "#0d0887"
             ],
             [
              0.1111111111111111,
              "#46039f"
             ],
             [
              0.2222222222222222,
              "#7201a8"
             ],
             [
              0.3333333333333333,
              "#9c179e"
             ],
             [
              0.4444444444444444,
              "#bd3786"
             ],
             [
              0.5555555555555556,
              "#d8576b"
             ],
             [
              0.6666666666666666,
              "#ed7953"
             ],
             [
              0.7777777777777778,
              "#fb9f3a"
             ],
             [
              0.8888888888888888,
              "#fdca26"
             ],
             [
              1,
              "#f0f921"
             ]
            ],
            "type": "contour"
           }
          ],
          "contourcarpet": [
           {
            "colorbar": {
             "outlinewidth": 0,
             "ticks": ""
            },
            "type": "contourcarpet"
           }
          ],
          "heatmap": [
           {
            "colorbar": {
             "outlinewidth": 0,
             "ticks": ""
            },
            "colorscale": [
             [
              0,
              "#0d0887"
             ],
             [
              0.1111111111111111,
              "#46039f"
             ],
             [
              0.2222222222222222,
              "#7201a8"
             ],
             [
              0.3333333333333333,
              "#9c179e"
             ],
             [
              0.4444444444444444,
              "#bd3786"
             ],
             [
              0.5555555555555556,
              "#d8576b"
             ],
             [
              0.6666666666666666,
              "#ed7953"
             ],
             [
              0.7777777777777778,
              "#fb9f3a"
             ],
             [
              0.8888888888888888,
              "#fdca26"
             ],
             [
              1,
              "#f0f921"
             ]
            ],
            "type": "heatmap"
           }
          ],
          "heatmapgl": [
           {
            "colorbar": {
             "outlinewidth": 0,
             "ticks": ""
            },
            "colorscale": [
             [
              0,
              "#0d0887"
             ],
             [
              0.1111111111111111,
              "#46039f"
             ],
             [
              0.2222222222222222,
              "#7201a8"
             ],
             [
              0.3333333333333333,
              "#9c179e"
             ],
             [
              0.4444444444444444,
              "#bd3786"
             ],
             [
              0.5555555555555556,
              "#d8576b"
             ],
             [
              0.6666666666666666,
              "#ed7953"
             ],
             [
              0.7777777777777778,
              "#fb9f3a"
             ],
             [
              0.8888888888888888,
              "#fdca26"
             ],
             [
              1,
              "#f0f921"
             ]
            ],
            "type": "heatmapgl"
           }
          ],
          "histogram": [
           {
            "marker": {
             "pattern": {
              "fillmode": "overlay",
              "size": 10,
              "solidity": 0.2
             }
            },
            "type": "histogram"
           }
          ],
          "histogram2d": [
           {
            "colorbar": {
             "outlinewidth": 0,
             "ticks": ""
            },
            "colorscale": [
             [
              0,
              "#0d0887"
             ],
             [
              0.1111111111111111,
              "#46039f"
             ],
             [
              0.2222222222222222,
              "#7201a8"
             ],
             [
              0.3333333333333333,
              "#9c179e"
             ],
             [
              0.4444444444444444,
              "#bd3786"
             ],
             [
              0.5555555555555556,
              "#d8576b"
             ],
             [
              0.6666666666666666,
              "#ed7953"
             ],
             [
              0.7777777777777778,
              "#fb9f3a"
             ],
             [
              0.8888888888888888,
              "#fdca26"
             ],
             [
              1,
              "#f0f921"
             ]
            ],
            "type": "histogram2d"
           }
          ],
          "histogram2dcontour": [
           {
            "colorbar": {
             "outlinewidth": 0,
             "ticks": ""
            },
            "colorscale": [
             [
              0,
              "#0d0887"
             ],
             [
              0.1111111111111111,
              "#46039f"
             ],
             [
              0.2222222222222222,
              "#7201a8"
             ],
             [
              0.3333333333333333,
              "#9c179e"
             ],
             [
              0.4444444444444444,
              "#bd3786"
             ],
             [
              0.5555555555555556,
              "#d8576b"
             ],
             [
              0.6666666666666666,
              "#ed7953"
             ],
             [
              0.7777777777777778,
              "#fb9f3a"
             ],
             [
              0.8888888888888888,
              "#fdca26"
             ],
             [
              1,
              "#f0f921"
             ]
            ],
            "type": "histogram2dcontour"
           }
          ],
          "mesh3d": [
           {
            "colorbar": {
             "outlinewidth": 0,
             "ticks": ""
            },
            "type": "mesh3d"
           }
          ],
          "parcoords": [
           {
            "line": {
             "colorbar": {
              "outlinewidth": 0,
              "ticks": ""
             }
            },
            "type": "parcoords"
           }
          ],
          "pie": [
           {
            "automargin": true,
            "type": "pie"
           }
          ],
          "scatter": [
           {
            "fillpattern": {
             "fillmode": "overlay",
             "size": 10,
             "solidity": 0.2
            },
            "type": "scatter"
           }
          ],
          "scatter3d": [
           {
            "line": {
             "colorbar": {
              "outlinewidth": 0,
              "ticks": ""
             }
            },
            "marker": {
             "colorbar": {
              "outlinewidth": 0,
              "ticks": ""
             }
            },
            "type": "scatter3d"
           }
          ],
          "scattercarpet": [
           {
            "marker": {
             "colorbar": {
              "outlinewidth": 0,
              "ticks": ""
             }
            },
            "type": "scattercarpet"
           }
          ],
          "scattergeo": [
           {
            "marker": {
             "colorbar": {
              "outlinewidth": 0,
              "ticks": ""
             }
            },
            "type": "scattergeo"
           }
          ],
          "scattergl": [
           {
            "marker": {
             "colorbar": {
              "outlinewidth": 0,
              "ticks": ""
             }
            },
            "type": "scattergl"
           }
          ],
          "scattermapbox": [
           {
            "marker": {
             "colorbar": {
              "outlinewidth": 0,
              "ticks": ""
             }
            },
            "type": "scattermapbox"
           }
          ],
          "scatterpolar": [
           {
            "marker": {
             "colorbar": {
              "outlinewidth": 0,
              "ticks": ""
             }
            },
            "type": "scatterpolar"
           }
          ],
          "scatterpolargl": [
           {
            "marker": {
             "colorbar": {
              "outlinewidth": 0,
              "ticks": ""
             }
            },
            "type": "scatterpolargl"
           }
          ],
          "scatterternary": [
           {
            "marker": {
             "colorbar": {
              "outlinewidth": 0,
              "ticks": ""
             }
            },
            "type": "scatterternary"
           }
          ],
          "surface": [
           {
            "colorbar": {
             "outlinewidth": 0,
             "ticks": ""
            },
            "colorscale": [
             [
              0,
              "#0d0887"
             ],
             [
              0.1111111111111111,
              "#46039f"
             ],
             [
              0.2222222222222222,
              "#7201a8"
             ],
             [
              0.3333333333333333,
              "#9c179e"
             ],
             [
              0.4444444444444444,
              "#bd3786"
             ],
             [
              0.5555555555555556,
              "#d8576b"
             ],
             [
              0.6666666666666666,
              "#ed7953"
             ],
             [
              0.7777777777777778,
              "#fb9f3a"
             ],
             [
              0.8888888888888888,
              "#fdca26"
             ],
             [
              1,
              "#f0f921"
             ]
            ],
            "type": "surface"
           }
          ],
          "table": [
           {
            "cells": {
             "fill": {
              "color": "#EBF0F8"
             },
             "line": {
              "color": "white"
             }
            },
            "header": {
             "fill": {
              "color": "#C8D4E3"
             },
             "line": {
              "color": "white"
             }
            },
            "type": "table"
           }
          ]
         },
         "layout": {
          "annotationdefaults": {
           "arrowcolor": "#2a3f5f",
           "arrowhead": 0,
           "arrowwidth": 1
          },
          "autotypenumbers": "strict",
          "coloraxis": {
           "colorbar": {
            "outlinewidth": 0,
            "ticks": ""
           }
          },
          "colorscale": {
           "diverging": [
            [
             0,
             "#8e0152"
            ],
            [
             0.1,
             "#c51b7d"
            ],
            [
             0.2,
             "#de77ae"
            ],
            [
             0.3,
             "#f1b6da"
            ],
            [
             0.4,
             "#fde0ef"
            ],
            [
             0.5,
             "#f7f7f7"
            ],
            [
             0.6,
             "#e6f5d0"
            ],
            [
             0.7,
             "#b8e186"
            ],
            [
             0.8,
             "#7fbc41"
            ],
            [
             0.9,
             "#4d9221"
            ],
            [
             1,
             "#276419"
            ]
           ],
           "sequential": [
            [
             0,
             "#0d0887"
            ],
            [
             0.1111111111111111,
             "#46039f"
            ],
            [
             0.2222222222222222,
             "#7201a8"
            ],
            [
             0.3333333333333333,
             "#9c179e"
            ],
            [
             0.4444444444444444,
             "#bd3786"
            ],
            [
             0.5555555555555556,
             "#d8576b"
            ],
            [
             0.6666666666666666,
             "#ed7953"
            ],
            [
             0.7777777777777778,
             "#fb9f3a"
            ],
            [
             0.8888888888888888,
             "#fdca26"
            ],
            [
             1,
             "#f0f921"
            ]
           ],
           "sequentialminus": [
            [
             0,
             "#0d0887"
            ],
            [
             0.1111111111111111,
             "#46039f"
            ],
            [
             0.2222222222222222,
             "#7201a8"
            ],
            [
             0.3333333333333333,
             "#9c179e"
            ],
            [
             0.4444444444444444,
             "#bd3786"
            ],
            [
             0.5555555555555556,
             "#d8576b"
            ],
            [
             0.6666666666666666,
             "#ed7953"
            ],
            [
             0.7777777777777778,
             "#fb9f3a"
            ],
            [
             0.8888888888888888,
             "#fdca26"
            ],
            [
             1,
             "#f0f921"
            ]
           ]
          },
          "colorway": [
           "#636efa",
           "#EF553B",
           "#00cc96",
           "#ab63fa",
           "#FFA15A",
           "#19d3f3",
           "#FF6692",
           "#B6E880",
           "#FF97FF",
           "#FECB52"
          ],
          "font": {
           "color": "#2a3f5f"
          },
          "geo": {
           "bgcolor": "white",
           "lakecolor": "white",
           "landcolor": "#E5ECF6",
           "showlakes": true,
           "showland": true,
           "subunitcolor": "white"
          },
          "hoverlabel": {
           "align": "left"
          },
          "hovermode": "closest",
          "mapbox": {
           "style": "light"
          },
          "paper_bgcolor": "white",
          "plot_bgcolor": "#E5ECF6",
          "polar": {
           "angularaxis": {
            "gridcolor": "white",
            "linecolor": "white",
            "ticks": ""
           },
           "bgcolor": "#E5ECF6",
           "radialaxis": {
            "gridcolor": "white",
            "linecolor": "white",
            "ticks": ""
           }
          },
          "scene": {
           "xaxis": {
            "backgroundcolor": "#E5ECF6",
            "gridcolor": "white",
            "gridwidth": 2,
            "linecolor": "white",
            "showbackground": true,
            "ticks": "",
            "zerolinecolor": "white"
           },
           "yaxis": {
            "backgroundcolor": "#E5ECF6",
            "gridcolor": "white",
            "gridwidth": 2,
            "linecolor": "white",
            "showbackground": true,
            "ticks": "",
            "zerolinecolor": "white"
           },
           "zaxis": {
            "backgroundcolor": "#E5ECF6",
            "gridcolor": "white",
            "gridwidth": 2,
            "linecolor": "white",
            "showbackground": true,
            "ticks": "",
            "zerolinecolor": "white"
           }
          },
          "shapedefaults": {
           "line": {
            "color": "#2a3f5f"
           }
          },
          "ternary": {
           "aaxis": {
            "gridcolor": "white",
            "linecolor": "white",
            "ticks": ""
           },
           "baxis": {
            "gridcolor": "white",
            "linecolor": "white",
            "ticks": ""
           },
           "bgcolor": "#E5ECF6",
           "caxis": {
            "gridcolor": "white",
            "linecolor": "white",
            "ticks": ""
           }
          },
          "title": {
           "x": 0.05
          },
          "xaxis": {
           "automargin": true,
           "gridcolor": "white",
           "linecolor": "white",
           "ticks": "",
           "title": {
            "standoff": 15
           },
           "zerolinecolor": "white",
           "zerolinewidth": 2
          },
          "yaxis": {
           "automargin": true,
           "gridcolor": "white",
           "linecolor": "white",
           "ticks": "",
           "title": {
            "standoff": 15
           },
           "zerolinecolor": "white",
           "zerolinewidth": 2
          }
         }
        }
       }
      },
      "text/html": [
       "<div>                            <div id=\"080d9b30-cc8a-4d7f-8df4-e338232621e0\" class=\"plotly-graph-div\" style=\"height:525px; width:100%;\"></div>            <script type=\"text/javascript\">                require([\"plotly\"], function(Plotly) {                    window.PLOTLYENV=window.PLOTLYENV || {};                                    if (document.getElementById(\"080d9b30-cc8a-4d7f-8df4-e338232621e0\")) {                    Plotly.newPlot(                        \"080d9b30-cc8a-4d7f-8df4-e338232621e0\",                        [{\"hovertemplate\":\"latitude=%{lat}<br>longitude=%{lon}<extra></extra>\",\"lat\":[35.14405,35.1405040480287,35.12111,35.1351676233652,35.14256,35.1421,35.14017,35.12283,35.13878,35.14826862632902,35.1217466,35.120422,35.140673,35.1211137,35.122914,35.129473,35.1405919,35.12065823930062,35.1271688491754,35.1390422,35.1788187,35.11976049553751,35.17865,35.1579024160989,35.1395782866043,35.120827,35.128611,35.12367,35.121512527192415,35.1398105,35.0807952880859,35.1571807,35.12105,35.12115,35.12136,35.1792793,35.1423,35.13422,35.14016,35.13744,35.156578673999945,35.14179,35.14499,35.14041,35.1238970063092,35.16448,35.135665,35.1214790344238,35.157196,35.1790429145274,35.098442,35.1400099,35.1895964,35.1584181,35.13671,35.122148717721295,35.124651,35.1791,35.13201,35.1246138357304,35.18598306812193,35.143059,35.1073832,35.16444158956,35.11998,35.1350709847763,35.130022,35.123955,35.16329,35.1209503,35.12226305902,35.11928923068244,35.12324,35.12174,35.105072207875,35.1214,35.13723,35.119293,35.1212526022,35.1211137,35.1215320500822,35.1191471731716,35.11933,35.12111,35.13642,35.2153483,35.131459,35.121122],\"legendgroup\":\"\",\"lon\":[-120.6429,-120.64138521999335,-120.61964,-120.624588188729,-120.64055,-120.64004,-120.63844,-120.58113,-120.64188,-120.64872596256193,-120.6285786,-120.608416,-120.640953,-120.6097587,-120.579206,-120.608468,-120.6417756,-120.61321266123021,-120.594927600102,-120.6408786,-120.7336868,-120.60226098442318,-120.73232,-120.672956889546,-120.643026373415,-120.611361,-120.597323,-120.57758,-120.61512424116302,-120.642319,-120.585754394531,-120.6713944,-120.60584,-120.59935,-120.60708,-120.7344666,-120.64026,-120.63768,-120.64242,-120.64148,-120.66992268238636,-120.64058,-120.64562,-120.64209,-120.57749658823,-120.68907,-120.623893,-120.625663757324,-120.670888,-120.733764740916,-120.60942,-120.64255,-120.721367,-120.6744566,-120.64104,-120.627865,-120.576662,-120.7338,-120.60796,-120.575822075593,-120.71281920653769,-120.641823,-120.6240768,-120.689234733582,-120.6088233,-120.6250463672,-120.608488,-120.5773181,-120.6886,-120.6120674,-120.633662715554,-120.60193853157756,-120.57984,-120.61934,-120.621940771099,-120.61175,-120.62932,-120.601132,-120.618937537,-120.6097587,-120.608323216438,-120.591320535186,-120.57651,-120.61964,-120.62505,-120.6147054,-120.605904,-120.612425],\"marker\":{\"color\":\"#636efa\"},\"mode\":\"markers\",\"name\":\"\",\"showlegend\":false,\"subplot\":\"mapbox\",\"type\":\"scattermapbox\"}],                        {\"template\":{\"data\":{\"histogram2dcontour\":[{\"type\":\"histogram2dcontour\",\"colorbar\":{\"outlinewidth\":0,\"ticks\":\"\"},\"colorscale\":[[0.0,\"#0d0887\"],[0.1111111111111111,\"#46039f\"],[0.2222222222222222,\"#7201a8\"],[0.3333333333333333,\"#9c179e\"],[0.4444444444444444,\"#bd3786\"],[0.5555555555555556,\"#d8576b\"],[0.6666666666666666,\"#ed7953\"],[0.7777777777777778,\"#fb9f3a\"],[0.8888888888888888,\"#fdca26\"],[1.0,\"#f0f921\"]]}],\"choropleth\":[{\"type\":\"choropleth\",\"colorbar\":{\"outlinewidth\":0,\"ticks\":\"\"}}],\"histogram2d\":[{\"type\":\"histogram2d\",\"colorbar\":{\"outlinewidth\":0,\"ticks\":\"\"},\"colorscale\":[[0.0,\"#0d0887\"],[0.1111111111111111,\"#46039f\"],[0.2222222222222222,\"#7201a8\"],[0.3333333333333333,\"#9c179e\"],[0.4444444444444444,\"#bd3786\"],[0.5555555555555556,\"#d8576b\"],[0.6666666666666666,\"#ed7953\"],[0.7777777777777778,\"#fb9f3a\"],[0.8888888888888888,\"#fdca26\"],[1.0,\"#f0f921\"]]}],\"heatmap\":[{\"type\":\"heatmap\",\"colorbar\":{\"outlinewidth\":0,\"ticks\":\"\"},\"colorscale\":[[0.0,\"#0d0887\"],[0.1111111111111111,\"#46039f\"],[0.2222222222222222,\"#7201a8\"],[0.3333333333333333,\"#9c179e\"],[0.4444444444444444,\"#bd3786\"],[0.5555555555555556,\"#d8576b\"],[0.6666666666666666,\"#ed7953\"],[0.7777777777777778,\"#fb9f3a\"],[0.8888888888888888,\"#fdca26\"],[1.0,\"#f0f921\"]]}],\"heatmapgl\":[{\"type\":\"heatmapgl\",\"colorbar\":{\"outlinewidth\":0,\"ticks\":\"\"},\"colorscale\":[[0.0,\"#0d0887\"],[0.1111111111111111,\"#46039f\"],[0.2222222222222222,\"#7201a8\"],[0.3333333333333333,\"#9c179e\"],[0.4444444444444444,\"#bd3786\"],[0.5555555555555556,\"#d8576b\"],[0.6666666666666666,\"#ed7953\"],[0.7777777777777778,\"#fb9f3a\"],[0.8888888888888888,\"#fdca26\"],[1.0,\"#f0f921\"]]}],\"contourcarpet\":[{\"type\":\"contourcarpet\",\"colorbar\":{\"outlinewidth\":0,\"ticks\":\"\"}}],\"contour\":[{\"type\":\"contour\",\"colorbar\":{\"outlinewidth\":0,\"ticks\":\"\"},\"colorscale\":[[0.0,\"#0d0887\"],[0.1111111111111111,\"#46039f\"],[0.2222222222222222,\"#7201a8\"],[0.3333333333333333,\"#9c179e\"],[0.4444444444444444,\"#bd3786\"],[0.5555555555555556,\"#d8576b\"],[0.6666666666666666,\"#ed7953\"],[0.7777777777777778,\"#fb9f3a\"],[0.8888888888888888,\"#fdca26\"],[1.0,\"#f0f921\"]]}],\"surface\":[{\"type\":\"surface\",\"colorbar\":{\"outlinewidth\":0,\"ticks\":\"\"},\"colorscale\":[[0.0,\"#0d0887\"],[0.1111111111111111,\"#46039f\"],[0.2222222222222222,\"#7201a8\"],[0.3333333333333333,\"#9c179e\"],[0.4444444444444444,\"#bd3786\"],[0.5555555555555556,\"#d8576b\"],[0.6666666666666666,\"#ed7953\"],[0.7777777777777778,\"#fb9f3a\"],[0.8888888888888888,\"#fdca26\"],[1.0,\"#f0f921\"]]}],\"mesh3d\":[{\"type\":\"mesh3d\",\"colorbar\":{\"outlinewidth\":0,\"ticks\":\"\"}}],\"scatter\":[{\"fillpattern\":{\"fillmode\":\"overlay\",\"size\":10,\"solidity\":0.2},\"type\":\"scatter\"}],\"parcoords\":[{\"type\":\"parcoords\",\"line\":{\"colorbar\":{\"outlinewidth\":0,\"ticks\":\"\"}}}],\"scatterpolargl\":[{\"type\":\"scatterpolargl\",\"marker\":{\"colorbar\":{\"outlinewidth\":0,\"ticks\":\"\"}}}],\"bar\":[{\"error_x\":{\"color\":\"#2a3f5f\"},\"error_y\":{\"color\":\"#2a3f5f\"},\"marker\":{\"line\":{\"color\":\"#E5ECF6\",\"width\":0.5},\"pattern\":{\"fillmode\":\"overlay\",\"size\":10,\"solidity\":0.2}},\"type\":\"bar\"}],\"scattergeo\":[{\"type\":\"scattergeo\",\"marker\":{\"colorbar\":{\"outlinewidth\":0,\"ticks\":\"\"}}}],\"scatterpolar\":[{\"type\":\"scatterpolar\",\"marker\":{\"colorbar\":{\"outlinewidth\":0,\"ticks\":\"\"}}}],\"histogram\":[{\"marker\":{\"pattern\":{\"fillmode\":\"overlay\",\"size\":10,\"solidity\":0.2}},\"type\":\"histogram\"}],\"scattergl\":[{\"type\":\"scattergl\",\"marker\":{\"colorbar\":{\"outlinewidth\":0,\"ticks\":\"\"}}}],\"scatter3d\":[{\"type\":\"scatter3d\",\"line\":{\"colorbar\":{\"outlinewidth\":0,\"ticks\":\"\"}},\"marker\":{\"colorbar\":{\"outlinewidth\":0,\"ticks\":\"\"}}}],\"scattermapbox\":[{\"type\":\"scattermapbox\",\"marker\":{\"colorbar\":{\"outlinewidth\":0,\"ticks\":\"\"}}}],\"scatterternary\":[{\"type\":\"scatterternary\",\"marker\":{\"colorbar\":{\"outlinewidth\":0,\"ticks\":\"\"}}}],\"scattercarpet\":[{\"type\":\"scattercarpet\",\"marker\":{\"colorbar\":{\"outlinewidth\":0,\"ticks\":\"\"}}}],\"carpet\":[{\"aaxis\":{\"endlinecolor\":\"#2a3f5f\",\"gridcolor\":\"white\",\"linecolor\":\"white\",\"minorgridcolor\":\"white\",\"startlinecolor\":\"#2a3f5f\"},\"baxis\":{\"endlinecolor\":\"#2a3f5f\",\"gridcolor\":\"white\",\"linecolor\":\"white\",\"minorgridcolor\":\"white\",\"startlinecolor\":\"#2a3f5f\"},\"type\":\"carpet\"}],\"table\":[{\"cells\":{\"fill\":{\"color\":\"#EBF0F8\"},\"line\":{\"color\":\"white\"}},\"header\":{\"fill\":{\"color\":\"#C8D4E3\"},\"line\":{\"color\":\"white\"}},\"type\":\"table\"}],\"barpolar\":[{\"marker\":{\"line\":{\"color\":\"#E5ECF6\",\"width\":0.5},\"pattern\":{\"fillmode\":\"overlay\",\"size\":10,\"solidity\":0.2}},\"type\":\"barpolar\"}],\"pie\":[{\"automargin\":true,\"type\":\"pie\"}]},\"layout\":{\"autotypenumbers\":\"strict\",\"colorway\":[\"#636efa\",\"#EF553B\",\"#00cc96\",\"#ab63fa\",\"#FFA15A\",\"#19d3f3\",\"#FF6692\",\"#B6E880\",\"#FF97FF\",\"#FECB52\"],\"font\":{\"color\":\"#2a3f5f\"},\"hovermode\":\"closest\",\"hoverlabel\":{\"align\":\"left\"},\"paper_bgcolor\":\"white\",\"plot_bgcolor\":\"#E5ECF6\",\"polar\":{\"bgcolor\":\"#E5ECF6\",\"angularaxis\":{\"gridcolor\":\"white\",\"linecolor\":\"white\",\"ticks\":\"\"},\"radialaxis\":{\"gridcolor\":\"white\",\"linecolor\":\"white\",\"ticks\":\"\"}},\"ternary\":{\"bgcolor\":\"#E5ECF6\",\"aaxis\":{\"gridcolor\":\"white\",\"linecolor\":\"white\",\"ticks\":\"\"},\"baxis\":{\"gridcolor\":\"white\",\"linecolor\":\"white\",\"ticks\":\"\"},\"caxis\":{\"gridcolor\":\"white\",\"linecolor\":\"white\",\"ticks\":\"\"}},\"coloraxis\":{\"colorbar\":{\"outlinewidth\":0,\"ticks\":\"\"}},\"colorscale\":{\"sequential\":[[0.0,\"#0d0887\"],[0.1111111111111111,\"#46039f\"],[0.2222222222222222,\"#7201a8\"],[0.3333333333333333,\"#9c179e\"],[0.4444444444444444,\"#bd3786\"],[0.5555555555555556,\"#d8576b\"],[0.6666666666666666,\"#ed7953\"],[0.7777777777777778,\"#fb9f3a\"],[0.8888888888888888,\"#fdca26\"],[1.0,\"#f0f921\"]],\"sequentialminus\":[[0.0,\"#0d0887\"],[0.1111111111111111,\"#46039f\"],[0.2222222222222222,\"#7201a8\"],[0.3333333333333333,\"#9c179e\"],[0.4444444444444444,\"#bd3786\"],[0.5555555555555556,\"#d8576b\"],[0.6666666666666666,\"#ed7953\"],[0.7777777777777778,\"#fb9f3a\"],[0.8888888888888888,\"#fdca26\"],[1.0,\"#f0f921\"]],\"diverging\":[[0,\"#8e0152\"],[0.1,\"#c51b7d\"],[0.2,\"#de77ae\"],[0.3,\"#f1b6da\"],[0.4,\"#fde0ef\"],[0.5,\"#f7f7f7\"],[0.6,\"#e6f5d0\"],[0.7,\"#b8e186\"],[0.8,\"#7fbc41\"],[0.9,\"#4d9221\"],[1,\"#276419\"]]},\"xaxis\":{\"gridcolor\":\"white\",\"linecolor\":\"white\",\"ticks\":\"\",\"title\":{\"standoff\":15},\"zerolinecolor\":\"white\",\"automargin\":true,\"zerolinewidth\":2},\"yaxis\":{\"gridcolor\":\"white\",\"linecolor\":\"white\",\"ticks\":\"\",\"title\":{\"standoff\":15},\"zerolinecolor\":\"white\",\"automargin\":true,\"zerolinewidth\":2},\"scene\":{\"xaxis\":{\"backgroundcolor\":\"#E5ECF6\",\"gridcolor\":\"white\",\"linecolor\":\"white\",\"showbackground\":true,\"ticks\":\"\",\"zerolinecolor\":\"white\",\"gridwidth\":2},\"yaxis\":{\"backgroundcolor\":\"#E5ECF6\",\"gridcolor\":\"white\",\"linecolor\":\"white\",\"showbackground\":true,\"ticks\":\"\",\"zerolinecolor\":\"white\",\"gridwidth\":2},\"zaxis\":{\"backgroundcolor\":\"#E5ECF6\",\"gridcolor\":\"white\",\"linecolor\":\"white\",\"showbackground\":true,\"ticks\":\"\",\"zerolinecolor\":\"white\",\"gridwidth\":2}},\"shapedefaults\":{\"line\":{\"color\":\"#2a3f5f\"}},\"annotationdefaults\":{\"arrowcolor\":\"#2a3f5f\",\"arrowhead\":0,\"arrowwidth\":1},\"geo\":{\"bgcolor\":\"white\",\"landcolor\":\"#E5ECF6\",\"subunitcolor\":\"white\",\"showland\":true,\"showlakes\":true,\"lakecolor\":\"white\"},\"title\":{\"x\":0.05},\"mapbox\":{\"style\":\"light\"}}},\"mapbox\":{\"domain\":{\"x\":[0.0,1.0],\"y\":[0.0,1.0]},\"center\":{\"lat\":35.13597893236272,\"lon\":-120.63157800652635},\"accesstoken\":\"pk.eyJ1IjoidHNjaGVsbGkiLCJhIjoiY2xienVseWJnMmFndjNvbml6bnl2cmY5ZSJ9.4OsA0FBjje5eniwvzW0CKA\",\"zoom\":8,\"style\":\"open-street-map\"},\"legend\":{\"tracegroupgap\":0},\"margin\":{\"t\":60}},                        {\"responsive\": true}                    ).then(function(){\n",
       "                            \n",
       "var gd = document.getElementById('080d9b30-cc8a-4d7f-8df4-e338232621e0');\n",
       "var x = new MutationObserver(function (mutations, observer) {{\n",
       "        var display = window.getComputedStyle(gd).display;\n",
       "        if (!display || display === 'none') {{\n",
       "            console.log([gd, 'removed!']);\n",
       "            Plotly.purge(gd);\n",
       "            observer.disconnect();\n",
       "        }}\n",
       "}});\n",
       "\n",
       "// Listen for the removal of the full notebook cells\n",
       "var notebookContainer = gd.closest('#notebook-container');\n",
       "if (notebookContainer) {{\n",
       "    x.observe(notebookContainer, {childList: true});\n",
       "}}\n",
       "\n",
       "// Listen for the clearing of the current output cell\n",
       "var outputEl = gd.closest('.output');\n",
       "if (outputEl) {{\n",
       "    x.observe(outputEl, {childList: true});\n",
       "}}\n",
       "\n",
       "                        })                };                });            </script>        </div>"
      ]
     },
     "metadata": {},
     "output_type": "display_data"
    }
   ],
   "source": [
    "## use scatter_mapbox for M.V.P map\n",
    "px.scatter_mapbox(pismo_df, lat='latitude', lon='longitude', mapbox_style = 'open-street-map')"
   ]
  },
  {
   "cell_type": "markdown",
   "id": "d5b72ef0",
   "metadata": {},
   "source": [
    "### Adding Hover Data"
   ]
  },
  {
   "cell_type": "markdown",
   "id": "300eddca",
   "metadata": {},
   "source": [
    "- We want to show the restaurants:\n",
    "    - name\n",
    "    - price range\n",
    "    - address\n",
    "    - and if they do delivery or takeout.\n",
    "    \n",
    "    \n",
    "- We can use the `hover_name` and `hover_data` arguments for `px.scatter_mapbox` to add this info!"
   ]
  },
  {
   "cell_type": "code",
   "execution_count": null,
   "id": "46a7ef9e",
   "metadata": {},
   "outputs": [],
   "source": []
  },
  {
   "cell_type": "code",
   "execution_count": 18,
   "id": "e05e4e1b",
   "metadata": {
    "scrolled": true
   },
   "outputs": [
    {
     "data": {
      "application/vnd.plotly.v1+json": {
       "config": {
        "plotlyServerURL": "https://plot.ly"
       },
       "data": [
        {
         "customdata": [
          [
           "$$",
           4
          ],
          [
           "$$",
           4
          ],
          [
           null,
           4.5
          ],
          [
           "$$",
           4
          ],
          [
           "$$",
           3.5
          ],
          [
           null,
           3.5
          ],
          [
           "$$",
           4
          ],
          [
           "$$",
           4.5
          ],
          [
           "$$",
           4
          ],
          [
           "$$",
           3.5
          ],
          [
           "$",
           5
          ],
          [
           "$$",
           4
          ],
          [
           "$$",
           2.5
          ],
          [
           "$",
           3.5
          ],
          [
           "$$",
           4
          ],
          [
           "$$",
           4
          ],
          [
           "$",
           4
          ],
          [
           "$",
           3.5
          ],
          [
           "$$",
           3.5
          ],
          [
           "$$",
           4
          ],
          [
           "$$",
           4
          ],
          [
           "$",
           2.5
          ],
          [
           "$$$",
           4
          ],
          [
           "$$",
           4
          ],
          [
           "$$",
           4
          ],
          [
           "$$",
           2.5
          ],
          [
           "$",
           4
          ],
          [
           "$$",
           4
          ],
          [
           "$$",
           4.5
          ],
          [
           "$$",
           4
          ],
          [
           "$$",
           3
          ],
          [
           "$$",
           5
          ],
          [
           "$$",
           3.5
          ],
          [
           "$$$",
           4.5
          ],
          [
           "$",
           2
          ],
          [
           "$$",
           4.5
          ],
          [
           "$$$",
           4.5
          ],
          [
           null,
           3.5
          ],
          [
           "$$",
           4
          ],
          [
           "$",
           4
          ],
          [
           "$$",
           4.5
          ],
          [
           "$$$",
           4
          ],
          [
           "$$$",
           4
          ],
          [
           "$$",
           3.5
          ],
          [
           "$$",
           4
          ],
          [
           "$$$",
           4
          ],
          [
           "$$",
           4
          ],
          [
           "$$",
           3.5
          ],
          [
           "$$",
           4
          ],
          [
           "$$",
           3.5
          ],
          [
           "$",
           4.5
          ],
          [
           "$",
           3.5
          ],
          [
           "$$",
           3
          ],
          [
           "$$",
           4
          ],
          [
           "$$",
           4
          ],
          [
           "$$",
           4.5
          ],
          [
           "$$",
           4
          ],
          [
           "$$",
           3
          ],
          [
           "$$",
           4.5
          ],
          [
           "$",
           3
          ],
          [
           "$$",
           3.5
          ],
          [
           "$$",
           4
          ],
          [
           "$$",
           3.5
          ],
          [
           "$$",
           3.5
          ],
          [
           null,
           5
          ],
          [
           "$",
           3.5
          ],
          [
           "$",
           5
          ],
          [
           "$$",
           4.5
          ],
          [
           "$$",
           3.5
          ],
          [
           "$$",
           3.5
          ],
          [
           "$$",
           3.5
          ],
          [
           null,
           3.5
          ],
          [
           "$$",
           4.5
          ],
          [
           "$$",
           4.5
          ],
          [
           "$$",
           3.5
          ],
          [
           "$$",
           3
          ],
          [
           "$$",
           3.5
          ],
          [
           "$$",
           2.5
          ],
          [
           "$$",
           4
          ],
          [
           "$$",
           4
          ],
          [
           "$$",
           2.5
          ],
          [
           "$",
           1.5
          ],
          [
           null,
           3
          ],
          [
           "$$",
           4.5
          ],
          [
           "$$",
           3.5
          ],
          [
           "$$",
           4.5
          ],
          [
           "$",
           2.5
          ],
          [
           "$",
           2
          ]
         ],
         "hovertemplate": "<b>%{hovertext}</b><br><br>latitude=%{lat}<br>longitude=%{lon}<br>price=%{customdata[0]}<br>rating=%{customdata[1]}<extra></extra>",
         "hovertext": [
          "Del's Pizzeria",
          "PizMo Cafe",
          "Beach Pizza",
          "Gino's Pizza",
          "Giuseppe's Express",
          "Me n Ed’s Pizzeria and Craft House",
          "Rosa's Italian Restaurant",
          "Palo Mesa Wood Fired",
          "The Boardroom",
          "Blast & Brew",
          "Grover Beach Sourdough",
          "Doughboy's Pizzeria",
          "Pismo’s World Famous Pizza & Chowder House",
          "Fatte's Pizza of Grover Beach",
          "Klondike Pizza",
          "ManRock Brewing",
          "Pismo Bowl",
          "Sam's Giant Manhattan Pizza",
          "Palo Mesa Pizza",
          "Pismo Brewing",
          "Mission Pizza",
          "Domino's Pizza",
          "Ocean Grill Avila Beach",
          "Shell Beach Brewhouse",
          "Wooly's",
          "Round Table Pizza",
          "BLAZE PIZZA",
          "Gina's Italian Restaurant",
          "Jimmy D’s Spaghetti Joint",
          "Cool Cat Cafe",
          "Palo Mesa Pizza",
          "Sando's Deli",
          "Blast 825 Brewery",
          "Ember",
          "Little Caesars",
          "PierFront wine & brew",
          "La Bodega Tapas",
          "Pismo Coast Village Grill",
          "Splash Cafe",
          "The Deck",
          "Zorro's Cafe & Cantina",
          "Cracked Crab",
          "Vista Steak and Seafood",
          "MO's Smokehouse BBQ",
          "Rooster Creek",
          "Lido Restaurant & Lounge",
          "California Fresh Market",
          "Sushi 805",
          "Cape Cod Eatery and Taphouse",
          "Custom House",
          "Central Market",
          "El Mirador",
          "Woodstone Marketplace",
          "Mei's Chinese Restaurant",
          "SeaVenture Restaurant",
          "The Spoon Trade",
          "Mason Bar & Kitchen",
          "Mr Rick's",
          "Hapy",
          "Last Chance Liquors",
          "Gardens of Avila Restaurant",
          "Honeymoon Cafe",
          "Old Juan's Cantina",
          "Marisol",
          "New Earth Superfoods",
          "Rite Aid",
          "8575 Perfetto Caffe",
          "Jaffa Cafe",
          "Spyglass Inn Restaurant",
          "La Casita Restaurante",
          "Fin's Seafood Restaurant",
          "ALDI",
          "Doc Burnstein's Ice Cream Lab",
          "DarWish",
          "Rock & Roll Diner",
          "Golden Gong Chinese Restaurant",
          "Huckleberry's - Pismo Beach",
          "Rite Aid",
          "Jalapenos Restaurant",
          "Yamato Japanese Restaurant",
          "Rite Aid",
          "7-Eleven",
          "Greyhound Bus Lines",
          "Julia's Juice Bar",
          "Coco's Bakery Restaurant",
          "Biddle Ranch Vineyard",
          "Taco Bell",
          "Taco Bell"
         ],
         "lat": [
          35.14405,
          35.1405040480287,
          35.12111,
          35.1351676233652,
          35.14256,
          35.1421,
          35.14017,
          35.12283,
          35.13878,
          35.14826862632902,
          35.1217466,
          35.120422,
          35.140673,
          35.1211137,
          35.122914,
          35.129473,
          35.1405919,
          35.12065823930062,
          35.1271688491754,
          35.1390422,
          35.1788187,
          35.11976049553751,
          35.17865,
          35.1579024160989,
          35.1395782866043,
          35.120827,
          35.128611,
          35.12367,
          35.121512527192415,
          35.1398105,
          35.0807952880859,
          35.1571807,
          35.12105,
          35.12115,
          35.12136,
          35.1792793,
          35.1423,
          35.13422,
          35.14016,
          35.13744,
          35.156578673999945,
          35.14179,
          35.14499,
          35.14041,
          35.1238970063092,
          35.16448,
          35.135665,
          35.1214790344238,
          35.157196,
          35.1790429145274,
          35.098442,
          35.1400099,
          35.1895964,
          35.1584181,
          35.13671,
          35.122148717721295,
          35.124651,
          35.1791,
          35.13201,
          35.1246138357304,
          35.18598306812193,
          35.143059,
          35.1073832,
          35.16444158956,
          35.11998,
          35.1350709847763,
          35.130022,
          35.123955,
          35.16329,
          35.1209503,
          35.12226305902,
          35.11928923068244,
          35.12324,
          35.12174,
          35.105072207875,
          35.1214,
          35.13723,
          35.119293,
          35.1212526022,
          35.1211137,
          35.1215320500822,
          35.1191471731716,
          35.11933,
          35.12111,
          35.13642,
          35.2153483,
          35.131459,
          35.121122
         ],
         "legendgroup": "",
         "lon": [
          -120.6429,
          -120.64138521999335,
          -120.61964,
          -120.624588188729,
          -120.64055,
          -120.64004,
          -120.63844,
          -120.58113,
          -120.64188,
          -120.64872596256193,
          -120.6285786,
          -120.608416,
          -120.640953,
          -120.6097587,
          -120.579206,
          -120.608468,
          -120.6417756,
          -120.61321266123021,
          -120.594927600102,
          -120.6408786,
          -120.7336868,
          -120.60226098442318,
          -120.73232,
          -120.672956889546,
          -120.643026373415,
          -120.611361,
          -120.597323,
          -120.57758,
          -120.61512424116302,
          -120.642319,
          -120.585754394531,
          -120.6713944,
          -120.60584,
          -120.59935,
          -120.60708,
          -120.7344666,
          -120.64026,
          -120.63768,
          -120.64242,
          -120.64148,
          -120.66992268238636,
          -120.64058,
          -120.64562,
          -120.64209,
          -120.57749658823,
          -120.68907,
          -120.623893,
          -120.625663757324,
          -120.670888,
          -120.733764740916,
          -120.60942,
          -120.64255,
          -120.721367,
          -120.6744566,
          -120.64104,
          -120.627865,
          -120.576662,
          -120.7338,
          -120.60796,
          -120.575822075593,
          -120.71281920653769,
          -120.641823,
          -120.6240768,
          -120.689234733582,
          -120.6088233,
          -120.6250463672,
          -120.608488,
          -120.5773181,
          -120.6886,
          -120.6120674,
          -120.633662715554,
          -120.60193853157756,
          -120.57984,
          -120.61934,
          -120.621940771099,
          -120.61175,
          -120.62932,
          -120.601132,
          -120.618937537,
          -120.6097587,
          -120.608323216438,
          -120.591320535186,
          -120.57651,
          -120.61964,
          -120.62505,
          -120.6147054,
          -120.605904,
          -120.612425
         ],
         "marker": {
          "color": "#636efa"
         },
         "mode": "markers",
         "name": "",
         "showlegend": false,
         "subplot": "mapbox",
         "type": "scattermapbox"
        }
       ],
       "layout": {
        "legend": {
         "tracegroupgap": 0
        },
        "mapbox": {
         "accesstoken": "pk.eyJ1IjoidHNjaGVsbGkiLCJhIjoiY2xienVseWJnMmFndjNvbml6bnl2cmY5ZSJ9.4OsA0FBjje5eniwvzW0CKA",
         "center": {
          "lat": 35.13597893236272,
          "lon": -120.63157800652635
         },
         "domain": {
          "x": [
           0,
           1
          ],
          "y": [
           0,
           1
          ]
         },
         "style": "open-street-map",
         "zoom": 8
        },
        "margin": {
         "t": 60
        },
        "template": {
         "data": {
          "bar": [
           {
            "error_x": {
             "color": "#2a3f5f"
            },
            "error_y": {
             "color": "#2a3f5f"
            },
            "marker": {
             "line": {
              "color": "#E5ECF6",
              "width": 0.5
             },
             "pattern": {
              "fillmode": "overlay",
              "size": 10,
              "solidity": 0.2
             }
            },
            "type": "bar"
           }
          ],
          "barpolar": [
           {
            "marker": {
             "line": {
              "color": "#E5ECF6",
              "width": 0.5
             },
             "pattern": {
              "fillmode": "overlay",
              "size": 10,
              "solidity": 0.2
             }
            },
            "type": "barpolar"
           }
          ],
          "carpet": [
           {
            "aaxis": {
             "endlinecolor": "#2a3f5f",
             "gridcolor": "white",
             "linecolor": "white",
             "minorgridcolor": "white",
             "startlinecolor": "#2a3f5f"
            },
            "baxis": {
             "endlinecolor": "#2a3f5f",
             "gridcolor": "white",
             "linecolor": "white",
             "minorgridcolor": "white",
             "startlinecolor": "#2a3f5f"
            },
            "type": "carpet"
           }
          ],
          "choropleth": [
           {
            "colorbar": {
             "outlinewidth": 0,
             "ticks": ""
            },
            "type": "choropleth"
           }
          ],
          "contour": [
           {
            "colorbar": {
             "outlinewidth": 0,
             "ticks": ""
            },
            "colorscale": [
             [
              0,
              "#0d0887"
             ],
             [
              0.1111111111111111,
              "#46039f"
             ],
             [
              0.2222222222222222,
              "#7201a8"
             ],
             [
              0.3333333333333333,
              "#9c179e"
             ],
             [
              0.4444444444444444,
              "#bd3786"
             ],
             [
              0.5555555555555556,
              "#d8576b"
             ],
             [
              0.6666666666666666,
              "#ed7953"
             ],
             [
              0.7777777777777778,
              "#fb9f3a"
             ],
             [
              0.8888888888888888,
              "#fdca26"
             ],
             [
              1,
              "#f0f921"
             ]
            ],
            "type": "contour"
           }
          ],
          "contourcarpet": [
           {
            "colorbar": {
             "outlinewidth": 0,
             "ticks": ""
            },
            "type": "contourcarpet"
           }
          ],
          "heatmap": [
           {
            "colorbar": {
             "outlinewidth": 0,
             "ticks": ""
            },
            "colorscale": [
             [
              0,
              "#0d0887"
             ],
             [
              0.1111111111111111,
              "#46039f"
             ],
             [
              0.2222222222222222,
              "#7201a8"
             ],
             [
              0.3333333333333333,
              "#9c179e"
             ],
             [
              0.4444444444444444,
              "#bd3786"
             ],
             [
              0.5555555555555556,
              "#d8576b"
             ],
             [
              0.6666666666666666,
              "#ed7953"
             ],
             [
              0.7777777777777778,
              "#fb9f3a"
             ],
             [
              0.8888888888888888,
              "#fdca26"
             ],
             [
              1,
              "#f0f921"
             ]
            ],
            "type": "heatmap"
           }
          ],
          "heatmapgl": [
           {
            "colorbar": {
             "outlinewidth": 0,
             "ticks": ""
            },
            "colorscale": [
             [
              0,
              "#0d0887"
             ],
             [
              0.1111111111111111,
              "#46039f"
             ],
             [
              0.2222222222222222,
              "#7201a8"
             ],
             [
              0.3333333333333333,
              "#9c179e"
             ],
             [
              0.4444444444444444,
              "#bd3786"
             ],
             [
              0.5555555555555556,
              "#d8576b"
             ],
             [
              0.6666666666666666,
              "#ed7953"
             ],
             [
              0.7777777777777778,
              "#fb9f3a"
             ],
             [
              0.8888888888888888,
              "#fdca26"
             ],
             [
              1,
              "#f0f921"
             ]
            ],
            "type": "heatmapgl"
           }
          ],
          "histogram": [
           {
            "marker": {
             "pattern": {
              "fillmode": "overlay",
              "size": 10,
              "solidity": 0.2
             }
            },
            "type": "histogram"
           }
          ],
          "histogram2d": [
           {
            "colorbar": {
             "outlinewidth": 0,
             "ticks": ""
            },
            "colorscale": [
             [
              0,
              "#0d0887"
             ],
             [
              0.1111111111111111,
              "#46039f"
             ],
             [
              0.2222222222222222,
              "#7201a8"
             ],
             [
              0.3333333333333333,
              "#9c179e"
             ],
             [
              0.4444444444444444,
              "#bd3786"
             ],
             [
              0.5555555555555556,
              "#d8576b"
             ],
             [
              0.6666666666666666,
              "#ed7953"
             ],
             [
              0.7777777777777778,
              "#fb9f3a"
             ],
             [
              0.8888888888888888,
              "#fdca26"
             ],
             [
              1,
              "#f0f921"
             ]
            ],
            "type": "histogram2d"
           }
          ],
          "histogram2dcontour": [
           {
            "colorbar": {
             "outlinewidth": 0,
             "ticks": ""
            },
            "colorscale": [
             [
              0,
              "#0d0887"
             ],
             [
              0.1111111111111111,
              "#46039f"
             ],
             [
              0.2222222222222222,
              "#7201a8"
             ],
             [
              0.3333333333333333,
              "#9c179e"
             ],
             [
              0.4444444444444444,
              "#bd3786"
             ],
             [
              0.5555555555555556,
              "#d8576b"
             ],
             [
              0.6666666666666666,
              "#ed7953"
             ],
             [
              0.7777777777777778,
              "#fb9f3a"
             ],
             [
              0.8888888888888888,
              "#fdca26"
             ],
             [
              1,
              "#f0f921"
             ]
            ],
            "type": "histogram2dcontour"
           }
          ],
          "mesh3d": [
           {
            "colorbar": {
             "outlinewidth": 0,
             "ticks": ""
            },
            "type": "mesh3d"
           }
          ],
          "parcoords": [
           {
            "line": {
             "colorbar": {
              "outlinewidth": 0,
              "ticks": ""
             }
            },
            "type": "parcoords"
           }
          ],
          "pie": [
           {
            "automargin": true,
            "type": "pie"
           }
          ],
          "scatter": [
           {
            "fillpattern": {
             "fillmode": "overlay",
             "size": 10,
             "solidity": 0.2
            },
            "type": "scatter"
           }
          ],
          "scatter3d": [
           {
            "line": {
             "colorbar": {
              "outlinewidth": 0,
              "ticks": ""
             }
            },
            "marker": {
             "colorbar": {
              "outlinewidth": 0,
              "ticks": ""
             }
            },
            "type": "scatter3d"
           }
          ],
          "scattercarpet": [
           {
            "marker": {
             "colorbar": {
              "outlinewidth": 0,
              "ticks": ""
             }
            },
            "type": "scattercarpet"
           }
          ],
          "scattergeo": [
           {
            "marker": {
             "colorbar": {
              "outlinewidth": 0,
              "ticks": ""
             }
            },
            "type": "scattergeo"
           }
          ],
          "scattergl": [
           {
            "marker": {
             "colorbar": {
              "outlinewidth": 0,
              "ticks": ""
             }
            },
            "type": "scattergl"
           }
          ],
          "scattermapbox": [
           {
            "marker": {
             "colorbar": {
              "outlinewidth": 0,
              "ticks": ""
             }
            },
            "type": "scattermapbox"
           }
          ],
          "scatterpolar": [
           {
            "marker": {
             "colorbar": {
              "outlinewidth": 0,
              "ticks": ""
             }
            },
            "type": "scatterpolar"
           }
          ],
          "scatterpolargl": [
           {
            "marker": {
             "colorbar": {
              "outlinewidth": 0,
              "ticks": ""
             }
            },
            "type": "scatterpolargl"
           }
          ],
          "scatterternary": [
           {
            "marker": {
             "colorbar": {
              "outlinewidth": 0,
              "ticks": ""
             }
            },
            "type": "scatterternary"
           }
          ],
          "surface": [
           {
            "colorbar": {
             "outlinewidth": 0,
             "ticks": ""
            },
            "colorscale": [
             [
              0,
              "#0d0887"
             ],
             [
              0.1111111111111111,
              "#46039f"
             ],
             [
              0.2222222222222222,
              "#7201a8"
             ],
             [
              0.3333333333333333,
              "#9c179e"
             ],
             [
              0.4444444444444444,
              "#bd3786"
             ],
             [
              0.5555555555555556,
              "#d8576b"
             ],
             [
              0.6666666666666666,
              "#ed7953"
             ],
             [
              0.7777777777777778,
              "#fb9f3a"
             ],
             [
              0.8888888888888888,
              "#fdca26"
             ],
             [
              1,
              "#f0f921"
             ]
            ],
            "type": "surface"
           }
          ],
          "table": [
           {
            "cells": {
             "fill": {
              "color": "#EBF0F8"
             },
             "line": {
              "color": "white"
             }
            },
            "header": {
             "fill": {
              "color": "#C8D4E3"
             },
             "line": {
              "color": "white"
             }
            },
            "type": "table"
           }
          ]
         },
         "layout": {
          "annotationdefaults": {
           "arrowcolor": "#2a3f5f",
           "arrowhead": 0,
           "arrowwidth": 1
          },
          "autotypenumbers": "strict",
          "coloraxis": {
           "colorbar": {
            "outlinewidth": 0,
            "ticks": ""
           }
          },
          "colorscale": {
           "diverging": [
            [
             0,
             "#8e0152"
            ],
            [
             0.1,
             "#c51b7d"
            ],
            [
             0.2,
             "#de77ae"
            ],
            [
             0.3,
             "#f1b6da"
            ],
            [
             0.4,
             "#fde0ef"
            ],
            [
             0.5,
             "#f7f7f7"
            ],
            [
             0.6,
             "#e6f5d0"
            ],
            [
             0.7,
             "#b8e186"
            ],
            [
             0.8,
             "#7fbc41"
            ],
            [
             0.9,
             "#4d9221"
            ],
            [
             1,
             "#276419"
            ]
           ],
           "sequential": [
            [
             0,
             "#0d0887"
            ],
            [
             0.1111111111111111,
             "#46039f"
            ],
            [
             0.2222222222222222,
             "#7201a8"
            ],
            [
             0.3333333333333333,
             "#9c179e"
            ],
            [
             0.4444444444444444,
             "#bd3786"
            ],
            [
             0.5555555555555556,
             "#d8576b"
            ],
            [
             0.6666666666666666,
             "#ed7953"
            ],
            [
             0.7777777777777778,
             "#fb9f3a"
            ],
            [
             0.8888888888888888,
             "#fdca26"
            ],
            [
             1,
             "#f0f921"
            ]
           ],
           "sequentialminus": [
            [
             0,
             "#0d0887"
            ],
            [
             0.1111111111111111,
             "#46039f"
            ],
            [
             0.2222222222222222,
             "#7201a8"
            ],
            [
             0.3333333333333333,
             "#9c179e"
            ],
            [
             0.4444444444444444,
             "#bd3786"
            ],
            [
             0.5555555555555556,
             "#d8576b"
            ],
            [
             0.6666666666666666,
             "#ed7953"
            ],
            [
             0.7777777777777778,
             "#fb9f3a"
            ],
            [
             0.8888888888888888,
             "#fdca26"
            ],
            [
             1,
             "#f0f921"
            ]
           ]
          },
          "colorway": [
           "#636efa",
           "#EF553B",
           "#00cc96",
           "#ab63fa",
           "#FFA15A",
           "#19d3f3",
           "#FF6692",
           "#B6E880",
           "#FF97FF",
           "#FECB52"
          ],
          "font": {
           "color": "#2a3f5f"
          },
          "geo": {
           "bgcolor": "white",
           "lakecolor": "white",
           "landcolor": "#E5ECF6",
           "showlakes": true,
           "showland": true,
           "subunitcolor": "white"
          },
          "hoverlabel": {
           "align": "left"
          },
          "hovermode": "closest",
          "mapbox": {
           "style": "light"
          },
          "paper_bgcolor": "white",
          "plot_bgcolor": "#E5ECF6",
          "polar": {
           "angularaxis": {
            "gridcolor": "white",
            "linecolor": "white",
            "ticks": ""
           },
           "bgcolor": "#E5ECF6",
           "radialaxis": {
            "gridcolor": "white",
            "linecolor": "white",
            "ticks": ""
           }
          },
          "scene": {
           "xaxis": {
            "backgroundcolor": "#E5ECF6",
            "gridcolor": "white",
            "gridwidth": 2,
            "linecolor": "white",
            "showbackground": true,
            "ticks": "",
            "zerolinecolor": "white"
           },
           "yaxis": {
            "backgroundcolor": "#E5ECF6",
            "gridcolor": "white",
            "gridwidth": 2,
            "linecolor": "white",
            "showbackground": true,
            "ticks": "",
            "zerolinecolor": "white"
           },
           "zaxis": {
            "backgroundcolor": "#E5ECF6",
            "gridcolor": "white",
            "gridwidth": 2,
            "linecolor": "white",
            "showbackground": true,
            "ticks": "",
            "zerolinecolor": "white"
           }
          },
          "shapedefaults": {
           "line": {
            "color": "#2a3f5f"
           }
          },
          "ternary": {
           "aaxis": {
            "gridcolor": "white",
            "linecolor": "white",
            "ticks": ""
           },
           "baxis": {
            "gridcolor": "white",
            "linecolor": "white",
            "ticks": ""
           },
           "bgcolor": "#E5ECF6",
           "caxis": {
            "gridcolor": "white",
            "linecolor": "white",
            "ticks": ""
           }
          },
          "title": {
           "x": 0.05
          },
          "xaxis": {
           "automargin": true,
           "gridcolor": "white",
           "linecolor": "white",
           "ticks": "",
           "title": {
            "standoff": 15
           },
           "zerolinecolor": "white",
           "zerolinewidth": 2
          },
          "yaxis": {
           "automargin": true,
           "gridcolor": "white",
           "linecolor": "white",
           "ticks": "",
           "title": {
            "standoff": 15
           },
           "zerolinecolor": "white",
           "zerolinewidth": 2
          }
         }
        }
       }
      },
      "text/html": [
       "<div>                            <div id=\"bfa78b3a-6a9c-413b-a65e-ea98c4f33a19\" class=\"plotly-graph-div\" style=\"height:525px; width:100%;\"></div>            <script type=\"text/javascript\">                require([\"plotly\"], function(Plotly) {                    window.PLOTLYENV=window.PLOTLYENV || {};                                    if (document.getElementById(\"bfa78b3a-6a9c-413b-a65e-ea98c4f33a19\")) {                    Plotly.newPlot(                        \"bfa78b3a-6a9c-413b-a65e-ea98c4f33a19\",                        [{\"customdata\":[[\"$$\",4.0],[\"$$\",4.0],[null,4.5],[\"$$\",4.0],[\"$$\",3.5],[null,3.5],[\"$$\",4.0],[\"$$\",4.5],[\"$$\",4.0],[\"$$\",3.5],[\"$\",5.0],[\"$$\",4.0],[\"$$\",2.5],[\"$\",3.5],[\"$$\",4.0],[\"$$\",4.0],[\"$\",4.0],[\"$\",3.5],[\"$$\",3.5],[\"$$\",4.0],[\"$$\",4.0],[\"$\",2.5],[\"$$$\",4.0],[\"$$\",4.0],[\"$$\",4.0],[\"$$\",2.5],[\"$\",4.0],[\"$$\",4.0],[\"$$\",4.5],[\"$$\",4.0],[\"$$\",3.0],[\"$$\",5.0],[\"$$\",3.5],[\"$$$\",4.5],[\"$\",2.0],[\"$$\",4.5],[\"$$$\",4.5],[null,3.5],[\"$$\",4.0],[\"$\",4.0],[\"$$\",4.5],[\"$$$\",4.0],[\"$$$\",4.0],[\"$$\",3.5],[\"$$\",4.0],[\"$$$\",4.0],[\"$$\",4.0],[\"$$\",3.5],[\"$$\",4.0],[\"$$\",3.5],[\"$\",4.5],[\"$\",3.5],[\"$$\",3.0],[\"$$\",4.0],[\"$$\",4.0],[\"$$\",4.5],[\"$$\",4.0],[\"$$\",3.0],[\"$$\",4.5],[\"$\",3.0],[\"$$\",3.5],[\"$$\",4.0],[\"$$\",3.5],[\"$$\",3.5],[null,5.0],[\"$\",3.5],[\"$\",5.0],[\"$$\",4.5],[\"$$\",3.5],[\"$$\",3.5],[\"$$\",3.5],[null,3.5],[\"$$\",4.5],[\"$$\",4.5],[\"$$\",3.5],[\"$$\",3.0],[\"$$\",3.5],[\"$$\",2.5],[\"$$\",4.0],[\"$$\",4.0],[\"$$\",2.5],[\"$\",1.5],[null,3.0],[\"$$\",4.5],[\"$$\",3.5],[\"$$\",4.5],[\"$\",2.5],[\"$\",2.0]],\"hovertemplate\":\"<b>%{hovertext}</b><br><br>latitude=%{lat}<br>longitude=%{lon}<br>price=%{customdata[0]}<br>rating=%{customdata[1]}<extra></extra>\",\"hovertext\":[\"Del's Pizzeria\",\"PizMo Cafe\",\"Beach Pizza\",\"Gino's Pizza\",\"Giuseppe's Express\",\"Me n Ed\\u2019s Pizzeria and Craft House\",\"Rosa's Italian Restaurant\",\"Palo Mesa Wood Fired\",\"The Boardroom\",\"Blast & Brew\",\"Grover Beach Sourdough\",\"Doughboy's Pizzeria\",\"Pismo\\u2019s World Famous Pizza & Chowder House\",\"Fatte's Pizza of Grover Beach\",\"Klondike Pizza\",\"ManRock Brewing\",\"Pismo Bowl\",\"Sam's Giant Manhattan Pizza\",\"Palo Mesa Pizza\",\"Pismo Brewing\",\"Mission Pizza\",\"Domino's Pizza\",\"Ocean Grill Avila Beach\",\"Shell Beach Brewhouse\",\"Wooly's\",\"Round Table Pizza\",\"BLAZE PIZZA\",\"Gina's Italian Restaurant\",\"Jimmy D\\u2019s Spaghetti Joint\",\"Cool Cat Cafe\",\"Palo Mesa Pizza\",\"Sando's Deli\",\"Blast 825 Brewery\",\"Ember\",\"Little Caesars\",\"PierFront wine & brew\",\"La Bodega Tapas\",\"Pismo Coast Village Grill\",\"Splash Cafe\",\"The Deck\",\"Zorro's Cafe & Cantina\",\"Cracked Crab\",\"Vista Steak and Seafood\",\"MO's Smokehouse BBQ\",\"Rooster Creek\",\"Lido Restaurant & Lounge\",\"California Fresh Market\",\"Sushi 805\",\"Cape Cod Eatery and Taphouse\",\"Custom House\",\"Central Market\",\"El Mirador\",\"Woodstone Marketplace\",\"Mei's Chinese Restaurant\",\"SeaVenture Restaurant\",\"The Spoon Trade\",\"Mason Bar & Kitchen\",\"Mr Rick's\",\"Hapy\",\"Last Chance Liquors\",\"Gardens of Avila Restaurant\",\"Honeymoon Cafe\",\"Old Juan's Cantina\",\"Marisol\",\"New Earth Superfoods\",\"Rite Aid\",\"8575 Perfetto Caffe\",\"Jaffa Cafe\",\"Spyglass Inn Restaurant\",\"La Casita Restaurante\",\"Fin's Seafood Restaurant\",\"ALDI\",\"Doc Burnstein's Ice Cream Lab\",\"DarWish\",\"Rock & Roll Diner\",\"Golden Gong Chinese Restaurant\",\"Huckleberry's - Pismo Beach\",\"Rite Aid\",\"Jalapenos Restaurant\",\"Yamato Japanese Restaurant\",\"Rite Aid\",\"7-Eleven\",\"Greyhound Bus Lines\",\"Julia's Juice Bar\",\"Coco's Bakery Restaurant\",\"Biddle Ranch Vineyard\",\"Taco Bell\",\"Taco Bell\"],\"lat\":[35.14405,35.1405040480287,35.12111,35.1351676233652,35.14256,35.1421,35.14017,35.12283,35.13878,35.14826862632902,35.1217466,35.120422,35.140673,35.1211137,35.122914,35.129473,35.1405919,35.12065823930062,35.1271688491754,35.1390422,35.1788187,35.11976049553751,35.17865,35.1579024160989,35.1395782866043,35.120827,35.128611,35.12367,35.121512527192415,35.1398105,35.0807952880859,35.1571807,35.12105,35.12115,35.12136,35.1792793,35.1423,35.13422,35.14016,35.13744,35.156578673999945,35.14179,35.14499,35.14041,35.1238970063092,35.16448,35.135665,35.1214790344238,35.157196,35.1790429145274,35.098442,35.1400099,35.1895964,35.1584181,35.13671,35.122148717721295,35.124651,35.1791,35.13201,35.1246138357304,35.18598306812193,35.143059,35.1073832,35.16444158956,35.11998,35.1350709847763,35.130022,35.123955,35.16329,35.1209503,35.12226305902,35.11928923068244,35.12324,35.12174,35.105072207875,35.1214,35.13723,35.119293,35.1212526022,35.1211137,35.1215320500822,35.1191471731716,35.11933,35.12111,35.13642,35.2153483,35.131459,35.121122],\"legendgroup\":\"\",\"lon\":[-120.6429,-120.64138521999335,-120.61964,-120.624588188729,-120.64055,-120.64004,-120.63844,-120.58113,-120.64188,-120.64872596256193,-120.6285786,-120.608416,-120.640953,-120.6097587,-120.579206,-120.608468,-120.6417756,-120.61321266123021,-120.594927600102,-120.6408786,-120.7336868,-120.60226098442318,-120.73232,-120.672956889546,-120.643026373415,-120.611361,-120.597323,-120.57758,-120.61512424116302,-120.642319,-120.585754394531,-120.6713944,-120.60584,-120.59935,-120.60708,-120.7344666,-120.64026,-120.63768,-120.64242,-120.64148,-120.66992268238636,-120.64058,-120.64562,-120.64209,-120.57749658823,-120.68907,-120.623893,-120.625663757324,-120.670888,-120.733764740916,-120.60942,-120.64255,-120.721367,-120.6744566,-120.64104,-120.627865,-120.576662,-120.7338,-120.60796,-120.575822075593,-120.71281920653769,-120.641823,-120.6240768,-120.689234733582,-120.6088233,-120.6250463672,-120.608488,-120.5773181,-120.6886,-120.6120674,-120.633662715554,-120.60193853157756,-120.57984,-120.61934,-120.621940771099,-120.61175,-120.62932,-120.601132,-120.618937537,-120.6097587,-120.608323216438,-120.591320535186,-120.57651,-120.61964,-120.62505,-120.6147054,-120.605904,-120.612425],\"marker\":{\"color\":\"#636efa\"},\"mode\":\"markers\",\"name\":\"\",\"showlegend\":false,\"subplot\":\"mapbox\",\"type\":\"scattermapbox\"}],                        {\"template\":{\"data\":{\"histogram2dcontour\":[{\"type\":\"histogram2dcontour\",\"colorbar\":{\"outlinewidth\":0,\"ticks\":\"\"},\"colorscale\":[[0.0,\"#0d0887\"],[0.1111111111111111,\"#46039f\"],[0.2222222222222222,\"#7201a8\"],[0.3333333333333333,\"#9c179e\"],[0.4444444444444444,\"#bd3786\"],[0.5555555555555556,\"#d8576b\"],[0.6666666666666666,\"#ed7953\"],[0.7777777777777778,\"#fb9f3a\"],[0.8888888888888888,\"#fdca26\"],[1.0,\"#f0f921\"]]}],\"choropleth\":[{\"type\":\"choropleth\",\"colorbar\":{\"outlinewidth\":0,\"ticks\":\"\"}}],\"histogram2d\":[{\"type\":\"histogram2d\",\"colorbar\":{\"outlinewidth\":0,\"ticks\":\"\"},\"colorscale\":[[0.0,\"#0d0887\"],[0.1111111111111111,\"#46039f\"],[0.2222222222222222,\"#7201a8\"],[0.3333333333333333,\"#9c179e\"],[0.4444444444444444,\"#bd3786\"],[0.5555555555555556,\"#d8576b\"],[0.6666666666666666,\"#ed7953\"],[0.7777777777777778,\"#fb9f3a\"],[0.8888888888888888,\"#fdca26\"],[1.0,\"#f0f921\"]]}],\"heatmap\":[{\"type\":\"heatmap\",\"colorbar\":{\"outlinewidth\":0,\"ticks\":\"\"},\"colorscale\":[[0.0,\"#0d0887\"],[0.1111111111111111,\"#46039f\"],[0.2222222222222222,\"#7201a8\"],[0.3333333333333333,\"#9c179e\"],[0.4444444444444444,\"#bd3786\"],[0.5555555555555556,\"#d8576b\"],[0.6666666666666666,\"#ed7953\"],[0.7777777777777778,\"#fb9f3a\"],[0.8888888888888888,\"#fdca26\"],[1.0,\"#f0f921\"]]}],\"heatmapgl\":[{\"type\":\"heatmapgl\",\"colorbar\":{\"outlinewidth\":0,\"ticks\":\"\"},\"colorscale\":[[0.0,\"#0d0887\"],[0.1111111111111111,\"#46039f\"],[0.2222222222222222,\"#7201a8\"],[0.3333333333333333,\"#9c179e\"],[0.4444444444444444,\"#bd3786\"],[0.5555555555555556,\"#d8576b\"],[0.6666666666666666,\"#ed7953\"],[0.7777777777777778,\"#fb9f3a\"],[0.8888888888888888,\"#fdca26\"],[1.0,\"#f0f921\"]]}],\"contourcarpet\":[{\"type\":\"contourcarpet\",\"colorbar\":{\"outlinewidth\":0,\"ticks\":\"\"}}],\"contour\":[{\"type\":\"contour\",\"colorbar\":{\"outlinewidth\":0,\"ticks\":\"\"},\"colorscale\":[[0.0,\"#0d0887\"],[0.1111111111111111,\"#46039f\"],[0.2222222222222222,\"#7201a8\"],[0.3333333333333333,\"#9c179e\"],[0.4444444444444444,\"#bd3786\"],[0.5555555555555556,\"#d8576b\"],[0.6666666666666666,\"#ed7953\"],[0.7777777777777778,\"#fb9f3a\"],[0.8888888888888888,\"#fdca26\"],[1.0,\"#f0f921\"]]}],\"surface\":[{\"type\":\"surface\",\"colorbar\":{\"outlinewidth\":0,\"ticks\":\"\"},\"colorscale\":[[0.0,\"#0d0887\"],[0.1111111111111111,\"#46039f\"],[0.2222222222222222,\"#7201a8\"],[0.3333333333333333,\"#9c179e\"],[0.4444444444444444,\"#bd3786\"],[0.5555555555555556,\"#d8576b\"],[0.6666666666666666,\"#ed7953\"],[0.7777777777777778,\"#fb9f3a\"],[0.8888888888888888,\"#fdca26\"],[1.0,\"#f0f921\"]]}],\"mesh3d\":[{\"type\":\"mesh3d\",\"colorbar\":{\"outlinewidth\":0,\"ticks\":\"\"}}],\"scatter\":[{\"fillpattern\":{\"fillmode\":\"overlay\",\"size\":10,\"solidity\":0.2},\"type\":\"scatter\"}],\"parcoords\":[{\"type\":\"parcoords\",\"line\":{\"colorbar\":{\"outlinewidth\":0,\"ticks\":\"\"}}}],\"scatterpolargl\":[{\"type\":\"scatterpolargl\",\"marker\":{\"colorbar\":{\"outlinewidth\":0,\"ticks\":\"\"}}}],\"bar\":[{\"error_x\":{\"color\":\"#2a3f5f\"},\"error_y\":{\"color\":\"#2a3f5f\"},\"marker\":{\"line\":{\"color\":\"#E5ECF6\",\"width\":0.5},\"pattern\":{\"fillmode\":\"overlay\",\"size\":10,\"solidity\":0.2}},\"type\":\"bar\"}],\"scattergeo\":[{\"type\":\"scattergeo\",\"marker\":{\"colorbar\":{\"outlinewidth\":0,\"ticks\":\"\"}}}],\"scatterpolar\":[{\"type\":\"scatterpolar\",\"marker\":{\"colorbar\":{\"outlinewidth\":0,\"ticks\":\"\"}}}],\"histogram\":[{\"marker\":{\"pattern\":{\"fillmode\":\"overlay\",\"size\":10,\"solidity\":0.2}},\"type\":\"histogram\"}],\"scattergl\":[{\"type\":\"scattergl\",\"marker\":{\"colorbar\":{\"outlinewidth\":0,\"ticks\":\"\"}}}],\"scatter3d\":[{\"type\":\"scatter3d\",\"line\":{\"colorbar\":{\"outlinewidth\":0,\"ticks\":\"\"}},\"marker\":{\"colorbar\":{\"outlinewidth\":0,\"ticks\":\"\"}}}],\"scattermapbox\":[{\"type\":\"scattermapbox\",\"marker\":{\"colorbar\":{\"outlinewidth\":0,\"ticks\":\"\"}}}],\"scatterternary\":[{\"type\":\"scatterternary\",\"marker\":{\"colorbar\":{\"outlinewidth\":0,\"ticks\":\"\"}}}],\"scattercarpet\":[{\"type\":\"scattercarpet\",\"marker\":{\"colorbar\":{\"outlinewidth\":0,\"ticks\":\"\"}}}],\"carpet\":[{\"aaxis\":{\"endlinecolor\":\"#2a3f5f\",\"gridcolor\":\"white\",\"linecolor\":\"white\",\"minorgridcolor\":\"white\",\"startlinecolor\":\"#2a3f5f\"},\"baxis\":{\"endlinecolor\":\"#2a3f5f\",\"gridcolor\":\"white\",\"linecolor\":\"white\",\"minorgridcolor\":\"white\",\"startlinecolor\":\"#2a3f5f\"},\"type\":\"carpet\"}],\"table\":[{\"cells\":{\"fill\":{\"color\":\"#EBF0F8\"},\"line\":{\"color\":\"white\"}},\"header\":{\"fill\":{\"color\":\"#C8D4E3\"},\"line\":{\"color\":\"white\"}},\"type\":\"table\"}],\"barpolar\":[{\"marker\":{\"line\":{\"color\":\"#E5ECF6\",\"width\":0.5},\"pattern\":{\"fillmode\":\"overlay\",\"size\":10,\"solidity\":0.2}},\"type\":\"barpolar\"}],\"pie\":[{\"automargin\":true,\"type\":\"pie\"}]},\"layout\":{\"autotypenumbers\":\"strict\",\"colorway\":[\"#636efa\",\"#EF553B\",\"#00cc96\",\"#ab63fa\",\"#FFA15A\",\"#19d3f3\",\"#FF6692\",\"#B6E880\",\"#FF97FF\",\"#FECB52\"],\"font\":{\"color\":\"#2a3f5f\"},\"hovermode\":\"closest\",\"hoverlabel\":{\"align\":\"left\"},\"paper_bgcolor\":\"white\",\"plot_bgcolor\":\"#E5ECF6\",\"polar\":{\"bgcolor\":\"#E5ECF6\",\"angularaxis\":{\"gridcolor\":\"white\",\"linecolor\":\"white\",\"ticks\":\"\"},\"radialaxis\":{\"gridcolor\":\"white\",\"linecolor\":\"white\",\"ticks\":\"\"}},\"ternary\":{\"bgcolor\":\"#E5ECF6\",\"aaxis\":{\"gridcolor\":\"white\",\"linecolor\":\"white\",\"ticks\":\"\"},\"baxis\":{\"gridcolor\":\"white\",\"linecolor\":\"white\",\"ticks\":\"\"},\"caxis\":{\"gridcolor\":\"white\",\"linecolor\":\"white\",\"ticks\":\"\"}},\"coloraxis\":{\"colorbar\":{\"outlinewidth\":0,\"ticks\":\"\"}},\"colorscale\":{\"sequential\":[[0.0,\"#0d0887\"],[0.1111111111111111,\"#46039f\"],[0.2222222222222222,\"#7201a8\"],[0.3333333333333333,\"#9c179e\"],[0.4444444444444444,\"#bd3786\"],[0.5555555555555556,\"#d8576b\"],[0.6666666666666666,\"#ed7953\"],[0.7777777777777778,\"#fb9f3a\"],[0.8888888888888888,\"#fdca26\"],[1.0,\"#f0f921\"]],\"sequentialminus\":[[0.0,\"#0d0887\"],[0.1111111111111111,\"#46039f\"],[0.2222222222222222,\"#7201a8\"],[0.3333333333333333,\"#9c179e\"],[0.4444444444444444,\"#bd3786\"],[0.5555555555555556,\"#d8576b\"],[0.6666666666666666,\"#ed7953\"],[0.7777777777777778,\"#fb9f3a\"],[0.8888888888888888,\"#fdca26\"],[1.0,\"#f0f921\"]],\"diverging\":[[0,\"#8e0152\"],[0.1,\"#c51b7d\"],[0.2,\"#de77ae\"],[0.3,\"#f1b6da\"],[0.4,\"#fde0ef\"],[0.5,\"#f7f7f7\"],[0.6,\"#e6f5d0\"],[0.7,\"#b8e186\"],[0.8,\"#7fbc41\"],[0.9,\"#4d9221\"],[1,\"#276419\"]]},\"xaxis\":{\"gridcolor\":\"white\",\"linecolor\":\"white\",\"ticks\":\"\",\"title\":{\"standoff\":15},\"zerolinecolor\":\"white\",\"automargin\":true,\"zerolinewidth\":2},\"yaxis\":{\"gridcolor\":\"white\",\"linecolor\":\"white\",\"ticks\":\"\",\"title\":{\"standoff\":15},\"zerolinecolor\":\"white\",\"automargin\":true,\"zerolinewidth\":2},\"scene\":{\"xaxis\":{\"backgroundcolor\":\"#E5ECF6\",\"gridcolor\":\"white\",\"linecolor\":\"white\",\"showbackground\":true,\"ticks\":\"\",\"zerolinecolor\":\"white\",\"gridwidth\":2},\"yaxis\":{\"backgroundcolor\":\"#E5ECF6\",\"gridcolor\":\"white\",\"linecolor\":\"white\",\"showbackground\":true,\"ticks\":\"\",\"zerolinecolor\":\"white\",\"gridwidth\":2},\"zaxis\":{\"backgroundcolor\":\"#E5ECF6\",\"gridcolor\":\"white\",\"linecolor\":\"white\",\"showbackground\":true,\"ticks\":\"\",\"zerolinecolor\":\"white\",\"gridwidth\":2}},\"shapedefaults\":{\"line\":{\"color\":\"#2a3f5f\"}},\"annotationdefaults\":{\"arrowcolor\":\"#2a3f5f\",\"arrowhead\":0,\"arrowwidth\":1},\"geo\":{\"bgcolor\":\"white\",\"landcolor\":\"#E5ECF6\",\"subunitcolor\":\"white\",\"showland\":true,\"showlakes\":true,\"lakecolor\":\"white\"},\"title\":{\"x\":0.05},\"mapbox\":{\"style\":\"light\"}}},\"mapbox\":{\"domain\":{\"x\":[0.0,1.0],\"y\":[0.0,1.0]},\"center\":{\"lat\":35.13597893236272,\"lon\":-120.63157800652635},\"accesstoken\":\"pk.eyJ1IjoidHNjaGVsbGkiLCJhIjoiY2xienVseWJnMmFndjNvbml6bnl2cmY5ZSJ9.4OsA0FBjje5eniwvzW0CKA\",\"zoom\":8,\"style\":\"open-street-map\"},\"legend\":{\"tracegroupgap\":0},\"margin\":{\"t\":60}},                        {\"responsive\": true}                    ).then(function(){\n",
       "                            \n",
       "var gd = document.getElementById('bfa78b3a-6a9c-413b-a65e-ea98c4f33a19');\n",
       "var x = new MutationObserver(function (mutations, observer) {{\n",
       "        var display = window.getComputedStyle(gd).display;\n",
       "        if (!display || display === 'none') {{\n",
       "            console.log([gd, 'removed!']);\n",
       "            Plotly.purge(gd);\n",
       "            observer.disconnect();\n",
       "        }}\n",
       "}});\n",
       "\n",
       "// Listen for the removal of the full notebook cells\n",
       "var notebookContainer = gd.closest('#notebook-container');\n",
       "if (notebookContainer) {{\n",
       "    x.observe(notebookContainer, {childList: true});\n",
       "}}\n",
       "\n",
       "// Listen for the clearing of the current output cell\n",
       "var outputEl = gd.closest('.output');\n",
       "if (outputEl) {{\n",
       "    x.observe(outputEl, {childList: true});\n",
       "}}\n",
       "\n",
       "                        })                };                });            </script>        </div>"
      ]
     },
     "metadata": {},
     "output_type": "display_data"
    }
   ],
   "source": [
    "## add hover_name (name) and hover_data for price,rating,location\n",
    "px.scatter_mapbox(pismo_df, lat='latitude', lon='longitude', mapbox_style = 'open-street-map', \n",
    "                  hover_name='name', hover_data=['price', 'rating', 'location'])"
   ]
  },
  {
   "cell_type": "markdown",
   "id": "09d744ca",
   "metadata": {},
   "source": [
    "### Fixing the Location Column"
   ]
  },
  {
   "cell_type": "code",
   "execution_count": 20,
   "id": "15e6afdc",
   "metadata": {},
   "outputs": [
    {
     "data": {
      "text/plain": [
       "\"{'address1': '1101 Price St', 'address2': '', 'address3': '', 'city': 'Pismo Beach', 'zip_code': '93449', 'country': 'US', 'state': 'CA', 'display_address': ['1101 Price St', 'Pismo Beach, CA 93449']}\""
      ]
     },
     "execution_count": 20,
     "metadata": {},
     "output_type": "execute_result"
    }
   ],
   "source": [
    "## slice out a test address\n",
    "test_addr = pismo_df.loc[0, 'location']\n",
    "test_addr"
   ]
  },
  {
   "cell_type": "markdown",
   "id": "b573de0f",
   "metadata": {},
   "source": [
    "> Also a string-dictionary..."
   ]
  },
  {
   "cell_type": "code",
   "execution_count": 21,
   "id": "e5862a23",
   "metadata": {},
   "outputs": [
    {
     "data": {
      "text/html": [
       "<div>\n",
       "<style scoped>\n",
       "    .dataframe tbody tr th:only-of-type {\n",
       "        vertical-align: middle;\n",
       "    }\n",
       "\n",
       "    .dataframe tbody tr th {\n",
       "        vertical-align: top;\n",
       "    }\n",
       "\n",
       "    .dataframe thead th {\n",
       "        text-align: right;\n",
       "    }\n",
       "</style>\n",
       "<table border=\"1\" class=\"dataframe\">\n",
       "  <thead>\n",
       "    <tr style=\"text-align: right;\">\n",
       "      <th></th>\n",
       "      <th>id</th>\n",
       "      <th>alias</th>\n",
       "      <th>name</th>\n",
       "      <th>image_url</th>\n",
       "      <th>is_closed</th>\n",
       "      <th>url</th>\n",
       "      <th>review_count</th>\n",
       "      <th>categories</th>\n",
       "      <th>rating</th>\n",
       "      <th>transactions</th>\n",
       "      <th>price</th>\n",
       "      <th>location</th>\n",
       "      <th>phone</th>\n",
       "      <th>display_phone</th>\n",
       "      <th>distance</th>\n",
       "      <th>latitude</th>\n",
       "      <th>longitude</th>\n",
       "    </tr>\n",
       "  </thead>\n",
       "  <tbody>\n",
       "    <tr>\n",
       "      <th>0</th>\n",
       "      <td>Km1aQHFPP7VwvFimVByPgg</td>\n",
       "      <td>dels-pizzeria-pismo-beach</td>\n",
       "      <td>Del's Pizzeria</td>\n",
       "      <td>https://s3-media2.fl.yelpcdn.com/bphoto/dEgnqd...</td>\n",
       "      <td>False</td>\n",
       "      <td>https://www.yelp.com/biz/dels-pizzeria-pismo-b...</td>\n",
       "      <td>499</td>\n",
       "      <td>[{'alias': 'pizza', 'title': 'Pizza'}, {'alias...</td>\n",
       "      <td>4.0</td>\n",
       "      <td>['pickup', 'delivery']</td>\n",
       "      <td>$$</td>\n",
       "      <td>{\"address1\": \"1101 Price St\", \"address2\": \"\", ...</td>\n",
       "      <td>1.805773e+10</td>\n",
       "      <td>(805) 773-4438</td>\n",
       "      <td>456.832734</td>\n",
       "      <td>35.144050</td>\n",
       "      <td>-120.642900</td>\n",
       "    </tr>\n",
       "    <tr>\n",
       "      <th>1</th>\n",
       "      <td>UCH_lRmCHWBqzb0zs3Hbvg</td>\n",
       "      <td>pizmo-cafe-pismo-beach</td>\n",
       "      <td>PizMo Cafe</td>\n",
       "      <td>https://s3-media4.fl.yelpcdn.com/bphoto/rno5HY...</td>\n",
       "      <td>False</td>\n",
       "      <td>https://www.yelp.com/biz/pizmo-cafe-pismo-beac...</td>\n",
       "      <td>458</td>\n",
       "      <td>[{'alias': 'pizza', 'title': 'Pizza'}, {'alias...</td>\n",
       "      <td>4.0</td>\n",
       "      <td>['delivery']</td>\n",
       "      <td>$$</td>\n",
       "      <td>{\"address1\": \"270 Pomeroy Ave\", \"address2\": \"\"...</td>\n",
       "      <td>1.805556e+10</td>\n",
       "      <td>(805) 556-0347</td>\n",
       "      <td>488.774648</td>\n",
       "      <td>35.140504</td>\n",
       "      <td>-120.641385</td>\n",
       "    </tr>\n",
       "    <tr>\n",
       "      <th>2</th>\n",
       "      <td>vxFH7N_Ntxg-pagIIWM75g</td>\n",
       "      <td>beach-pizza-grover-beach</td>\n",
       "      <td>Beach Pizza</td>\n",
       "      <td>https://s3-media3.fl.yelpcdn.com/bphoto/aCoCRY...</td>\n",
       "      <td>False</td>\n",
       "      <td>https://www.yelp.com/biz/beach-pizza-grover-be...</td>\n",
       "      <td>138</td>\n",
       "      <td>[{'alias': 'pizza', 'title': 'Pizza'}, {'alias...</td>\n",
       "      <td>4.5</td>\n",
       "      <td>['pickup', 'delivery']</td>\n",
       "      <td>NaN</td>\n",
       "      <td>{\"address1\": \"960 W Grand Ave\", \"address2\": No...</td>\n",
       "      <td>1.805474e+10</td>\n",
       "      <td>(805) 474-4499</td>\n",
       "      <td>2999.014031</td>\n",
       "      <td>35.121110</td>\n",
       "      <td>-120.619640</td>\n",
       "    </tr>\n",
       "    <tr>\n",
       "      <th>3</th>\n",
       "      <td>4fAGqkTIOMmkXyylyQXhBw</td>\n",
       "      <td>ginos-pizza-pismo-beach</td>\n",
       "      <td>Gino's Pizza</td>\n",
       "      <td>https://s3-media3.fl.yelpcdn.com/bphoto/kPxejj...</td>\n",
       "      <td>False</td>\n",
       "      <td>https://www.yelp.com/biz/ginos-pizza-pismo-bea...</td>\n",
       "      <td>361</td>\n",
       "      <td>[{'alias': 'pizza', 'title': 'Pizza'}]</td>\n",
       "      <td>4.0</td>\n",
       "      <td>['pickup', 'delivery']</td>\n",
       "      <td>$$</td>\n",
       "      <td>{\"address1\": \"539 Five Cities Dr\", \"address2\":...</td>\n",
       "      <td>1.805556e+10</td>\n",
       "      <td>(805) 556-0939</td>\n",
       "      <td>1533.749594</td>\n",
       "      <td>35.135168</td>\n",
       "      <td>-120.624588</td>\n",
       "    </tr>\n",
       "    <tr>\n",
       "      <th>4</th>\n",
       "      <td>kbCBKe2CcNpjy61KoZ907Q</td>\n",
       "      <td>giuseppes-express-pismo-beach</td>\n",
       "      <td>Giuseppe's Express</td>\n",
       "      <td>https://s3-media2.fl.yelpcdn.com/bphoto/goUVCf...</td>\n",
       "      <td>False</td>\n",
       "      <td>https://www.yelp.com/biz/giuseppes-express-pis...</td>\n",
       "      <td>378</td>\n",
       "      <td>[{'alias': 'italian', 'title': 'Italian'}, {'a...</td>\n",
       "      <td>3.5</td>\n",
       "      <td>['delivery']</td>\n",
       "      <td>$$</td>\n",
       "      <td>{\"address1\": \"800 Price St\", \"address2\": \"\", \"...</td>\n",
       "      <td>1.805773e+10</td>\n",
       "      <td>(805) 773-2873</td>\n",
       "      <td>284.396328</td>\n",
       "      <td>35.142560</td>\n",
       "      <td>-120.640550</td>\n",
       "    </tr>\n",
       "    <tr>\n",
       "      <th>...</th>\n",
       "      <td>...</td>\n",
       "      <td>...</td>\n",
       "      <td>...</td>\n",
       "      <td>...</td>\n",
       "      <td>...</td>\n",
       "      <td>...</td>\n",
       "      <td>...</td>\n",
       "      <td>...</td>\n",
       "      <td>...</td>\n",
       "      <td>...</td>\n",
       "      <td>...</td>\n",
       "      <td>...</td>\n",
       "      <td>...</td>\n",
       "      <td>...</td>\n",
       "      <td>...</td>\n",
       "      <td>...</td>\n",
       "      <td>...</td>\n",
       "    </tr>\n",
       "    <tr>\n",
       "      <th>83</th>\n",
       "      <td>Ny2Qj6ywKrHsuqBcvg4kww</td>\n",
       "      <td>julias-juice-bar-grover-beach-2</td>\n",
       "      <td>Julia's Juice Bar</td>\n",
       "      <td>https://s3-media2.fl.yelpcdn.com/bphoto/Duwdva...</td>\n",
       "      <td>False</td>\n",
       "      <td>https://www.yelp.com/biz/julias-juice-bar-grov...</td>\n",
       "      <td>115</td>\n",
       "      <td>[{'alias': 'juicebars', 'title': 'Juice Bars &amp;...</td>\n",
       "      <td>4.5</td>\n",
       "      <td>[]</td>\n",
       "      <td>$$</td>\n",
       "      <td>{\"address1\": \"960 W Grand Ave\", \"address2\": \"S...</td>\n",
       "      <td>1.805481e+10</td>\n",
       "      <td>(805) 481-4100</td>\n",
       "      <td>2999.014031</td>\n",
       "      <td>35.121110</td>\n",
       "      <td>-120.619640</td>\n",
       "    </tr>\n",
       "    <tr>\n",
       "      <th>84</th>\n",
       "      <td>pEcfqzB3-Q7lhJpitGWhLg</td>\n",
       "      <td>cocos-bakery-restaurant-pismo-beach-3</td>\n",
       "      <td>Coco's Bakery Restaurant</td>\n",
       "      <td>https://s3-media2.fl.yelpcdn.com/bphoto/qc0hm2...</td>\n",
       "      <td>False</td>\n",
       "      <td>https://www.yelp.com/biz/cocos-bakery-restaura...</td>\n",
       "      <td>140</td>\n",
       "      <td>[{'alias': 'tradamerican', 'title': 'American ...</td>\n",
       "      <td>3.5</td>\n",
       "      <td>['delivery']</td>\n",
       "      <td>$$</td>\n",
       "      <td>{\"address1\": \"411 5 Cities Dr\", \"address2\": \"\"...</td>\n",
       "      <td>1.805773e+10</td>\n",
       "      <td>(805) 773-3240</td>\n",
       "      <td>1416.532006</td>\n",
       "      <td>35.136420</td>\n",
       "      <td>-120.625050</td>\n",
       "    </tr>\n",
       "    <tr>\n",
       "      <th>85</th>\n",
       "      <td>206Aj3TkUeCvFJojHFXinQ</td>\n",
       "      <td>biddle-ranch-vineyard-san-luis-obispo-2</td>\n",
       "      <td>Biddle Ranch Vineyard</td>\n",
       "      <td>https://s3-media2.fl.yelpcdn.com/bphoto/Lr6AiN...</td>\n",
       "      <td>False</td>\n",
       "      <td>https://www.yelp.com/biz/biddle-ranch-vineyard...</td>\n",
       "      <td>88</td>\n",
       "      <td>[{'alias': 'wineries', 'title': 'Wineries'}]</td>\n",
       "      <td>4.5</td>\n",
       "      <td>[]</td>\n",
       "      <td>$$</td>\n",
       "      <td>{\"address1\": \"2050 Biddle Ranch Rd\", \"address2...</td>\n",
       "      <td>1.805543e+10</td>\n",
       "      <td>(805) 543-2399</td>\n",
       "      <td>8231.417719</td>\n",
       "      <td>35.215348</td>\n",
       "      <td>-120.614705</td>\n",
       "    </tr>\n",
       "    <tr>\n",
       "      <th>86</th>\n",
       "      <td>pishOto_0wHMxiiUJ5NV_A</td>\n",
       "      <td>taco-bell-pismo-beach</td>\n",
       "      <td>Taco Bell</td>\n",
       "      <td>https://s3-media4.fl.yelpcdn.com/bphoto/pKWGnY...</td>\n",
       "      <td>False</td>\n",
       "      <td>https://www.yelp.com/biz/taco-bell-pismo-beach...</td>\n",
       "      <td>59</td>\n",
       "      <td>[{'alias': 'mexican', 'title': 'Mexican'}, {'a...</td>\n",
       "      <td>2.5</td>\n",
       "      <td>['delivery']</td>\n",
       "      <td>$</td>\n",
       "      <td>{\"address1\": \"867 Oak Park Blvd\", \"address2\": ...</td>\n",
       "      <td>1.805474e+10</td>\n",
       "      <td>(805) 474-4141</td>\n",
       "      <td>3205.195625</td>\n",
       "      <td>35.131459</td>\n",
       "      <td>-120.605904</td>\n",
       "    </tr>\n",
       "    <tr>\n",
       "      <th>87</th>\n",
       "      <td>OArcxEWtFq4uut9HTg-aCQ</td>\n",
       "      <td>taco-bell-grover-beach</td>\n",
       "      <td>Taco Bell</td>\n",
       "      <td>https://s3-media4.fl.yelpcdn.com/bphoto/ljA1rt...</td>\n",
       "      <td>False</td>\n",
       "      <td>https://www.yelp.com/biz/taco-bell-grover-beac...</td>\n",
       "      <td>85</td>\n",
       "      <td>[{'alias': 'mexican', 'title': 'Mexican'}, {'a...</td>\n",
       "      <td>2.0</td>\n",
       "      <td>['delivery']</td>\n",
       "      <td>$</td>\n",
       "      <td>{\"address1\": \"1500 W Grand Ave\", \"address2\": \"...</td>\n",
       "      <td>1.805481e+10</td>\n",
       "      <td>(805) 481-3852</td>\n",
       "      <td>3413.898794</td>\n",
       "      <td>35.121122</td>\n",
       "      <td>-120.612425</td>\n",
       "    </tr>\n",
       "  </tbody>\n",
       "</table>\n",
       "<p>88 rows × 17 columns</p>\n",
       "</div>"
      ],
      "text/plain": [
       "                        id                                    alias  \\\n",
       "0   Km1aQHFPP7VwvFimVByPgg                dels-pizzeria-pismo-beach   \n",
       "1   UCH_lRmCHWBqzb0zs3Hbvg                   pizmo-cafe-pismo-beach   \n",
       "2   vxFH7N_Ntxg-pagIIWM75g                 beach-pizza-grover-beach   \n",
       "3   4fAGqkTIOMmkXyylyQXhBw                  ginos-pizza-pismo-beach   \n",
       "4   kbCBKe2CcNpjy61KoZ907Q            giuseppes-express-pismo-beach   \n",
       "..                     ...                                      ...   \n",
       "83  Ny2Qj6ywKrHsuqBcvg4kww          julias-juice-bar-grover-beach-2   \n",
       "84  pEcfqzB3-Q7lhJpitGWhLg    cocos-bakery-restaurant-pismo-beach-3   \n",
       "85  206Aj3TkUeCvFJojHFXinQ  biddle-ranch-vineyard-san-luis-obispo-2   \n",
       "86  pishOto_0wHMxiiUJ5NV_A                    taco-bell-pismo-beach   \n",
       "87  OArcxEWtFq4uut9HTg-aCQ                   taco-bell-grover-beach   \n",
       "\n",
       "                        name  \\\n",
       "0             Del's Pizzeria   \n",
       "1                 PizMo Cafe   \n",
       "2                Beach Pizza   \n",
       "3               Gino's Pizza   \n",
       "4         Giuseppe's Express   \n",
       "..                       ...   \n",
       "83         Julia's Juice Bar   \n",
       "84  Coco's Bakery Restaurant   \n",
       "85     Biddle Ranch Vineyard   \n",
       "86                 Taco Bell   \n",
       "87                 Taco Bell   \n",
       "\n",
       "                                            image_url  is_closed  \\\n",
       "0   https://s3-media2.fl.yelpcdn.com/bphoto/dEgnqd...      False   \n",
       "1   https://s3-media4.fl.yelpcdn.com/bphoto/rno5HY...      False   \n",
       "2   https://s3-media3.fl.yelpcdn.com/bphoto/aCoCRY...      False   \n",
       "3   https://s3-media3.fl.yelpcdn.com/bphoto/kPxejj...      False   \n",
       "4   https://s3-media2.fl.yelpcdn.com/bphoto/goUVCf...      False   \n",
       "..                                                ...        ...   \n",
       "83  https://s3-media2.fl.yelpcdn.com/bphoto/Duwdva...      False   \n",
       "84  https://s3-media2.fl.yelpcdn.com/bphoto/qc0hm2...      False   \n",
       "85  https://s3-media2.fl.yelpcdn.com/bphoto/Lr6AiN...      False   \n",
       "86  https://s3-media4.fl.yelpcdn.com/bphoto/pKWGnY...      False   \n",
       "87  https://s3-media4.fl.yelpcdn.com/bphoto/ljA1rt...      False   \n",
       "\n",
       "                                                  url  review_count  \\\n",
       "0   https://www.yelp.com/biz/dels-pizzeria-pismo-b...           499   \n",
       "1   https://www.yelp.com/biz/pizmo-cafe-pismo-beac...           458   \n",
       "2   https://www.yelp.com/biz/beach-pizza-grover-be...           138   \n",
       "3   https://www.yelp.com/biz/ginos-pizza-pismo-bea...           361   \n",
       "4   https://www.yelp.com/biz/giuseppes-express-pis...           378   \n",
       "..                                                ...           ...   \n",
       "83  https://www.yelp.com/biz/julias-juice-bar-grov...           115   \n",
       "84  https://www.yelp.com/biz/cocos-bakery-restaura...           140   \n",
       "85  https://www.yelp.com/biz/biddle-ranch-vineyard...            88   \n",
       "86  https://www.yelp.com/biz/taco-bell-pismo-beach...            59   \n",
       "87  https://www.yelp.com/biz/taco-bell-grover-beac...            85   \n",
       "\n",
       "                                           categories  rating  \\\n",
       "0   [{'alias': 'pizza', 'title': 'Pizza'}, {'alias...     4.0   \n",
       "1   [{'alias': 'pizza', 'title': 'Pizza'}, {'alias...     4.0   \n",
       "2   [{'alias': 'pizza', 'title': 'Pizza'}, {'alias...     4.5   \n",
       "3              [{'alias': 'pizza', 'title': 'Pizza'}]     4.0   \n",
       "4   [{'alias': 'italian', 'title': 'Italian'}, {'a...     3.5   \n",
       "..                                                ...     ...   \n",
       "83  [{'alias': 'juicebars', 'title': 'Juice Bars &...     4.5   \n",
       "84  [{'alias': 'tradamerican', 'title': 'American ...     3.5   \n",
       "85       [{'alias': 'wineries', 'title': 'Wineries'}]     4.5   \n",
       "86  [{'alias': 'mexican', 'title': 'Mexican'}, {'a...     2.5   \n",
       "87  [{'alias': 'mexican', 'title': 'Mexican'}, {'a...     2.0   \n",
       "\n",
       "              transactions price  \\\n",
       "0   ['pickup', 'delivery']    $$   \n",
       "1             ['delivery']    $$   \n",
       "2   ['pickup', 'delivery']   NaN   \n",
       "3   ['pickup', 'delivery']    $$   \n",
       "4             ['delivery']    $$   \n",
       "..                     ...   ...   \n",
       "83                      []    $$   \n",
       "84            ['delivery']    $$   \n",
       "85                      []    $$   \n",
       "86            ['delivery']     $   \n",
       "87            ['delivery']     $   \n",
       "\n",
       "                                             location         phone  \\\n",
       "0   {\"address1\": \"1101 Price St\", \"address2\": \"\", ...  1.805773e+10   \n",
       "1   {\"address1\": \"270 Pomeroy Ave\", \"address2\": \"\"...  1.805556e+10   \n",
       "2   {\"address1\": \"960 W Grand Ave\", \"address2\": No...  1.805474e+10   \n",
       "3   {\"address1\": \"539 Five Cities Dr\", \"address2\":...  1.805556e+10   \n",
       "4   {\"address1\": \"800 Price St\", \"address2\": \"\", \"...  1.805773e+10   \n",
       "..                                                ...           ...   \n",
       "83  {\"address1\": \"960 W Grand Ave\", \"address2\": \"S...  1.805481e+10   \n",
       "84  {\"address1\": \"411 5 Cities Dr\", \"address2\": \"\"...  1.805773e+10   \n",
       "85  {\"address1\": \"2050 Biddle Ranch Rd\", \"address2...  1.805543e+10   \n",
       "86  {\"address1\": \"867 Oak Park Blvd\", \"address2\": ...  1.805474e+10   \n",
       "87  {\"address1\": \"1500 W Grand Ave\", \"address2\": \"...  1.805481e+10   \n",
       "\n",
       "     display_phone     distance   latitude   longitude  \n",
       "0   (805) 773-4438   456.832734  35.144050 -120.642900  \n",
       "1   (805) 556-0347   488.774648  35.140504 -120.641385  \n",
       "2   (805) 474-4499  2999.014031  35.121110 -120.619640  \n",
       "3   (805) 556-0939  1533.749594  35.135168 -120.624588  \n",
       "4   (805) 773-2873   284.396328  35.142560 -120.640550  \n",
       "..             ...          ...        ...         ...  \n",
       "83  (805) 481-4100  2999.014031  35.121110 -120.619640  \n",
       "84  (805) 773-3240  1416.532006  35.136420 -120.625050  \n",
       "85  (805) 543-2399  8231.417719  35.215348 -120.614705  \n",
       "86  (805) 474-4141  3205.195625  35.131459 -120.605904  \n",
       "87  (805) 481-3852  3413.898794  35.121122 -120.612425  \n",
       "\n",
       "[88 rows x 17 columns]"
      ]
     },
     "execution_count": 21,
     "metadata": {},
     "output_type": "execute_result"
    }
   ],
   "source": [
    "## replace ' with \"\n",
    "pismo_df['location'] = pismo_df['location'].str.replace(\"'\", '\"')\n",
    "pismo_df"
   ]
  },
  {
   "cell_type": "code",
   "execution_count": 22,
   "id": "1606ed4a",
   "metadata": {},
   "outputs": [
    {
     "ename": "JSONDecodeError",
     "evalue": "Expecting value: line 1 column 45 (char 44)",
     "output_type": "error",
     "traceback": [
      "\u001b[1;31m---------------------------------------------------------------------------\u001b[0m",
      "\u001b[1;31mJSONDecodeError\u001b[0m                           Traceback (most recent call last)",
      "Cell \u001b[1;32mIn [22], line 2\u001b[0m\n\u001b[0;32m      1\u001b[0m \u001b[38;5;66;03m## apply json.loads\u001b[39;00m\n\u001b[1;32m----> 2\u001b[0m pismo_df[\u001b[38;5;124m'\u001b[39m\u001b[38;5;124mlocation\u001b[39m\u001b[38;5;124m'\u001b[39m] \u001b[38;5;241m=\u001b[39m \u001b[43mpismo_df\u001b[49m\u001b[43m[\u001b[49m\u001b[38;5;124;43m'\u001b[39;49m\u001b[38;5;124;43mlocation\u001b[39;49m\u001b[38;5;124;43m'\u001b[39;49m\u001b[43m]\u001b[49m\u001b[38;5;241;43m.\u001b[39;49m\u001b[43mapply\u001b[49m\u001b[43m(\u001b[49m\u001b[43mjson\u001b[49m\u001b[38;5;241;43m.\u001b[39;49m\u001b[43mloads\u001b[49m\u001b[43m)\u001b[49m\n\u001b[0;32m      3\u001b[0m pismo_df\n",
      "File \u001b[1;32m~\\anaconda3\\envs\\dojo-env\\lib\\site-packages\\pandas\\core\\series.py:4771\u001b[0m, in \u001b[0;36mSeries.apply\u001b[1;34m(self, func, convert_dtype, args, **kwargs)\u001b[0m\n\u001b[0;32m   4661\u001b[0m \u001b[38;5;28;01mdef\u001b[39;00m \u001b[38;5;21mapply\u001b[39m(\n\u001b[0;32m   4662\u001b[0m     \u001b[38;5;28mself\u001b[39m,\n\u001b[0;32m   4663\u001b[0m     func: AggFuncType,\n\u001b[1;32m   (...)\u001b[0m\n\u001b[0;32m   4666\u001b[0m     \u001b[38;5;241m*\u001b[39m\u001b[38;5;241m*\u001b[39mkwargs,\n\u001b[0;32m   4667\u001b[0m ) \u001b[38;5;241m-\u001b[39m\u001b[38;5;241m>\u001b[39m DataFrame \u001b[38;5;241m|\u001b[39m Series:\n\u001b[0;32m   4668\u001b[0m     \u001b[38;5;124;03m\"\"\"\u001b[39;00m\n\u001b[0;32m   4669\u001b[0m \u001b[38;5;124;03m    Invoke function on values of Series.\u001b[39;00m\n\u001b[0;32m   4670\u001b[0m \n\u001b[1;32m   (...)\u001b[0m\n\u001b[0;32m   4769\u001b[0m \u001b[38;5;124;03m    dtype: float64\u001b[39;00m\n\u001b[0;32m   4770\u001b[0m \u001b[38;5;124;03m    \"\"\"\u001b[39;00m\n\u001b[1;32m-> 4771\u001b[0m     \u001b[38;5;28;01mreturn\u001b[39;00m \u001b[43mSeriesApply\u001b[49m\u001b[43m(\u001b[49m\u001b[38;5;28;43mself\u001b[39;49m\u001b[43m,\u001b[49m\u001b[43m \u001b[49m\u001b[43mfunc\u001b[49m\u001b[43m,\u001b[49m\u001b[43m \u001b[49m\u001b[43mconvert_dtype\u001b[49m\u001b[43m,\u001b[49m\u001b[43m \u001b[49m\u001b[43margs\u001b[49m\u001b[43m,\u001b[49m\u001b[43m \u001b[49m\u001b[43mkwargs\u001b[49m\u001b[43m)\u001b[49m\u001b[38;5;241;43m.\u001b[39;49m\u001b[43mapply\u001b[49m\u001b[43m(\u001b[49m\u001b[43m)\u001b[49m\n",
      "File \u001b[1;32m~\\anaconda3\\envs\\dojo-env\\lib\\site-packages\\pandas\\core\\apply.py:1105\u001b[0m, in \u001b[0;36mSeriesApply.apply\u001b[1;34m(self)\u001b[0m\n\u001b[0;32m   1102\u001b[0m     \u001b[38;5;28;01mreturn\u001b[39;00m \u001b[38;5;28mself\u001b[39m\u001b[38;5;241m.\u001b[39mapply_str()\n\u001b[0;32m   1104\u001b[0m \u001b[38;5;66;03m# self.f is Callable\u001b[39;00m\n\u001b[1;32m-> 1105\u001b[0m \u001b[38;5;28;01mreturn\u001b[39;00m \u001b[38;5;28;43mself\u001b[39;49m\u001b[38;5;241;43m.\u001b[39;49m\u001b[43mapply_standard\u001b[49m\u001b[43m(\u001b[49m\u001b[43m)\u001b[49m\n",
      "File \u001b[1;32m~\\anaconda3\\envs\\dojo-env\\lib\\site-packages\\pandas\\core\\apply.py:1156\u001b[0m, in \u001b[0;36mSeriesApply.apply_standard\u001b[1;34m(self)\u001b[0m\n\u001b[0;32m   1154\u001b[0m     \u001b[38;5;28;01melse\u001b[39;00m:\n\u001b[0;32m   1155\u001b[0m         values \u001b[38;5;241m=\u001b[39m obj\u001b[38;5;241m.\u001b[39mastype(\u001b[38;5;28mobject\u001b[39m)\u001b[38;5;241m.\u001b[39m_values\n\u001b[1;32m-> 1156\u001b[0m         mapped \u001b[38;5;241m=\u001b[39m \u001b[43mlib\u001b[49m\u001b[38;5;241;43m.\u001b[39;49m\u001b[43mmap_infer\u001b[49m\u001b[43m(\u001b[49m\n\u001b[0;32m   1157\u001b[0m \u001b[43m            \u001b[49m\u001b[43mvalues\u001b[49m\u001b[43m,\u001b[49m\n\u001b[0;32m   1158\u001b[0m \u001b[43m            \u001b[49m\u001b[43mf\u001b[49m\u001b[43m,\u001b[49m\n\u001b[0;32m   1159\u001b[0m \u001b[43m            \u001b[49m\u001b[43mconvert\u001b[49m\u001b[38;5;241;43m=\u001b[39;49m\u001b[38;5;28;43mself\u001b[39;49m\u001b[38;5;241;43m.\u001b[39;49m\u001b[43mconvert_dtype\u001b[49m\u001b[43m,\u001b[49m\n\u001b[0;32m   1160\u001b[0m \u001b[43m        \u001b[49m\u001b[43m)\u001b[49m\n\u001b[0;32m   1162\u001b[0m \u001b[38;5;28;01mif\u001b[39;00m \u001b[38;5;28mlen\u001b[39m(mapped) \u001b[38;5;129;01mand\u001b[39;00m \u001b[38;5;28misinstance\u001b[39m(mapped[\u001b[38;5;241m0\u001b[39m], ABCSeries):\n\u001b[0;32m   1163\u001b[0m     \u001b[38;5;66;03m# GH#43986 Need to do list(mapped) in order to get treated as nested\u001b[39;00m\n\u001b[0;32m   1164\u001b[0m     \u001b[38;5;66;03m#  See also GH#25959 regarding EA support\u001b[39;00m\n\u001b[0;32m   1165\u001b[0m     \u001b[38;5;28;01mreturn\u001b[39;00m obj\u001b[38;5;241m.\u001b[39m_constructor_expanddim(\u001b[38;5;28mlist\u001b[39m(mapped), index\u001b[38;5;241m=\u001b[39mobj\u001b[38;5;241m.\u001b[39mindex)\n",
      "File \u001b[1;32m~\\anaconda3\\envs\\dojo-env\\lib\\site-packages\\pandas\\_libs\\lib.pyx:2918\u001b[0m, in \u001b[0;36mpandas._libs.lib.map_infer\u001b[1;34m()\u001b[0m\n",
      "File \u001b[1;32m~\\anaconda3\\envs\\dojo-env\\lib\\json\\__init__.py:346\u001b[0m, in \u001b[0;36mloads\u001b[1;34m(s, cls, object_hook, parse_float, parse_int, parse_constant, object_pairs_hook, **kw)\u001b[0m\n\u001b[0;32m    341\u001b[0m     s \u001b[38;5;241m=\u001b[39m s\u001b[38;5;241m.\u001b[39mdecode(detect_encoding(s), \u001b[38;5;124m'\u001b[39m\u001b[38;5;124msurrogatepass\u001b[39m\u001b[38;5;124m'\u001b[39m)\n\u001b[0;32m    343\u001b[0m \u001b[38;5;28;01mif\u001b[39;00m (\u001b[38;5;28mcls\u001b[39m \u001b[38;5;129;01mis\u001b[39;00m \u001b[38;5;28;01mNone\u001b[39;00m \u001b[38;5;129;01mand\u001b[39;00m object_hook \u001b[38;5;129;01mis\u001b[39;00m \u001b[38;5;28;01mNone\u001b[39;00m \u001b[38;5;129;01mand\u001b[39;00m\n\u001b[0;32m    344\u001b[0m         parse_int \u001b[38;5;129;01mis\u001b[39;00m \u001b[38;5;28;01mNone\u001b[39;00m \u001b[38;5;129;01mand\u001b[39;00m parse_float \u001b[38;5;129;01mis\u001b[39;00m \u001b[38;5;28;01mNone\u001b[39;00m \u001b[38;5;129;01mand\u001b[39;00m\n\u001b[0;32m    345\u001b[0m         parse_constant \u001b[38;5;129;01mis\u001b[39;00m \u001b[38;5;28;01mNone\u001b[39;00m \u001b[38;5;129;01mand\u001b[39;00m object_pairs_hook \u001b[38;5;129;01mis\u001b[39;00m \u001b[38;5;28;01mNone\u001b[39;00m \u001b[38;5;129;01mand\u001b[39;00m \u001b[38;5;129;01mnot\u001b[39;00m kw):\n\u001b[1;32m--> 346\u001b[0m     \u001b[38;5;28;01mreturn\u001b[39;00m \u001b[43m_default_decoder\u001b[49m\u001b[38;5;241;43m.\u001b[39;49m\u001b[43mdecode\u001b[49m\u001b[43m(\u001b[49m\u001b[43ms\u001b[49m\u001b[43m)\u001b[49m\n\u001b[0;32m    347\u001b[0m \u001b[38;5;28;01mif\u001b[39;00m \u001b[38;5;28mcls\u001b[39m \u001b[38;5;129;01mis\u001b[39;00m \u001b[38;5;28;01mNone\u001b[39;00m:\n\u001b[0;32m    348\u001b[0m     \u001b[38;5;28mcls\u001b[39m \u001b[38;5;241m=\u001b[39m JSONDecoder\n",
      "File \u001b[1;32m~\\anaconda3\\envs\\dojo-env\\lib\\json\\decoder.py:337\u001b[0m, in \u001b[0;36mJSONDecoder.decode\u001b[1;34m(self, s, _w)\u001b[0m\n\u001b[0;32m    332\u001b[0m \u001b[38;5;28;01mdef\u001b[39;00m \u001b[38;5;21mdecode\u001b[39m(\u001b[38;5;28mself\u001b[39m, s, _w\u001b[38;5;241m=\u001b[39mWHITESPACE\u001b[38;5;241m.\u001b[39mmatch):\n\u001b[0;32m    333\u001b[0m     \u001b[38;5;124;03m\"\"\"Return the Python representation of ``s`` (a ``str`` instance\u001b[39;00m\n\u001b[0;32m    334\u001b[0m \u001b[38;5;124;03m    containing a JSON document).\u001b[39;00m\n\u001b[0;32m    335\u001b[0m \n\u001b[0;32m    336\u001b[0m \u001b[38;5;124;03m    \"\"\"\u001b[39;00m\n\u001b[1;32m--> 337\u001b[0m     obj, end \u001b[38;5;241m=\u001b[39m \u001b[38;5;28;43mself\u001b[39;49m\u001b[38;5;241;43m.\u001b[39;49m\u001b[43mraw_decode\u001b[49m\u001b[43m(\u001b[49m\u001b[43ms\u001b[49m\u001b[43m,\u001b[49m\u001b[43m \u001b[49m\u001b[43midx\u001b[49m\u001b[38;5;241;43m=\u001b[39;49m\u001b[43m_w\u001b[49m\u001b[43m(\u001b[49m\u001b[43ms\u001b[49m\u001b[43m,\u001b[49m\u001b[43m \u001b[49m\u001b[38;5;241;43m0\u001b[39;49m\u001b[43m)\u001b[49m\u001b[38;5;241;43m.\u001b[39;49m\u001b[43mend\u001b[49m\u001b[43m(\u001b[49m\u001b[43m)\u001b[49m\u001b[43m)\u001b[49m\n\u001b[0;32m    338\u001b[0m     end \u001b[38;5;241m=\u001b[39m _w(s, end)\u001b[38;5;241m.\u001b[39mend()\n\u001b[0;32m    339\u001b[0m     \u001b[38;5;28;01mif\u001b[39;00m end \u001b[38;5;241m!=\u001b[39m \u001b[38;5;28mlen\u001b[39m(s):\n",
      "File \u001b[1;32m~\\anaconda3\\envs\\dojo-env\\lib\\json\\decoder.py:355\u001b[0m, in \u001b[0;36mJSONDecoder.raw_decode\u001b[1;34m(self, s, idx)\u001b[0m\n\u001b[0;32m    353\u001b[0m     obj, end \u001b[38;5;241m=\u001b[39m \u001b[38;5;28mself\u001b[39m\u001b[38;5;241m.\u001b[39mscan_once(s, idx)\n\u001b[0;32m    354\u001b[0m \u001b[38;5;28;01mexcept\u001b[39;00m \u001b[38;5;167;01mStopIteration\u001b[39;00m \u001b[38;5;28;01mas\u001b[39;00m err:\n\u001b[1;32m--> 355\u001b[0m     \u001b[38;5;28;01mraise\u001b[39;00m JSONDecodeError(\u001b[38;5;124m\"\u001b[39m\u001b[38;5;124mExpecting value\u001b[39m\u001b[38;5;124m\"\u001b[39m, s, err\u001b[38;5;241m.\u001b[39mvalue) \u001b[38;5;28;01mfrom\u001b[39;00m \u001b[38;5;28mNone\u001b[39m\n\u001b[0;32m    356\u001b[0m \u001b[38;5;28;01mreturn\u001b[39;00m obj, end\n",
      "\u001b[1;31mJSONDecodeError\u001b[0m: Expecting value: line 1 column 45 (char 44)"
     ]
    }
   ],
   "source": [
    "## apply json.loads\n",
    "pismo_df['location'] = pismo_df['location'].apply(json.loads)\n",
    "pismo_df"
   ]
  },
  {
   "cell_type": "markdown",
   "id": "6e3fc5c2",
   "metadata": {},
   "source": [
    "> Ruh roh....\n",
    "\n",
    "- Hmm, let's slice out a test_address again and let's write a function to accomplish this instead.\n",
    "    - We can use try and except in our function to get around the errors."
   ]
  },
  {
   "cell_type": "markdown",
   "id": "b0fe3a7a",
   "metadata": {},
   "source": [
    "### Fixing Addresses - with a custom function\n"
   ]
  },
  {
   "cell_type": "code",
   "execution_count": 23,
   "id": "b1964520",
   "metadata": {},
   "outputs": [
    {
     "data": {
      "text/plain": [
       "'{\"address1\": \"1101 Price St\", \"address2\": \"\", \"address3\": \"\", \"city\": \"Pismo Beach\", \"zip_code\": \"93449\", \"country\": \"US\", \"state\": \"CA\", \"display_address\": [\"1101 Price St\", \"Pismo Beach, CA 93449\"]}'"
      ]
     },
     "execution_count": 23,
     "metadata": {},
     "output_type": "execute_result"
    }
   ],
   "source": [
    "## slice out test address \n",
    "test_addr = pismo_df.loc[0, 'location']\n",
    "test_addr"
   ]
  },
  {
   "cell_type": "code",
   "execution_count": 24,
   "id": "89ee686e",
   "metadata": {},
   "outputs": [],
   "source": [
    "## write a function to just run json.loads on the address\n",
    "def fix_address(test_addr):\n",
    "    try: \n",
    "        return json.loads(test_addr)\n",
    "    except:\n",
    "        return 'Error'"
   ]
  },
  {
   "cell_type": "code",
   "execution_count": 25,
   "id": "0d25f01b",
   "metadata": {},
   "outputs": [
    {
     "data": {
      "text/plain": [
       "0     {'address1': '1101 Price St', 'address2': '', ...\n",
       "1     {'address1': '270 Pomeroy Ave', 'address2': ''...\n",
       "2                                                 Error\n",
       "3                                                 Error\n",
       "4     {'address1': '800 Price St', 'address2': '', '...\n",
       "                            ...                        \n",
       "83    {'address1': '960 W Grand Ave', 'address2': 'S...\n",
       "84    {'address1': '411 5 Cities Dr', 'address2': ''...\n",
       "85    {'address1': '2050 Biddle Ranch Rd', 'address2...\n",
       "86    {'address1': '867 Oak Park Blvd', 'address2': ...\n",
       "87    {'address1': '1500 W Grand Ave', 'address2': '...\n",
       "Name: location, Length: 88, dtype: object"
      ]
     },
     "execution_count": 25,
     "metadata": {},
     "output_type": "execute_result"
    }
   ],
   "source": [
    "## test applying our function\n",
    "pismo_df['location'].apply(fix_address)"
   ]
  },
  {
   "cell_type": "markdown",
   "id": "c8cbc436",
   "metadata": {},
   "source": [
    "- It worked! Now let's save this as a new column (display_location),\n",
    "and then let's investigate the businesses that had an \"ERROR\"."
   ]
  },
  {
   "cell_type": "code",
   "execution_count": 26,
   "id": "49a511e8",
   "metadata": {},
   "outputs": [],
   "source": [
    "### save a new display_location column using our function\n",
    "pismo_df['display_location'] = pismo_df['location'].apply(fix_address)"
   ]
  },
  {
   "cell_type": "code",
   "execution_count": 31,
   "id": "346a2869",
   "metadata": {
    "scrolled": true
   },
   "outputs": [
    {
     "data": {
      "text/html": [
       "<div>\n",
       "<style scoped>\n",
       "    .dataframe tbody tr th:only-of-type {\n",
       "        vertical-align: middle;\n",
       "    }\n",
       "\n",
       "    .dataframe tbody tr th {\n",
       "        vertical-align: top;\n",
       "    }\n",
       "\n",
       "    .dataframe thead th {\n",
       "        text-align: right;\n",
       "    }\n",
       "</style>\n",
       "<table border=\"1\" class=\"dataframe\">\n",
       "  <thead>\n",
       "    <tr style=\"text-align: right;\">\n",
       "      <th></th>\n",
       "      <th>id</th>\n",
       "      <th>alias</th>\n",
       "      <th>name</th>\n",
       "      <th>image_url</th>\n",
       "      <th>is_closed</th>\n",
       "      <th>url</th>\n",
       "      <th>review_count</th>\n",
       "      <th>categories</th>\n",
       "      <th>rating</th>\n",
       "      <th>transactions</th>\n",
       "      <th>price</th>\n",
       "      <th>location</th>\n",
       "      <th>phone</th>\n",
       "      <th>display_phone</th>\n",
       "      <th>distance</th>\n",
       "      <th>latitude</th>\n",
       "      <th>longitude</th>\n",
       "      <th>display_location</th>\n",
       "    </tr>\n",
       "  </thead>\n",
       "  <tbody>\n",
       "    <tr>\n",
       "      <th>2</th>\n",
       "      <td>vxFH7N_Ntxg-pagIIWM75g</td>\n",
       "      <td>beach-pizza-grover-beach</td>\n",
       "      <td>Beach Pizza</td>\n",
       "      <td>https://s3-media3.fl.yelpcdn.com/bphoto/aCoCRY...</td>\n",
       "      <td>False</td>\n",
       "      <td>https://www.yelp.com/biz/beach-pizza-grover-be...</td>\n",
       "      <td>138</td>\n",
       "      <td>[{'alias': 'pizza', 'title': 'Pizza'}, {'alias...</td>\n",
       "      <td>4.5</td>\n",
       "      <td>['pickup', 'delivery']</td>\n",
       "      <td>NaN</td>\n",
       "      <td>{\"address1\": \"960 W Grand Ave\", \"address2\": No...</td>\n",
       "      <td>1.805474e+10</td>\n",
       "      <td>(805) 474-4499</td>\n",
       "      <td>2999.014031</td>\n",
       "      <td>35.121110</td>\n",
       "      <td>-120.619640</td>\n",
       "      <td>Error</td>\n",
       "    </tr>\n",
       "    <tr>\n",
       "      <th>3</th>\n",
       "      <td>4fAGqkTIOMmkXyylyQXhBw</td>\n",
       "      <td>ginos-pizza-pismo-beach</td>\n",
       "      <td>Gino's Pizza</td>\n",
       "      <td>https://s3-media3.fl.yelpcdn.com/bphoto/kPxejj...</td>\n",
       "      <td>False</td>\n",
       "      <td>https://www.yelp.com/biz/ginos-pizza-pismo-bea...</td>\n",
       "      <td>361</td>\n",
       "      <td>[{'alias': 'pizza', 'title': 'Pizza'}]</td>\n",
       "      <td>4.0</td>\n",
       "      <td>['pickup', 'delivery']</td>\n",
       "      <td>$$</td>\n",
       "      <td>{\"address1\": \"539 Five Cities Dr\", \"address2\":...</td>\n",
       "      <td>1.805556e+10</td>\n",
       "      <td>(805) 556-0939</td>\n",
       "      <td>1533.749594</td>\n",
       "      <td>35.135168</td>\n",
       "      <td>-120.624588</td>\n",
       "      <td>Error</td>\n",
       "    </tr>\n",
       "    <tr>\n",
       "      <th>5</th>\n",
       "      <td>dWNxwCf8R_SDJf63E4pfAw</td>\n",
       "      <td>me-n-ed-s-pizzeria-and-craft-house-pismo-beach-2</td>\n",
       "      <td>Me n Ed’s Pizzeria and Craft House</td>\n",
       "      <td>https://s3-media2.fl.yelpcdn.com/bphoto/7fpkEX...</td>\n",
       "      <td>False</td>\n",
       "      <td>https://www.yelp.com/biz/me-n-ed-s-pizzeria-an...</td>\n",
       "      <td>65</td>\n",
       "      <td>[{'alias': 'pizza', 'title': 'Pizza'}, {'alias...</td>\n",
       "      <td>3.5</td>\n",
       "      <td>[]</td>\n",
       "      <td>NaN</td>\n",
       "      <td>{\"address1\": \"750 Price St\", \"address2\": None,...</td>\n",
       "      <td>1.805556e+10</td>\n",
       "      <td>(805) 556-3636</td>\n",
       "      <td>281.184189</td>\n",
       "      <td>35.142100</td>\n",
       "      <td>-120.640040</td>\n",
       "      <td>Error</td>\n",
       "    </tr>\n",
       "    <tr>\n",
       "      <th>7</th>\n",
       "      <td>EqLSwFmOJ6kosvRFELw70w</td>\n",
       "      <td>palo-mesa-wood-fired-arroyo-grande</td>\n",
       "      <td>Palo Mesa Wood Fired</td>\n",
       "      <td>https://s3-media4.fl.yelpcdn.com/bphoto/qS_y0w...</td>\n",
       "      <td>False</td>\n",
       "      <td>https://www.yelp.com/biz/palo-mesa-wood-fired-...</td>\n",
       "      <td>184</td>\n",
       "      <td>[{'alias': 'salad', 'title': 'Salad'}, {'alias...</td>\n",
       "      <td>4.5</td>\n",
       "      <td>['delivery']</td>\n",
       "      <td>$$</td>\n",
       "      <td>{\"address1\": \"150 West Branch St\", \"address2\":...</td>\n",
       "      <td>1.805905e+10</td>\n",
       "      <td>(805) 904-6807</td>\n",
       "      <td>5651.900210</td>\n",
       "      <td>35.122830</td>\n",
       "      <td>-120.581130</td>\n",
       "      <td>Error</td>\n",
       "    </tr>\n",
       "    <tr>\n",
       "      <th>9</th>\n",
       "      <td>5kwOxAZw2Ychp2xI37R1QA</td>\n",
       "      <td>blast-and-brew-pismo-beach-2</td>\n",
       "      <td>Blast &amp; Brew</td>\n",
       "      <td>https://s3-media2.fl.yelpcdn.com/bphoto/0I65uI...</td>\n",
       "      <td>False</td>\n",
       "      <td>https://www.yelp.com/biz/blast-and-brew-pismo-...</td>\n",
       "      <td>363</td>\n",
       "      <td>[{'alias': 'newamerican', 'title': 'American (...</td>\n",
       "      <td>3.5</td>\n",
       "      <td>['delivery']</td>\n",
       "      <td>$$</td>\n",
       "      <td>{\"address1\": \"2131 Price St\", \"address2\": None...</td>\n",
       "      <td>1.805296e+10</td>\n",
       "      <td>(805) 295-5151</td>\n",
       "      <td>1114.239537</td>\n",
       "      <td>35.148269</td>\n",
       "      <td>-120.648726</td>\n",
       "      <td>Error</td>\n",
       "    </tr>\n",
       "    <tr>\n",
       "      <th>10</th>\n",
       "      <td>UMM2irwWRWg_jbh2vbTZjg</td>\n",
       "      <td>grover-beach-sourdough-grover-beach-2</td>\n",
       "      <td>Grover Beach Sourdough</td>\n",
       "      <td>https://s3-media2.fl.yelpcdn.com/bphoto/JCGJ57...</td>\n",
       "      <td>False</td>\n",
       "      <td>https://www.yelp.com/biz/grover-beach-sourdoug...</td>\n",
       "      <td>155</td>\n",
       "      <td>[{'alias': 'bakeries', 'title': 'Bakeries'}, {...</td>\n",
       "      <td>5.0</td>\n",
       "      <td>['delivery']</td>\n",
       "      <td>$</td>\n",
       "      <td>{\"address1\": \"236 W Grand Ave\", \"address2\": \"\"...</td>\n",
       "      <td>1.805668e+10</td>\n",
       "      <td>(805) 668-2256</td>\n",
       "      <td>2609.226761</td>\n",
       "      <td>35.121747</td>\n",
       "      <td>-120.628579</td>\n",
       "      <td>Error</td>\n",
       "    </tr>\n",
       "    <tr>\n",
       "      <th>12</th>\n",
       "      <td>YOIdczoG4nNzJ2DMFgg1qg</td>\n",
       "      <td>pismo-s-world-famous-pizza-and-chowder-house-p...</td>\n",
       "      <td>Pismo’s World Famous Pizza &amp; Chowder House</td>\n",
       "      <td>https://s3-media3.fl.yelpcdn.com/bphoto/vQynNK...</td>\n",
       "      <td>False</td>\n",
       "      <td>https://www.yelp.com/biz/pismo-s-world-famous-...</td>\n",
       "      <td>59</td>\n",
       "      <td>[{'alias': 'pizza', 'title': 'Pizza'}]</td>\n",
       "      <td>2.5</td>\n",
       "      <td>[]</td>\n",
       "      <td>$$</td>\n",
       "      <td>{\"address1\": \"690 Dolliver St\", \"address2\": \"\"...</td>\n",
       "      <td>NaN</td>\n",
       "      <td>NaN</td>\n",
       "      <td>452.583803</td>\n",
       "      <td>35.140673</td>\n",
       "      <td>-120.640953</td>\n",
       "      <td>Error</td>\n",
       "    </tr>\n",
       "    <tr>\n",
       "      <th>14</th>\n",
       "      <td>SkOgvn62-hID__rsofeDeQ</td>\n",
       "      <td>klondike-pizza-arroyo-grande</td>\n",
       "      <td>Klondike Pizza</td>\n",
       "      <td>https://s3-media2.fl.yelpcdn.com/bphoto/EO7Z-O...</td>\n",
       "      <td>False</td>\n",
       "      <td>https://www.yelp.com/biz/klondike-pizza-arroyo...</td>\n",
       "      <td>400</td>\n",
       "      <td>[{'alias': 'pizza', 'title': 'Pizza'}]</td>\n",
       "      <td>4.0</td>\n",
       "      <td>['delivery']</td>\n",
       "      <td>$$</td>\n",
       "      <td>{\"address1\": \"104 Bridge St\", \"address2\": None...</td>\n",
       "      <td>1.805482e+10</td>\n",
       "      <td>(805) 481-5288</td>\n",
       "      <td>5813.018552</td>\n",
       "      <td>35.122914</td>\n",
       "      <td>-120.579206</td>\n",
       "      <td>Error</td>\n",
       "    </tr>\n",
       "    <tr>\n",
       "      <th>26</th>\n",
       "      <td>QjBOzIlFo9rxzlQwKbqCKw</td>\n",
       "      <td>blaze-pizza-arroyo-grande-2</td>\n",
       "      <td>BLAZE PIZZA</td>\n",
       "      <td>https://s3-media2.fl.yelpcdn.com/bphoto/kEi-P0...</td>\n",
       "      <td>False</td>\n",
       "      <td>https://www.yelp.com/biz/blaze-pizza-arroyo-gr...</td>\n",
       "      <td>177</td>\n",
       "      <td>[{'alias': 'salad', 'title': 'Salad'}, {'alias...</td>\n",
       "      <td>4.0</td>\n",
       "      <td>['pickup', 'delivery']</td>\n",
       "      <td>$</td>\n",
       "      <td>{\"address1\": \"1168 W Branch St\", \"address2\": N...</td>\n",
       "      <td>1.805825e+10</td>\n",
       "      <td>(805) 825-3750</td>\n",
       "      <td>4046.329607</td>\n",
       "      <td>35.128611</td>\n",
       "      <td>-120.597323</td>\n",
       "      <td>Error</td>\n",
       "    </tr>\n",
       "    <tr>\n",
       "      <th>28</th>\n",
       "      <td>MNicp-QHlNR2ZfPum0OByg</td>\n",
       "      <td>jimmy-d-s-spaghetti-joint-grover-beach</td>\n",
       "      <td>Jimmy D’s Spaghetti Joint</td>\n",
       "      <td>https://s3-media2.fl.yelpcdn.com/bphoto/s9sSxp...</td>\n",
       "      <td>False</td>\n",
       "      <td>https://www.yelp.com/biz/jimmy-d-s-spaghetti-j...</td>\n",
       "      <td>75</td>\n",
       "      <td>[{'alias': 'italian', 'title': 'Italian'}]</td>\n",
       "      <td>4.5</td>\n",
       "      <td>[]</td>\n",
       "      <td>$$</td>\n",
       "      <td>{\"address1\": \"1301 W Grand Ave\", \"address2\": \"...</td>\n",
       "      <td>1.805905e+10</td>\n",
       "      <td>(805) 904-6898</td>\n",
       "      <td>3219.667333</td>\n",
       "      <td>35.121513</td>\n",
       "      <td>-120.615124</td>\n",
       "      <td>Error</td>\n",
       "    </tr>\n",
       "    <tr>\n",
       "      <th>29</th>\n",
       "      <td>8nIighfQFWU1neEeJbDUBQ</td>\n",
       "      <td>cool-cat-cafe-pismo-beach-2</td>\n",
       "      <td>Cool Cat Cafe</td>\n",
       "      <td>https://s3-media3.fl.yelpcdn.com/bphoto/FWh5EG...</td>\n",
       "      <td>False</td>\n",
       "      <td>https://www.yelp.com/biz/cool-cat-cafe-pismo-b...</td>\n",
       "      <td>750</td>\n",
       "      <td>[{'alias': 'tradamerican', 'title': 'American ...</td>\n",
       "      <td>4.0</td>\n",
       "      <td>['delivery']</td>\n",
       "      <td>$$</td>\n",
       "      <td>{\"address1\": \"198 Pomeroy Ave\", \"address2\": No...</td>\n",
       "      <td>1.805773e+10</td>\n",
       "      <td>(805) 773-1020</td>\n",
       "      <td>599.006317</td>\n",
       "      <td>35.139811</td>\n",
       "      <td>-120.642319</td>\n",
       "      <td>Error</td>\n",
       "    </tr>\n",
       "    <tr>\n",
       "      <th>32</th>\n",
       "      <td>1muMh-djjRwDoan7h5Qz8A</td>\n",
       "      <td>blast-825-brewery-arroyo-grande</td>\n",
       "      <td>Blast 825 Brewery</td>\n",
       "      <td>https://s3-media3.fl.yelpcdn.com/bphoto/hOcmar...</td>\n",
       "      <td>False</td>\n",
       "      <td>https://www.yelp.com/biz/blast-825-brewery-arr...</td>\n",
       "      <td>52</td>\n",
       "      <td>[{'alias': 'pizza', 'title': 'Pizza'}, {'alias...</td>\n",
       "      <td>3.5</td>\n",
       "      <td>[]</td>\n",
       "      <td>$$</td>\n",
       "      <td>{\"address1\": \"1462 E Grand Ave\", \"address2\": \"...</td>\n",
       "      <td>1.805202e+10</td>\n",
       "      <td>(805) 202-2160</td>\n",
       "      <td>3837.290086</td>\n",
       "      <td>35.121050</td>\n",
       "      <td>-120.605840</td>\n",
       "      <td>Error</td>\n",
       "    </tr>\n",
       "    <tr>\n",
       "      <th>34</th>\n",
       "      <td>leqeM5aLS1Ky8DzFa5b1iQ</td>\n",
       "      <td>little-caesars-arroyo-grande</td>\n",
       "      <td>Little Caesars</td>\n",
       "      <td>https://s3-media4.fl.yelpcdn.com/bphoto/c8eKZC...</td>\n",
       "      <td>False</td>\n",
       "      <td>https://www.yelp.com/biz/little-caesars-arroyo...</td>\n",
       "      <td>37</td>\n",
       "      <td>[{'alias': 'italian', 'title': 'Italian'}, {'a...</td>\n",
       "      <td>2.0</td>\n",
       "      <td>[]</td>\n",
       "      <td>$</td>\n",
       "      <td>{\"address1\": \"1530 E Grand Ave\", \"address2\": N...</td>\n",
       "      <td>1.805481e+10</td>\n",
       "      <td>(805) 481-4086</td>\n",
       "      <td>3746.855978</td>\n",
       "      <td>35.121360</td>\n",
       "      <td>-120.607080</td>\n",
       "      <td>Error</td>\n",
       "    </tr>\n",
       "    <tr>\n",
       "      <th>36</th>\n",
       "      <td>nmHDGwGkL-7FcI0L0YlwZw</td>\n",
       "      <td>la-bodega-tapas-pismo-beach-2</td>\n",
       "      <td>La Bodega Tapas</td>\n",
       "      <td>https://s3-media2.fl.yelpcdn.com/bphoto/yKTCLO...</td>\n",
       "      <td>False</td>\n",
       "      <td>https://www.yelp.com/biz/la-bodega-tapas-pismo...</td>\n",
       "      <td>410</td>\n",
       "      <td>[{'alias': 'tapasmallplates', 'title': 'Tapas/...</td>\n",
       "      <td>4.5</td>\n",
       "      <td>['delivery']</td>\n",
       "      <td>$$$</td>\n",
       "      <td>{\"address1\": \"790 Price St\", \"address2\": \"\", \"...</td>\n",
       "      <td>1.805296e+10</td>\n",
       "      <td>(805) 295-5400</td>\n",
       "      <td>282.062108</td>\n",
       "      <td>35.142300</td>\n",
       "      <td>-120.640260</td>\n",
       "      <td>Error</td>\n",
       "    </tr>\n",
       "    <tr>\n",
       "      <th>37</th>\n",
       "      <td>PAtO1Ty01U_WGO8O33jdLg</td>\n",
       "      <td>pismo-coast-village-grill-pismo-beach-2</td>\n",
       "      <td>Pismo Coast Village Grill</td>\n",
       "      <td>https://s3-media4.fl.yelpcdn.com/bphoto/x9iMAc...</td>\n",
       "      <td>False</td>\n",
       "      <td>https://www.yelp.com/biz/pismo-coast-village-g...</td>\n",
       "      <td>63</td>\n",
       "      <td>[{'alias': 'bbq', 'title': 'Barbeque'}, {'alia...</td>\n",
       "      <td>3.5</td>\n",
       "      <td>['pickup', 'delivery']</td>\n",
       "      <td>NaN</td>\n",
       "      <td>{\"address1\": \"165 S Dolliver St\", \"address2\": ...</td>\n",
       "      <td>1.805756e+10</td>\n",
       "      <td>(805) 755-5406</td>\n",
       "      <td>1065.200438</td>\n",
       "      <td>35.134220</td>\n",
       "      <td>-120.637680</td>\n",
       "      <td>Error</td>\n",
       "    </tr>\n",
       "    <tr>\n",
       "      <th>38</th>\n",
       "      <td>HpDMDugjN7ci1kpmBpyY6g</td>\n",
       "      <td>splash-cafe-pismo-beach-15</td>\n",
       "      <td>Splash Cafe</td>\n",
       "      <td>https://s3-media3.fl.yelpcdn.com/bphoto/XIn4k4...</td>\n",
       "      <td>False</td>\n",
       "      <td>https://www.yelp.com/biz/splash-cafe-pismo-bea...</td>\n",
       "      <td>4693</td>\n",
       "      <td>[{'alias': 'desserts', 'title': 'Desserts'}, {...</td>\n",
       "      <td>4.0</td>\n",
       "      <td>['pickup', 'delivery']</td>\n",
       "      <td>$$</td>\n",
       "      <td>{\"address1\": \"197 Pomeroy Ave\", \"address2\": No...</td>\n",
       "      <td>1.805773e+10</td>\n",
       "      <td>(805) 773-4653</td>\n",
       "      <td>584.478720</td>\n",
       "      <td>35.140160</td>\n",
       "      <td>-120.642420</td>\n",
       "      <td>Error</td>\n",
       "    </tr>\n",
       "    <tr>\n",
       "      <th>39</th>\n",
       "      <td>nEV3oNR5xLipdPxj3hlEXw</td>\n",
       "      <td>the-deck-pismo-beach</td>\n",
       "      <td>The Deck</td>\n",
       "      <td>https://s3-media2.fl.yelpcdn.com/bphoto/QYNa5H...</td>\n",
       "      <td>False</td>\n",
       "      <td>https://www.yelp.com/biz/the-deck-pismo-beach?...</td>\n",
       "      <td>46</td>\n",
       "      <td>[{'alias': 'lounges', 'title': 'Lounges'}, {'a...</td>\n",
       "      <td>4.0</td>\n",
       "      <td>[]</td>\n",
       "      <td>$</td>\n",
       "      <td>{\"address1\": \"100 Stimson Ave\", \"address2\": \"\"...</td>\n",
       "      <td>1.805773e+10</td>\n",
       "      <td>(805) 773-2422</td>\n",
       "      <td>793.717101</td>\n",
       "      <td>35.137440</td>\n",
       "      <td>-120.641480</td>\n",
       "      <td>Error</td>\n",
       "    </tr>\n",
       "    <tr>\n",
       "      <th>42</th>\n",
       "      <td>9XeCkmki2Zv24nze0Iz9lQ</td>\n",
       "      <td>vista-steak-and-seafood-pismo-beach</td>\n",
       "      <td>Vista Steak and Seafood</td>\n",
       "      <td>https://s3-media2.fl.yelpcdn.com/bphoto/D0cfQM...</td>\n",
       "      <td>False</td>\n",
       "      <td>https://www.yelp.com/biz/vista-steak-and-seafo...</td>\n",
       "      <td>208</td>\n",
       "      <td>[{'alias': 'steak', 'title': 'Steakhouses'}, {...</td>\n",
       "      <td>4.0</td>\n",
       "      <td>[]</td>\n",
       "      <td>$$$</td>\n",
       "      <td>{\"address1\": \"1601 Price St\", \"address2\": None...</td>\n",
       "      <td>1.805557e+10</td>\n",
       "      <td>(805) 556-9000</td>\n",
       "      <td>743.631919</td>\n",
       "      <td>35.144990</td>\n",
       "      <td>-120.645620</td>\n",
       "      <td>Error</td>\n",
       "    </tr>\n",
       "    <tr>\n",
       "      <th>48</th>\n",
       "      <td>RkEvncluCpnJnGWiThALhA</td>\n",
       "      <td>cape-cod-eatery-and-taphouse-pismo-beach</td>\n",
       "      <td>Cape Cod Eatery and Taphouse</td>\n",
       "      <td>https://s3-media3.fl.yelpcdn.com/bphoto/7nmuHg...</td>\n",
       "      <td>False</td>\n",
       "      <td>https://www.yelp.com/biz/cape-cod-eatery-and-t...</td>\n",
       "      <td>435</td>\n",
       "      <td>[{'alias': 'newamerican', 'title': 'American (...</td>\n",
       "      <td>4.0</td>\n",
       "      <td>['pickup', 'delivery']</td>\n",
       "      <td>$$</td>\n",
       "      <td>{\"address1\": \"1127 Shell Beach Rd\", \"address2\"...</td>\n",
       "      <td>1.805296e+10</td>\n",
       "      <td>(805) 295-6919</td>\n",
       "      <td>3360.340738</td>\n",
       "      <td>35.157196</td>\n",
       "      <td>-120.670888</td>\n",
       "      <td>Error</td>\n",
       "    </tr>\n",
       "    <tr>\n",
       "      <th>49</th>\n",
       "      <td>SbhKI_bT2_jmNMMYGb_5cQ</td>\n",
       "      <td>custom-house-avila-beach-2</td>\n",
       "      <td>Custom House</td>\n",
       "      <td>https://s3-media3.fl.yelpcdn.com/bphoto/dEv_9Y...</td>\n",
       "      <td>False</td>\n",
       "      <td>https://www.yelp.com/biz/custom-house-avila-be...</td>\n",
       "      <td>1362</td>\n",
       "      <td>[{'alias': 'newamerican', 'title': 'American (...</td>\n",
       "      <td>3.5</td>\n",
       "      <td>[]</td>\n",
       "      <td>$$</td>\n",
       "      <td>{\"address1\": \"404 Front St\", \"address2\": None,...</td>\n",
       "      <td>1.805596e+10</td>\n",
       "      <td>(805) 595-7555</td>\n",
       "      <td>9566.859004</td>\n",
       "      <td>35.179043</td>\n",
       "      <td>-120.733765</td>\n",
       "      <td>Error</td>\n",
       "    </tr>\n",
       "    <tr>\n",
       "      <th>58</th>\n",
       "      <td>CuUKHLYhJcoVj8jKMIAhDg</td>\n",
       "      <td>hapy-pismo-beach</td>\n",
       "      <td>Hapy</td>\n",
       "      <td>https://s3-media4.fl.yelpcdn.com/bphoto/4bqWTC...</td>\n",
       "      <td>False</td>\n",
       "      <td>https://www.yelp.com/biz/hapy-pismo-beach?adju...</td>\n",
       "      <td>510</td>\n",
       "      <td>[{'alias': 'mediterranean', 'title': 'Mediterr...</td>\n",
       "      <td>4.5</td>\n",
       "      <td>['restaurant_reservation', 'delivery']</td>\n",
       "      <td>$$</td>\n",
       "      <td>{\"address1\": \"821 N Oak Park Blvd\", \"address2\"...</td>\n",
       "      <td>1.805270e+10</td>\n",
       "      <td>(805) 270-4327</td>\n",
       "      <td>3005.350631</td>\n",
       "      <td>35.132010</td>\n",
       "      <td>-120.607960</td>\n",
       "      <td>Error</td>\n",
       "    </tr>\n",
       "    <tr>\n",
       "      <th>69</th>\n",
       "      <td>LyFnKtpv4Y1dpyFnSwcPPw</td>\n",
       "      <td>la-casita-restaurante-grover-beach</td>\n",
       "      <td>La Casita Restaurante</td>\n",
       "      <td>https://s3-media1.fl.yelpcdn.com/bphoto/8qlWEs...</td>\n",
       "      <td>False</td>\n",
       "      <td>https://www.yelp.com/biz/la-casita-restaurante...</td>\n",
       "      <td>133</td>\n",
       "      <td>[{'alias': 'mexican', 'title': 'Mexican'}]</td>\n",
       "      <td>3.5</td>\n",
       "      <td>['delivery']</td>\n",
       "      <td>$$</td>\n",
       "      <td>{\"address1\": \"1572 W Grand Ave\", \"address2\": \"...</td>\n",
       "      <td>1.805270e+10</td>\n",
       "      <td>(805) 270-4471</td>\n",
       "      <td>3513.550838</td>\n",
       "      <td>35.120950</td>\n",
       "      <td>-120.612067</td>\n",
       "      <td>Error</td>\n",
       "    </tr>\n",
       "    <tr>\n",
       "      <th>71</th>\n",
       "      <td>sROhTasKi6_QPlxa6mxk-A</td>\n",
       "      <td>aldi-arroyo-grande</td>\n",
       "      <td>ALDI</td>\n",
       "      <td>https://s3-media1.fl.yelpcdn.com/bphoto/crvJzt...</td>\n",
       "      <td>False</td>\n",
       "      <td>https://www.yelp.com/biz/aldi-arroyo-grande?ad...</td>\n",
       "      <td>55</td>\n",
       "      <td>[{'alias': 'grocery', 'title': 'Grocery'}, {'a...</td>\n",
       "      <td>3.5</td>\n",
       "      <td>[]</td>\n",
       "      <td>NaN</td>\n",
       "      <td>{\"address1\": \"1221 E Grand Ave\", \"address2\": \"...</td>\n",
       "      <td>1.855955e+10</td>\n",
       "      <td>(855) 955-2534</td>\n",
       "      <td>4246.110904</td>\n",
       "      <td>35.119289</td>\n",
       "      <td>-120.601939</td>\n",
       "      <td>Error</td>\n",
       "    </tr>\n",
       "    <tr>\n",
       "      <th>73</th>\n",
       "      <td>l1tsikTCFVC5AXVEiktaRQ</td>\n",
       "      <td>darwish-grover-beach</td>\n",
       "      <td>DarWish</td>\n",
       "      <td>https://s3-media1.fl.yelpcdn.com/bphoto/zOV0DG...</td>\n",
       "      <td>False</td>\n",
       "      <td>https://www.yelp.com/biz/darwish-grover-beach?...</td>\n",
       "      <td>180</td>\n",
       "      <td>[{'alias': 'persian', 'title': 'Persian/Irania...</td>\n",
       "      <td>4.5</td>\n",
       "      <td>['pickup']</td>\n",
       "      <td>$$</td>\n",
       "      <td>{\"address1\": \"967 W Grand Ave\", \"address2\": \"\"...</td>\n",
       "      <td>1.805489e+10</td>\n",
       "      <td>(805) 489-1010</td>\n",
       "      <td>2969.678365</td>\n",
       "      <td>35.121740</td>\n",
       "      <td>-120.619340</td>\n",
       "      <td>Error</td>\n",
       "    </tr>\n",
       "  </tbody>\n",
       "</table>\n",
       "</div>"
      ],
      "text/plain": [
       "                        id                                              alias  \\\n",
       "2   vxFH7N_Ntxg-pagIIWM75g                           beach-pizza-grover-beach   \n",
       "3   4fAGqkTIOMmkXyylyQXhBw                            ginos-pizza-pismo-beach   \n",
       "5   dWNxwCf8R_SDJf63E4pfAw   me-n-ed-s-pizzeria-and-craft-house-pismo-beach-2   \n",
       "7   EqLSwFmOJ6kosvRFELw70w                 palo-mesa-wood-fired-arroyo-grande   \n",
       "9   5kwOxAZw2Ychp2xI37R1QA                       blast-and-brew-pismo-beach-2   \n",
       "10  UMM2irwWRWg_jbh2vbTZjg              grover-beach-sourdough-grover-beach-2   \n",
       "12  YOIdczoG4nNzJ2DMFgg1qg  pismo-s-world-famous-pizza-and-chowder-house-p...   \n",
       "14  SkOgvn62-hID__rsofeDeQ                       klondike-pizza-arroyo-grande   \n",
       "26  QjBOzIlFo9rxzlQwKbqCKw                        blaze-pizza-arroyo-grande-2   \n",
       "28  MNicp-QHlNR2ZfPum0OByg             jimmy-d-s-spaghetti-joint-grover-beach   \n",
       "29  8nIighfQFWU1neEeJbDUBQ                        cool-cat-cafe-pismo-beach-2   \n",
       "32  1muMh-djjRwDoan7h5Qz8A                    blast-825-brewery-arroyo-grande   \n",
       "34  leqeM5aLS1Ky8DzFa5b1iQ                       little-caesars-arroyo-grande   \n",
       "36  nmHDGwGkL-7FcI0L0YlwZw                      la-bodega-tapas-pismo-beach-2   \n",
       "37  PAtO1Ty01U_WGO8O33jdLg            pismo-coast-village-grill-pismo-beach-2   \n",
       "38  HpDMDugjN7ci1kpmBpyY6g                         splash-cafe-pismo-beach-15   \n",
       "39  nEV3oNR5xLipdPxj3hlEXw                               the-deck-pismo-beach   \n",
       "42  9XeCkmki2Zv24nze0Iz9lQ                vista-steak-and-seafood-pismo-beach   \n",
       "48  RkEvncluCpnJnGWiThALhA           cape-cod-eatery-and-taphouse-pismo-beach   \n",
       "49  SbhKI_bT2_jmNMMYGb_5cQ                         custom-house-avila-beach-2   \n",
       "58  CuUKHLYhJcoVj8jKMIAhDg                                   hapy-pismo-beach   \n",
       "69  LyFnKtpv4Y1dpyFnSwcPPw                 la-casita-restaurante-grover-beach   \n",
       "71  sROhTasKi6_QPlxa6mxk-A                                 aldi-arroyo-grande   \n",
       "73  l1tsikTCFVC5AXVEiktaRQ                               darwish-grover-beach   \n",
       "\n",
       "                                          name  \\\n",
       "2                                  Beach Pizza   \n",
       "3                                 Gino's Pizza   \n",
       "5           Me n Ed’s Pizzeria and Craft House   \n",
       "7                         Palo Mesa Wood Fired   \n",
       "9                                 Blast & Brew   \n",
       "10                      Grover Beach Sourdough   \n",
       "12  Pismo’s World Famous Pizza & Chowder House   \n",
       "14                              Klondike Pizza   \n",
       "26                                 BLAZE PIZZA   \n",
       "28                   Jimmy D’s Spaghetti Joint   \n",
       "29                               Cool Cat Cafe   \n",
       "32                           Blast 825 Brewery   \n",
       "34                              Little Caesars   \n",
       "36                             La Bodega Tapas   \n",
       "37                   Pismo Coast Village Grill   \n",
       "38                                 Splash Cafe   \n",
       "39                                    The Deck   \n",
       "42                     Vista Steak and Seafood   \n",
       "48                Cape Cod Eatery and Taphouse   \n",
       "49                                Custom House   \n",
       "58                                        Hapy   \n",
       "69                       La Casita Restaurante   \n",
       "71                                        ALDI   \n",
       "73                                     DarWish   \n",
       "\n",
       "                                            image_url  is_closed  \\\n",
       "2   https://s3-media3.fl.yelpcdn.com/bphoto/aCoCRY...      False   \n",
       "3   https://s3-media3.fl.yelpcdn.com/bphoto/kPxejj...      False   \n",
       "5   https://s3-media2.fl.yelpcdn.com/bphoto/7fpkEX...      False   \n",
       "7   https://s3-media4.fl.yelpcdn.com/bphoto/qS_y0w...      False   \n",
       "9   https://s3-media2.fl.yelpcdn.com/bphoto/0I65uI...      False   \n",
       "10  https://s3-media2.fl.yelpcdn.com/bphoto/JCGJ57...      False   \n",
       "12  https://s3-media3.fl.yelpcdn.com/bphoto/vQynNK...      False   \n",
       "14  https://s3-media2.fl.yelpcdn.com/bphoto/EO7Z-O...      False   \n",
       "26  https://s3-media2.fl.yelpcdn.com/bphoto/kEi-P0...      False   \n",
       "28  https://s3-media2.fl.yelpcdn.com/bphoto/s9sSxp...      False   \n",
       "29  https://s3-media3.fl.yelpcdn.com/bphoto/FWh5EG...      False   \n",
       "32  https://s3-media3.fl.yelpcdn.com/bphoto/hOcmar...      False   \n",
       "34  https://s3-media4.fl.yelpcdn.com/bphoto/c8eKZC...      False   \n",
       "36  https://s3-media2.fl.yelpcdn.com/bphoto/yKTCLO...      False   \n",
       "37  https://s3-media4.fl.yelpcdn.com/bphoto/x9iMAc...      False   \n",
       "38  https://s3-media3.fl.yelpcdn.com/bphoto/XIn4k4...      False   \n",
       "39  https://s3-media2.fl.yelpcdn.com/bphoto/QYNa5H...      False   \n",
       "42  https://s3-media2.fl.yelpcdn.com/bphoto/D0cfQM...      False   \n",
       "48  https://s3-media3.fl.yelpcdn.com/bphoto/7nmuHg...      False   \n",
       "49  https://s3-media3.fl.yelpcdn.com/bphoto/dEv_9Y...      False   \n",
       "58  https://s3-media4.fl.yelpcdn.com/bphoto/4bqWTC...      False   \n",
       "69  https://s3-media1.fl.yelpcdn.com/bphoto/8qlWEs...      False   \n",
       "71  https://s3-media1.fl.yelpcdn.com/bphoto/crvJzt...      False   \n",
       "73  https://s3-media1.fl.yelpcdn.com/bphoto/zOV0DG...      False   \n",
       "\n",
       "                                                  url  review_count  \\\n",
       "2   https://www.yelp.com/biz/beach-pizza-grover-be...           138   \n",
       "3   https://www.yelp.com/biz/ginos-pizza-pismo-bea...           361   \n",
       "5   https://www.yelp.com/biz/me-n-ed-s-pizzeria-an...            65   \n",
       "7   https://www.yelp.com/biz/palo-mesa-wood-fired-...           184   \n",
       "9   https://www.yelp.com/biz/blast-and-brew-pismo-...           363   \n",
       "10  https://www.yelp.com/biz/grover-beach-sourdoug...           155   \n",
       "12  https://www.yelp.com/biz/pismo-s-world-famous-...            59   \n",
       "14  https://www.yelp.com/biz/klondike-pizza-arroyo...           400   \n",
       "26  https://www.yelp.com/biz/blaze-pizza-arroyo-gr...           177   \n",
       "28  https://www.yelp.com/biz/jimmy-d-s-spaghetti-j...            75   \n",
       "29  https://www.yelp.com/biz/cool-cat-cafe-pismo-b...           750   \n",
       "32  https://www.yelp.com/biz/blast-825-brewery-arr...            52   \n",
       "34  https://www.yelp.com/biz/little-caesars-arroyo...            37   \n",
       "36  https://www.yelp.com/biz/la-bodega-tapas-pismo...           410   \n",
       "37  https://www.yelp.com/biz/pismo-coast-village-g...            63   \n",
       "38  https://www.yelp.com/biz/splash-cafe-pismo-bea...          4693   \n",
       "39  https://www.yelp.com/biz/the-deck-pismo-beach?...            46   \n",
       "42  https://www.yelp.com/biz/vista-steak-and-seafo...           208   \n",
       "48  https://www.yelp.com/biz/cape-cod-eatery-and-t...           435   \n",
       "49  https://www.yelp.com/biz/custom-house-avila-be...          1362   \n",
       "58  https://www.yelp.com/biz/hapy-pismo-beach?adju...           510   \n",
       "69  https://www.yelp.com/biz/la-casita-restaurante...           133   \n",
       "71  https://www.yelp.com/biz/aldi-arroyo-grande?ad...            55   \n",
       "73  https://www.yelp.com/biz/darwish-grover-beach?...           180   \n",
       "\n",
       "                                           categories  rating  \\\n",
       "2   [{'alias': 'pizza', 'title': 'Pizza'}, {'alias...     4.5   \n",
       "3              [{'alias': 'pizza', 'title': 'Pizza'}]     4.0   \n",
       "5   [{'alias': 'pizza', 'title': 'Pizza'}, {'alias...     3.5   \n",
       "7   [{'alias': 'salad', 'title': 'Salad'}, {'alias...     4.5   \n",
       "9   [{'alias': 'newamerican', 'title': 'American (...     3.5   \n",
       "10  [{'alias': 'bakeries', 'title': 'Bakeries'}, {...     5.0   \n",
       "12             [{'alias': 'pizza', 'title': 'Pizza'}]     2.5   \n",
       "14             [{'alias': 'pizza', 'title': 'Pizza'}]     4.0   \n",
       "26  [{'alias': 'salad', 'title': 'Salad'}, {'alias...     4.0   \n",
       "28         [{'alias': 'italian', 'title': 'Italian'}]     4.5   \n",
       "29  [{'alias': 'tradamerican', 'title': 'American ...     4.0   \n",
       "32  [{'alias': 'pizza', 'title': 'Pizza'}, {'alias...     3.5   \n",
       "34  [{'alias': 'italian', 'title': 'Italian'}, {'a...     2.0   \n",
       "36  [{'alias': 'tapasmallplates', 'title': 'Tapas/...     4.5   \n",
       "37  [{'alias': 'bbq', 'title': 'Barbeque'}, {'alia...     3.5   \n",
       "38  [{'alias': 'desserts', 'title': 'Desserts'}, {...     4.0   \n",
       "39  [{'alias': 'lounges', 'title': 'Lounges'}, {'a...     4.0   \n",
       "42  [{'alias': 'steak', 'title': 'Steakhouses'}, {...     4.0   \n",
       "48  [{'alias': 'newamerican', 'title': 'American (...     4.0   \n",
       "49  [{'alias': 'newamerican', 'title': 'American (...     3.5   \n",
       "58  [{'alias': 'mediterranean', 'title': 'Mediterr...     4.5   \n",
       "69         [{'alias': 'mexican', 'title': 'Mexican'}]     3.5   \n",
       "71  [{'alias': 'grocery', 'title': 'Grocery'}, {'a...     3.5   \n",
       "73  [{'alias': 'persian', 'title': 'Persian/Irania...     4.5   \n",
       "\n",
       "                              transactions price  \\\n",
       "2                   ['pickup', 'delivery']   NaN   \n",
       "3                   ['pickup', 'delivery']    $$   \n",
       "5                                       []   NaN   \n",
       "7                             ['delivery']    $$   \n",
       "9                             ['delivery']    $$   \n",
       "10                            ['delivery']     $   \n",
       "12                                      []    $$   \n",
       "14                            ['delivery']    $$   \n",
       "26                  ['pickup', 'delivery']     $   \n",
       "28                                      []    $$   \n",
       "29                            ['delivery']    $$   \n",
       "32                                      []    $$   \n",
       "34                                      []     $   \n",
       "36                            ['delivery']   $$$   \n",
       "37                  ['pickup', 'delivery']   NaN   \n",
       "38                  ['pickup', 'delivery']    $$   \n",
       "39                                      []     $   \n",
       "42                                      []   $$$   \n",
       "48                  ['pickup', 'delivery']    $$   \n",
       "49                                      []    $$   \n",
       "58  ['restaurant_reservation', 'delivery']    $$   \n",
       "69                            ['delivery']    $$   \n",
       "71                                      []   NaN   \n",
       "73                              ['pickup']    $$   \n",
       "\n",
       "                                             location         phone  \\\n",
       "2   {\"address1\": \"960 W Grand Ave\", \"address2\": No...  1.805474e+10   \n",
       "3   {\"address1\": \"539 Five Cities Dr\", \"address2\":...  1.805556e+10   \n",
       "5   {\"address1\": \"750 Price St\", \"address2\": None,...  1.805556e+10   \n",
       "7   {\"address1\": \"150 West Branch St\", \"address2\":...  1.805905e+10   \n",
       "9   {\"address1\": \"2131 Price St\", \"address2\": None...  1.805296e+10   \n",
       "10  {\"address1\": \"236 W Grand Ave\", \"address2\": \"\"...  1.805668e+10   \n",
       "12  {\"address1\": \"690 Dolliver St\", \"address2\": \"\"...           NaN   \n",
       "14  {\"address1\": \"104 Bridge St\", \"address2\": None...  1.805482e+10   \n",
       "26  {\"address1\": \"1168 W Branch St\", \"address2\": N...  1.805825e+10   \n",
       "28  {\"address1\": \"1301 W Grand Ave\", \"address2\": \"...  1.805905e+10   \n",
       "29  {\"address1\": \"198 Pomeroy Ave\", \"address2\": No...  1.805773e+10   \n",
       "32  {\"address1\": \"1462 E Grand Ave\", \"address2\": \"...  1.805202e+10   \n",
       "34  {\"address1\": \"1530 E Grand Ave\", \"address2\": N...  1.805481e+10   \n",
       "36  {\"address1\": \"790 Price St\", \"address2\": \"\", \"...  1.805296e+10   \n",
       "37  {\"address1\": \"165 S Dolliver St\", \"address2\": ...  1.805756e+10   \n",
       "38  {\"address1\": \"197 Pomeroy Ave\", \"address2\": No...  1.805773e+10   \n",
       "39  {\"address1\": \"100 Stimson Ave\", \"address2\": \"\"...  1.805773e+10   \n",
       "42  {\"address1\": \"1601 Price St\", \"address2\": None...  1.805557e+10   \n",
       "48  {\"address1\": \"1127 Shell Beach Rd\", \"address2\"...  1.805296e+10   \n",
       "49  {\"address1\": \"404 Front St\", \"address2\": None,...  1.805596e+10   \n",
       "58  {\"address1\": \"821 N Oak Park Blvd\", \"address2\"...  1.805270e+10   \n",
       "69  {\"address1\": \"1572 W Grand Ave\", \"address2\": \"...  1.805270e+10   \n",
       "71  {\"address1\": \"1221 E Grand Ave\", \"address2\": \"...  1.855955e+10   \n",
       "73  {\"address1\": \"967 W Grand Ave\", \"address2\": \"\"...  1.805489e+10   \n",
       "\n",
       "     display_phone     distance   latitude   longitude display_location  \n",
       "2   (805) 474-4499  2999.014031  35.121110 -120.619640            Error  \n",
       "3   (805) 556-0939  1533.749594  35.135168 -120.624588            Error  \n",
       "5   (805) 556-3636   281.184189  35.142100 -120.640040            Error  \n",
       "7   (805) 904-6807  5651.900210  35.122830 -120.581130            Error  \n",
       "9   (805) 295-5151  1114.239537  35.148269 -120.648726            Error  \n",
       "10  (805) 668-2256  2609.226761  35.121747 -120.628579            Error  \n",
       "12             NaN   452.583803  35.140673 -120.640953            Error  \n",
       "14  (805) 481-5288  5813.018552  35.122914 -120.579206            Error  \n",
       "26  (805) 825-3750  4046.329607  35.128611 -120.597323            Error  \n",
       "28  (805) 904-6898  3219.667333  35.121513 -120.615124            Error  \n",
       "29  (805) 773-1020   599.006317  35.139811 -120.642319            Error  \n",
       "32  (805) 202-2160  3837.290086  35.121050 -120.605840            Error  \n",
       "34  (805) 481-4086  3746.855978  35.121360 -120.607080            Error  \n",
       "36  (805) 295-5400   282.062108  35.142300 -120.640260            Error  \n",
       "37  (805) 755-5406  1065.200438  35.134220 -120.637680            Error  \n",
       "38  (805) 773-4653   584.478720  35.140160 -120.642420            Error  \n",
       "39  (805) 773-2422   793.717101  35.137440 -120.641480            Error  \n",
       "42  (805) 556-9000   743.631919  35.144990 -120.645620            Error  \n",
       "48  (805) 295-6919  3360.340738  35.157196 -120.670888            Error  \n",
       "49  (805) 595-7555  9566.859004  35.179043 -120.733765            Error  \n",
       "58  (805) 270-4327  3005.350631  35.132010 -120.607960            Error  \n",
       "69  (805) 270-4471  3513.550838  35.120950 -120.612067            Error  \n",
       "71  (855) 955-2534  4246.110904  35.119289 -120.601939            Error  \n",
       "73  (805) 489-1010  2969.678365  35.121740 -120.619340            Error  "
      ]
     },
     "execution_count": 31,
     "metadata": {},
     "output_type": "execute_result"
    }
   ],
   "source": [
    "## filter for businesses with display_location == \"ERROR\"\n",
    "errors = pismo_df['display_location'] =='Error'\n",
    "pismo_df[errors]"
   ]
  },
  {
   "cell_type": "code",
   "execution_count": 34,
   "id": "9c115199",
   "metadata": {},
   "outputs": [
    {
     "data": {
      "text/plain": [
       "'{\"address1\": \"967 W Grand Ave\", \"address2\": \"\", \"address3\": None, \"city\": \"Grover Beach\", \"zip_code\": \"93433\", \"country\": \"US\", \"state\": \"CA\", \"display_address\": [\"967 W Grand Ave\", \"Grover Beach, CA 93433\"]}'"
      ]
     },
     "execution_count": 34,
     "metadata": {},
     "output_type": "execute_result"
    }
   ],
   "source": [
    "## slice out a new test address and inspect\n",
    "test_addr = pismo_df.loc[73, 'location']\n",
    "test_addr"
   ]
  },
  {
   "cell_type": "markdown",
   "id": "448fa8c6",
   "metadata": {},
   "source": [
    "> After some more investigation, we would find a few issues with these \"ERROR\" rows.\n",
    "1. They contained None.\n",
    "2. They contained an apostrophe in the name.\n",
    "3. ...?"
   ]
  },
  {
   "cell_type": "markdown",
   "id": "68a960d4",
   "metadata": {},
   "source": [
    "### Possible Fixes (if we care to/have the time)\n"
   ]
  },
  {
   "cell_type": "markdown",
   "id": "7c21eda1",
   "metadata": {},
   "source": [
    "- Use Regular Expressions to find an fix the display addresses with \"'\" in them\n",
    "- Use string split to split on the word display address.\n",
    "    - Then use string methods to clean up"
   ]
  },
  {
   "cell_type": "markdown",
   "id": "df8d68fb",
   "metadata": {},
   "source": [
    "### Moving Forward without those rows (for now)"
   ]
  },
  {
   "cell_type": "code",
   "execution_count": 35,
   "id": "bddbcc87",
   "metadata": {
    "scrolled": false
   },
   "outputs": [
    {
     "data": {
      "text/html": [
       "<div>\n",
       "<style scoped>\n",
       "    .dataframe tbody tr th:only-of-type {\n",
       "        vertical-align: middle;\n",
       "    }\n",
       "\n",
       "    .dataframe tbody tr th {\n",
       "        vertical-align: top;\n",
       "    }\n",
       "\n",
       "    .dataframe thead th {\n",
       "        text-align: right;\n",
       "    }\n",
       "</style>\n",
       "<table border=\"1\" class=\"dataframe\">\n",
       "  <thead>\n",
       "    <tr style=\"text-align: right;\">\n",
       "      <th></th>\n",
       "      <th>id</th>\n",
       "      <th>alias</th>\n",
       "      <th>name</th>\n",
       "      <th>image_url</th>\n",
       "      <th>is_closed</th>\n",
       "      <th>url</th>\n",
       "      <th>review_count</th>\n",
       "      <th>categories</th>\n",
       "      <th>rating</th>\n",
       "      <th>transactions</th>\n",
       "      <th>price</th>\n",
       "      <th>location</th>\n",
       "      <th>phone</th>\n",
       "      <th>display_phone</th>\n",
       "      <th>distance</th>\n",
       "      <th>latitude</th>\n",
       "      <th>longitude</th>\n",
       "      <th>display_location</th>\n",
       "    </tr>\n",
       "  </thead>\n",
       "  <tbody>\n",
       "    <tr>\n",
       "      <th>0</th>\n",
       "      <td>Km1aQHFPP7VwvFimVByPgg</td>\n",
       "      <td>dels-pizzeria-pismo-beach</td>\n",
       "      <td>Del's Pizzeria</td>\n",
       "      <td>https://s3-media2.fl.yelpcdn.com/bphoto/dEgnqd...</td>\n",
       "      <td>False</td>\n",
       "      <td>https://www.yelp.com/biz/dels-pizzeria-pismo-b...</td>\n",
       "      <td>499</td>\n",
       "      <td>[{'alias': 'pizza', 'title': 'Pizza'}, {'alias...</td>\n",
       "      <td>4.0</td>\n",
       "      <td>['pickup', 'delivery']</td>\n",
       "      <td>$$</td>\n",
       "      <td>{\"address1\": \"1101 Price St\", \"address2\": \"\", ...</td>\n",
       "      <td>1.805773e+10</td>\n",
       "      <td>(805) 773-4438</td>\n",
       "      <td>456.832734</td>\n",
       "      <td>35.144050</td>\n",
       "      <td>-120.642900</td>\n",
       "      <td>{'address1': '1101 Price St', 'address2': '', ...</td>\n",
       "    </tr>\n",
       "    <tr>\n",
       "      <th>1</th>\n",
       "      <td>UCH_lRmCHWBqzb0zs3Hbvg</td>\n",
       "      <td>pizmo-cafe-pismo-beach</td>\n",
       "      <td>PizMo Cafe</td>\n",
       "      <td>https://s3-media4.fl.yelpcdn.com/bphoto/rno5HY...</td>\n",
       "      <td>False</td>\n",
       "      <td>https://www.yelp.com/biz/pizmo-cafe-pismo-beac...</td>\n",
       "      <td>458</td>\n",
       "      <td>[{'alias': 'pizza', 'title': 'Pizza'}, {'alias...</td>\n",
       "      <td>4.0</td>\n",
       "      <td>['delivery']</td>\n",
       "      <td>$$</td>\n",
       "      <td>{\"address1\": \"270 Pomeroy Ave\", \"address2\": \"\"...</td>\n",
       "      <td>1.805556e+10</td>\n",
       "      <td>(805) 556-0347</td>\n",
       "      <td>488.774648</td>\n",
       "      <td>35.140504</td>\n",
       "      <td>-120.641385</td>\n",
       "      <td>{'address1': '270 Pomeroy Ave', 'address2': ''...</td>\n",
       "    </tr>\n",
       "    <tr>\n",
       "      <th>4</th>\n",
       "      <td>kbCBKe2CcNpjy61KoZ907Q</td>\n",
       "      <td>giuseppes-express-pismo-beach</td>\n",
       "      <td>Giuseppe's Express</td>\n",
       "      <td>https://s3-media2.fl.yelpcdn.com/bphoto/goUVCf...</td>\n",
       "      <td>False</td>\n",
       "      <td>https://www.yelp.com/biz/giuseppes-express-pis...</td>\n",
       "      <td>378</td>\n",
       "      <td>[{'alias': 'italian', 'title': 'Italian'}, {'a...</td>\n",
       "      <td>3.5</td>\n",
       "      <td>['delivery']</td>\n",
       "      <td>$$</td>\n",
       "      <td>{\"address1\": \"800 Price St\", \"address2\": \"\", \"...</td>\n",
       "      <td>1.805773e+10</td>\n",
       "      <td>(805) 773-2873</td>\n",
       "      <td>284.396328</td>\n",
       "      <td>35.142560</td>\n",
       "      <td>-120.640550</td>\n",
       "      <td>{'address1': '800 Price St', 'address2': '', '...</td>\n",
       "    </tr>\n",
       "    <tr>\n",
       "      <th>6</th>\n",
       "      <td>NpngL0FEuj9OxaXPzqhNYg</td>\n",
       "      <td>rosas-italian-restaurant-pismo-beach-3</td>\n",
       "      <td>Rosa's Italian Restaurant</td>\n",
       "      <td>https://s3-media3.fl.yelpcdn.com/bphoto/mGH8L4...</td>\n",
       "      <td>False</td>\n",
       "      <td>https://www.yelp.com/biz/rosas-italian-restaur...</td>\n",
       "      <td>1208</td>\n",
       "      <td>[{'alias': 'italian', 'title': 'Italian'}, {'a...</td>\n",
       "      <td>4.0</td>\n",
       "      <td>['delivery']</td>\n",
       "      <td>$$</td>\n",
       "      <td>{\"address1\": \"491 Price St\", \"address2\": \"\", \"...</td>\n",
       "      <td>1.805773e+10</td>\n",
       "      <td>(805) 773-0551</td>\n",
       "      <td>416.138931</td>\n",
       "      <td>35.140170</td>\n",
       "      <td>-120.638440</td>\n",
       "      <td>{'address1': '491 Price St', 'address2': '', '...</td>\n",
       "    </tr>\n",
       "  </tbody>\n",
       "</table>\n",
       "</div>"
      ],
      "text/plain": [
       "                       id                                   alias  \\\n",
       "0  Km1aQHFPP7VwvFimVByPgg               dels-pizzeria-pismo-beach   \n",
       "1  UCH_lRmCHWBqzb0zs3Hbvg                  pizmo-cafe-pismo-beach   \n",
       "4  kbCBKe2CcNpjy61KoZ907Q           giuseppes-express-pismo-beach   \n",
       "6  NpngL0FEuj9OxaXPzqhNYg  rosas-italian-restaurant-pismo-beach-3   \n",
       "\n",
       "                        name  \\\n",
       "0             Del's Pizzeria   \n",
       "1                 PizMo Cafe   \n",
       "4         Giuseppe's Express   \n",
       "6  Rosa's Italian Restaurant   \n",
       "\n",
       "                                           image_url  is_closed  \\\n",
       "0  https://s3-media2.fl.yelpcdn.com/bphoto/dEgnqd...      False   \n",
       "1  https://s3-media4.fl.yelpcdn.com/bphoto/rno5HY...      False   \n",
       "4  https://s3-media2.fl.yelpcdn.com/bphoto/goUVCf...      False   \n",
       "6  https://s3-media3.fl.yelpcdn.com/bphoto/mGH8L4...      False   \n",
       "\n",
       "                                                 url  review_count  \\\n",
       "0  https://www.yelp.com/biz/dels-pizzeria-pismo-b...           499   \n",
       "1  https://www.yelp.com/biz/pizmo-cafe-pismo-beac...           458   \n",
       "4  https://www.yelp.com/biz/giuseppes-express-pis...           378   \n",
       "6  https://www.yelp.com/biz/rosas-italian-restaur...          1208   \n",
       "\n",
       "                                          categories  rating  \\\n",
       "0  [{'alias': 'pizza', 'title': 'Pizza'}, {'alias...     4.0   \n",
       "1  [{'alias': 'pizza', 'title': 'Pizza'}, {'alias...     4.0   \n",
       "4  [{'alias': 'italian', 'title': 'Italian'}, {'a...     3.5   \n",
       "6  [{'alias': 'italian', 'title': 'Italian'}, {'a...     4.0   \n",
       "\n",
       "             transactions price  \\\n",
       "0  ['pickup', 'delivery']    $$   \n",
       "1            ['delivery']    $$   \n",
       "4            ['delivery']    $$   \n",
       "6            ['delivery']    $$   \n",
       "\n",
       "                                            location         phone  \\\n",
       "0  {\"address1\": \"1101 Price St\", \"address2\": \"\", ...  1.805773e+10   \n",
       "1  {\"address1\": \"270 Pomeroy Ave\", \"address2\": \"\"...  1.805556e+10   \n",
       "4  {\"address1\": \"800 Price St\", \"address2\": \"\", \"...  1.805773e+10   \n",
       "6  {\"address1\": \"491 Price St\", \"address2\": \"\", \"...  1.805773e+10   \n",
       "\n",
       "    display_phone    distance   latitude   longitude  \\\n",
       "0  (805) 773-4438  456.832734  35.144050 -120.642900   \n",
       "1  (805) 556-0347  488.774648  35.140504 -120.641385   \n",
       "4  (805) 773-2873  284.396328  35.142560 -120.640550   \n",
       "6  (805) 773-0551  416.138931  35.140170 -120.638440   \n",
       "\n",
       "                                    display_location  \n",
       "0  {'address1': '1101 Price St', 'address2': '', ...  \n",
       "1  {'address1': '270 Pomeroy Ave', 'address2': ''...  \n",
       "4  {'address1': '800 Price St', 'address2': '', '...  \n",
       "6  {'address1': '491 Price St', 'address2': '', '...  "
      ]
     },
     "execution_count": 35,
     "metadata": {},
     "output_type": "execute_result"
    }
   ],
   "source": [
    "## remove any rows where display_location == 'ERROR'\n",
    "pismo_df = pismo_df.loc[pismo_df['display_location']!='Error']\n",
    "pismo_df.head(4)"
   ]
  },
  {
   "cell_type": "markdown",
   "id": "c1338cd2",
   "metadata": {},
   "source": [
    "- We want the \"display_address\" key from the \"display_location\" dictionaries.\n",
    "- We could use a .apply and a lamda to slice out the desired key."
   ]
  },
  {
   "cell_type": "code",
   "execution_count": 36,
   "id": "82544b10",
   "metadata": {},
   "outputs": [
    {
     "name": "stderr",
     "output_type": "stream",
     "text": [
      "C:\\Users\\tyler\\AppData\\Local\\Temp\\ipykernel_12396\\2693214443.py:2: SettingWithCopyWarning:\n",
      "\n",
      "\n",
      "A value is trying to be set on a copy of a slice from a DataFrame.\n",
      "Try using .loc[row_indexer,col_indexer] = value instead\n",
      "\n",
      "See the caveats in the documentation: https://pandas.pydata.org/pandas-docs/stable/user_guide/indexing.html#returning-a-view-versus-a-copy\n",
      "\n"
     ]
    },
    {
     "data": {
      "text/html": [
       "<div>\n",
       "<style scoped>\n",
       "    .dataframe tbody tr th:only-of-type {\n",
       "        vertical-align: middle;\n",
       "    }\n",
       "\n",
       "    .dataframe tbody tr th {\n",
       "        vertical-align: top;\n",
       "    }\n",
       "\n",
       "    .dataframe thead th {\n",
       "        text-align: right;\n",
       "    }\n",
       "</style>\n",
       "<table border=\"1\" class=\"dataframe\">\n",
       "  <thead>\n",
       "    <tr style=\"text-align: right;\">\n",
       "      <th></th>\n",
       "      <th>id</th>\n",
       "      <th>alias</th>\n",
       "      <th>name</th>\n",
       "      <th>image_url</th>\n",
       "      <th>is_closed</th>\n",
       "      <th>url</th>\n",
       "      <th>review_count</th>\n",
       "      <th>categories</th>\n",
       "      <th>rating</th>\n",
       "      <th>transactions</th>\n",
       "      <th>price</th>\n",
       "      <th>location</th>\n",
       "      <th>phone</th>\n",
       "      <th>display_phone</th>\n",
       "      <th>distance</th>\n",
       "      <th>latitude</th>\n",
       "      <th>longitude</th>\n",
       "      <th>display_location</th>\n",
       "    </tr>\n",
       "  </thead>\n",
       "  <tbody>\n",
       "    <tr>\n",
       "      <th>0</th>\n",
       "      <td>Km1aQHFPP7VwvFimVByPgg</td>\n",
       "      <td>dels-pizzeria-pismo-beach</td>\n",
       "      <td>Del's Pizzeria</td>\n",
       "      <td>https://s3-media2.fl.yelpcdn.com/bphoto/dEgnqd...</td>\n",
       "      <td>False</td>\n",
       "      <td>https://www.yelp.com/biz/dels-pizzeria-pismo-b...</td>\n",
       "      <td>499</td>\n",
       "      <td>[{'alias': 'pizza', 'title': 'Pizza'}, {'alias...</td>\n",
       "      <td>4.0</td>\n",
       "      <td>['pickup', 'delivery']</td>\n",
       "      <td>$$</td>\n",
       "      <td>{\"address1\": \"1101 Price St\", \"address2\": \"\", ...</td>\n",
       "      <td>1.805773e+10</td>\n",
       "      <td>(805) 773-4438</td>\n",
       "      <td>456.832734</td>\n",
       "      <td>35.144050</td>\n",
       "      <td>-120.642900</td>\n",
       "      <td>[1101 Price St, Pismo Beach, CA 93449]</td>\n",
       "    </tr>\n",
       "    <tr>\n",
       "      <th>1</th>\n",
       "      <td>UCH_lRmCHWBqzb0zs3Hbvg</td>\n",
       "      <td>pizmo-cafe-pismo-beach</td>\n",
       "      <td>PizMo Cafe</td>\n",
       "      <td>https://s3-media4.fl.yelpcdn.com/bphoto/rno5HY...</td>\n",
       "      <td>False</td>\n",
       "      <td>https://www.yelp.com/biz/pizmo-cafe-pismo-beac...</td>\n",
       "      <td>458</td>\n",
       "      <td>[{'alias': 'pizza', 'title': 'Pizza'}, {'alias...</td>\n",
       "      <td>4.0</td>\n",
       "      <td>['delivery']</td>\n",
       "      <td>$$</td>\n",
       "      <td>{\"address1\": \"270 Pomeroy Ave\", \"address2\": \"\"...</td>\n",
       "      <td>1.805556e+10</td>\n",
       "      <td>(805) 556-0347</td>\n",
       "      <td>488.774648</td>\n",
       "      <td>35.140504</td>\n",
       "      <td>-120.641385</td>\n",
       "      <td>[270 Pomeroy Ave, Pismo Beach, CA 93449]</td>\n",
       "    </tr>\n",
       "    <tr>\n",
       "      <th>4</th>\n",
       "      <td>kbCBKe2CcNpjy61KoZ907Q</td>\n",
       "      <td>giuseppes-express-pismo-beach</td>\n",
       "      <td>Giuseppe's Express</td>\n",
       "      <td>https://s3-media2.fl.yelpcdn.com/bphoto/goUVCf...</td>\n",
       "      <td>False</td>\n",
       "      <td>https://www.yelp.com/biz/giuseppes-express-pis...</td>\n",
       "      <td>378</td>\n",
       "      <td>[{'alias': 'italian', 'title': 'Italian'}, {'a...</td>\n",
       "      <td>3.5</td>\n",
       "      <td>['delivery']</td>\n",
       "      <td>$$</td>\n",
       "      <td>{\"address1\": \"800 Price St\", \"address2\": \"\", \"...</td>\n",
       "      <td>1.805773e+10</td>\n",
       "      <td>(805) 773-2873</td>\n",
       "      <td>284.396328</td>\n",
       "      <td>35.142560</td>\n",
       "      <td>-120.640550</td>\n",
       "      <td>[800 Price St, Pismo Beach, CA 93449]</td>\n",
       "    </tr>\n",
       "  </tbody>\n",
       "</table>\n",
       "</div>"
      ],
      "text/plain": [
       "                       id                          alias                name  \\\n",
       "0  Km1aQHFPP7VwvFimVByPgg      dels-pizzeria-pismo-beach      Del's Pizzeria   \n",
       "1  UCH_lRmCHWBqzb0zs3Hbvg         pizmo-cafe-pismo-beach          PizMo Cafe   \n",
       "4  kbCBKe2CcNpjy61KoZ907Q  giuseppes-express-pismo-beach  Giuseppe's Express   \n",
       "\n",
       "                                           image_url  is_closed  \\\n",
       "0  https://s3-media2.fl.yelpcdn.com/bphoto/dEgnqd...      False   \n",
       "1  https://s3-media4.fl.yelpcdn.com/bphoto/rno5HY...      False   \n",
       "4  https://s3-media2.fl.yelpcdn.com/bphoto/goUVCf...      False   \n",
       "\n",
       "                                                 url  review_count  \\\n",
       "0  https://www.yelp.com/biz/dels-pizzeria-pismo-b...           499   \n",
       "1  https://www.yelp.com/biz/pizmo-cafe-pismo-beac...           458   \n",
       "4  https://www.yelp.com/biz/giuseppes-express-pis...           378   \n",
       "\n",
       "                                          categories  rating  \\\n",
       "0  [{'alias': 'pizza', 'title': 'Pizza'}, {'alias...     4.0   \n",
       "1  [{'alias': 'pizza', 'title': 'Pizza'}, {'alias...     4.0   \n",
       "4  [{'alias': 'italian', 'title': 'Italian'}, {'a...     3.5   \n",
       "\n",
       "             transactions price  \\\n",
       "0  ['pickup', 'delivery']    $$   \n",
       "1            ['delivery']    $$   \n",
       "4            ['delivery']    $$   \n",
       "\n",
       "                                            location         phone  \\\n",
       "0  {\"address1\": \"1101 Price St\", \"address2\": \"\", ...  1.805773e+10   \n",
       "1  {\"address1\": \"270 Pomeroy Ave\", \"address2\": \"\"...  1.805556e+10   \n",
       "4  {\"address1\": \"800 Price St\", \"address2\": \"\", \"...  1.805773e+10   \n",
       "\n",
       "    display_phone    distance   latitude   longitude  \\\n",
       "0  (805) 773-4438  456.832734  35.144050 -120.642900   \n",
       "1  (805) 556-0347  488.774648  35.140504 -120.641385   \n",
       "4  (805) 773-2873  284.396328  35.142560 -120.640550   \n",
       "\n",
       "                           display_location  \n",
       "0    [1101 Price St, Pismo Beach, CA 93449]  \n",
       "1  [270 Pomeroy Ave, Pismo Beach, CA 93449]  \n",
       "4     [800 Price St, Pismo Beach, CA 93449]  "
      ]
     },
     "execution_count": 36,
     "metadata": {},
     "output_type": "execute_result"
    }
   ],
   "source": [
    "## use apply and lambda to slice correct key\n",
    "pismo_df['display_location'] = pismo_df['display_location'].apply(lambda x: x['display_address'])\n",
    "pismo_df.head(3)"
   ]
  },
  {
   "cell_type": "markdown",
   "id": "c65a79ab",
   "metadata": {},
   "source": [
    "- Almost done! We want to convert display_address to a string instead a list of strings.\n",
    "- We can use the string method .join to do so!"
   ]
  },
  {
   "cell_type": "code",
   "execution_count": 38,
   "id": "5f64f1dd",
   "metadata": {},
   "outputs": [
    {
     "data": {
      "text/plain": [
       "['1101 Price St', 'Pismo Beach, CA 93449']"
      ]
     },
     "execution_count": 38,
     "metadata": {},
     "output_type": "execute_result"
    }
   ],
   "source": [
    "## slice out test address \n",
    "test_addr = pismo_df.loc[0, 'display_location']\n",
    "test_addr"
   ]
  },
  {
   "cell_type": "code",
   "execution_count": 39,
   "id": "876bb98e",
   "metadata": {},
   "outputs": [
    {
     "data": {
      "text/plain": [
       "'1101 Price St\\nPismo Beach, CA 93449'"
      ]
     },
     "execution_count": 39,
     "metadata": {},
     "output_type": "execute_result"
    }
   ],
   "source": [
    "## test using .join with a \"\\n\"\n",
    "'\\n'.join(test_addr)"
   ]
  },
  {
   "cell_type": "code",
   "execution_count": 41,
   "id": "55a6176d",
   "metadata": {
    "scrolled": true
   },
   "outputs": [
    {
     "name": "stderr",
     "output_type": "stream",
     "text": [
      "C:\\Users\\tyler\\AppData\\Local\\Temp\\ipykernel_12396\\4207290606.py:2: SettingWithCopyWarning:\n",
      "\n",
      "\n",
      "A value is trying to be set on a copy of a slice from a DataFrame.\n",
      "Try using .loc[row_indexer,col_indexer] = value instead\n",
      "\n",
      "See the caveats in the documentation: https://pandas.pydata.org/pandas-docs/stable/user_guide/indexing.html#returning-a-view-versus-a-copy\n",
      "\n"
     ]
    },
    {
     "data": {
      "text/html": [
       "<div>\n",
       "<style scoped>\n",
       "    .dataframe tbody tr th:only-of-type {\n",
       "        vertical-align: middle;\n",
       "    }\n",
       "\n",
       "    .dataframe tbody tr th {\n",
       "        vertical-align: top;\n",
       "    }\n",
       "\n",
       "    .dataframe thead th {\n",
       "        text-align: right;\n",
       "    }\n",
       "</style>\n",
       "<table border=\"1\" class=\"dataframe\">\n",
       "  <thead>\n",
       "    <tr style=\"text-align: right;\">\n",
       "      <th></th>\n",
       "      <th>id</th>\n",
       "      <th>alias</th>\n",
       "      <th>name</th>\n",
       "      <th>image_url</th>\n",
       "      <th>is_closed</th>\n",
       "      <th>url</th>\n",
       "      <th>review_count</th>\n",
       "      <th>categories</th>\n",
       "      <th>rating</th>\n",
       "      <th>transactions</th>\n",
       "      <th>price</th>\n",
       "      <th>location</th>\n",
       "      <th>phone</th>\n",
       "      <th>display_phone</th>\n",
       "      <th>distance</th>\n",
       "      <th>latitude</th>\n",
       "      <th>longitude</th>\n",
       "      <th>display_location</th>\n",
       "      <th>address</th>\n",
       "    </tr>\n",
       "  </thead>\n",
       "  <tbody>\n",
       "    <tr>\n",
       "      <th>0</th>\n",
       "      <td>Km1aQHFPP7VwvFimVByPgg</td>\n",
       "      <td>dels-pizzeria-pismo-beach</td>\n",
       "      <td>Del's Pizzeria</td>\n",
       "      <td>https://s3-media2.fl.yelpcdn.com/bphoto/dEgnqd...</td>\n",
       "      <td>False</td>\n",
       "      <td>https://www.yelp.com/biz/dels-pizzeria-pismo-b...</td>\n",
       "      <td>499</td>\n",
       "      <td>[{'alias': 'pizza', 'title': 'Pizza'}, {'alias...</td>\n",
       "      <td>4.0</td>\n",
       "      <td>['pickup', 'delivery']</td>\n",
       "      <td>$$</td>\n",
       "      <td>{\"address1\": \"1101 Price St\", \"address2\": \"\", ...</td>\n",
       "      <td>1.805773e+10</td>\n",
       "      <td>(805) 773-4438</td>\n",
       "      <td>456.832734</td>\n",
       "      <td>35.144050</td>\n",
       "      <td>-120.642900</td>\n",
       "      <td>[1101 Price St, Pismo Beach, CA 93449]</td>\n",
       "      <td>1101 Price St\\nPismo Beach, CA 93449</td>\n",
       "    </tr>\n",
       "    <tr>\n",
       "      <th>1</th>\n",
       "      <td>UCH_lRmCHWBqzb0zs3Hbvg</td>\n",
       "      <td>pizmo-cafe-pismo-beach</td>\n",
       "      <td>PizMo Cafe</td>\n",
       "      <td>https://s3-media4.fl.yelpcdn.com/bphoto/rno5HY...</td>\n",
       "      <td>False</td>\n",
       "      <td>https://www.yelp.com/biz/pizmo-cafe-pismo-beac...</td>\n",
       "      <td>458</td>\n",
       "      <td>[{'alias': 'pizza', 'title': 'Pizza'}, {'alias...</td>\n",
       "      <td>4.0</td>\n",
       "      <td>['delivery']</td>\n",
       "      <td>$$</td>\n",
       "      <td>{\"address1\": \"270 Pomeroy Ave\", \"address2\": \"\"...</td>\n",
       "      <td>1.805556e+10</td>\n",
       "      <td>(805) 556-0347</td>\n",
       "      <td>488.774648</td>\n",
       "      <td>35.140504</td>\n",
       "      <td>-120.641385</td>\n",
       "      <td>[270 Pomeroy Ave, Pismo Beach, CA 93449]</td>\n",
       "      <td>270 Pomeroy Ave\\nPismo Beach, CA 93449</td>\n",
       "    </tr>\n",
       "    <tr>\n",
       "      <th>4</th>\n",
       "      <td>kbCBKe2CcNpjy61KoZ907Q</td>\n",
       "      <td>giuseppes-express-pismo-beach</td>\n",
       "      <td>Giuseppe's Express</td>\n",
       "      <td>https://s3-media2.fl.yelpcdn.com/bphoto/goUVCf...</td>\n",
       "      <td>False</td>\n",
       "      <td>https://www.yelp.com/biz/giuseppes-express-pis...</td>\n",
       "      <td>378</td>\n",
       "      <td>[{'alias': 'italian', 'title': 'Italian'}, {'a...</td>\n",
       "      <td>3.5</td>\n",
       "      <td>['delivery']</td>\n",
       "      <td>$$</td>\n",
       "      <td>{\"address1\": \"800 Price St\", \"address2\": \"\", \"...</td>\n",
       "      <td>1.805773e+10</td>\n",
       "      <td>(805) 773-2873</td>\n",
       "      <td>284.396328</td>\n",
       "      <td>35.142560</td>\n",
       "      <td>-120.640550</td>\n",
       "      <td>[800 Price St, Pismo Beach, CA 93449]</td>\n",
       "      <td>800 Price St\\nPismo Beach, CA 93449</td>\n",
       "    </tr>\n",
       "    <tr>\n",
       "      <th>6</th>\n",
       "      <td>NpngL0FEuj9OxaXPzqhNYg</td>\n",
       "      <td>rosas-italian-restaurant-pismo-beach-3</td>\n",
       "      <td>Rosa's Italian Restaurant</td>\n",
       "      <td>https://s3-media3.fl.yelpcdn.com/bphoto/mGH8L4...</td>\n",
       "      <td>False</td>\n",
       "      <td>https://www.yelp.com/biz/rosas-italian-restaur...</td>\n",
       "      <td>1208</td>\n",
       "      <td>[{'alias': 'italian', 'title': 'Italian'}, {'a...</td>\n",
       "      <td>4.0</td>\n",
       "      <td>['delivery']</td>\n",
       "      <td>$$</td>\n",
       "      <td>{\"address1\": \"491 Price St\", \"address2\": \"\", \"...</td>\n",
       "      <td>1.805773e+10</td>\n",
       "      <td>(805) 773-0551</td>\n",
       "      <td>416.138931</td>\n",
       "      <td>35.140170</td>\n",
       "      <td>-120.638440</td>\n",
       "      <td>[491 Price St, Pismo Beach, CA 93449]</td>\n",
       "      <td>491 Price St\\nPismo Beach, CA 93449</td>\n",
       "    </tr>\n",
       "    <tr>\n",
       "      <th>8</th>\n",
       "      <td>Alnpp0cDLJ5ZsDEpzWjuWg</td>\n",
       "      <td>the-boardroom-pismo-beach-4</td>\n",
       "      <td>The Boardroom</td>\n",
       "      <td>https://s3-media1.fl.yelpcdn.com/bphoto/RXxgk7...</td>\n",
       "      <td>False</td>\n",
       "      <td>https://www.yelp.com/biz/the-boardroom-pismo-b...</td>\n",
       "      <td>279</td>\n",
       "      <td>[{'alias': 'pubs', 'title': 'Pubs'}, {'alias':...</td>\n",
       "      <td>4.0</td>\n",
       "      <td>['delivery']</td>\n",
       "      <td>$$</td>\n",
       "      <td>{\"address1\": \"160 Hinds Ave\", \"address2\": \"\", ...</td>\n",
       "      <td>1.805296e+10</td>\n",
       "      <td>(805) 295-6222</td>\n",
       "      <td>661.720776</td>\n",
       "      <td>35.138780</td>\n",
       "      <td>-120.641880</td>\n",
       "      <td>[160 Hinds Ave, Pismo Beach, CA 93449]</td>\n",
       "      <td>160 Hinds Ave\\nPismo Beach, CA 93449</td>\n",
       "    </tr>\n",
       "    <tr>\n",
       "      <th>...</th>\n",
       "      <td>...</td>\n",
       "      <td>...</td>\n",
       "      <td>...</td>\n",
       "      <td>...</td>\n",
       "      <td>...</td>\n",
       "      <td>...</td>\n",
       "      <td>...</td>\n",
       "      <td>...</td>\n",
       "      <td>...</td>\n",
       "      <td>...</td>\n",
       "      <td>...</td>\n",
       "      <td>...</td>\n",
       "      <td>...</td>\n",
       "      <td>...</td>\n",
       "      <td>...</td>\n",
       "      <td>...</td>\n",
       "      <td>...</td>\n",
       "      <td>...</td>\n",
       "      <td>...</td>\n",
       "    </tr>\n",
       "    <tr>\n",
       "      <th>83</th>\n",
       "      <td>Ny2Qj6ywKrHsuqBcvg4kww</td>\n",
       "      <td>julias-juice-bar-grover-beach-2</td>\n",
       "      <td>Julia's Juice Bar</td>\n",
       "      <td>https://s3-media2.fl.yelpcdn.com/bphoto/Duwdva...</td>\n",
       "      <td>False</td>\n",
       "      <td>https://www.yelp.com/biz/julias-juice-bar-grov...</td>\n",
       "      <td>115</td>\n",
       "      <td>[{'alias': 'juicebars', 'title': 'Juice Bars &amp;...</td>\n",
       "      <td>4.5</td>\n",
       "      <td>[]</td>\n",
       "      <td>$$</td>\n",
       "      <td>{\"address1\": \"960 W Grand Ave\", \"address2\": \"S...</td>\n",
       "      <td>1.805481e+10</td>\n",
       "      <td>(805) 481-4100</td>\n",
       "      <td>2999.014031</td>\n",
       "      <td>35.121110</td>\n",
       "      <td>-120.619640</td>\n",
       "      <td>[960 W Grand Ave, Ste F, Grover Beach, CA 93433]</td>\n",
       "      <td>960 W Grand Ave\\nSte F\\nGrover Beach, CA 93433</td>\n",
       "    </tr>\n",
       "    <tr>\n",
       "      <th>84</th>\n",
       "      <td>pEcfqzB3-Q7lhJpitGWhLg</td>\n",
       "      <td>cocos-bakery-restaurant-pismo-beach-3</td>\n",
       "      <td>Coco's Bakery Restaurant</td>\n",
       "      <td>https://s3-media2.fl.yelpcdn.com/bphoto/qc0hm2...</td>\n",
       "      <td>False</td>\n",
       "      <td>https://www.yelp.com/biz/cocos-bakery-restaura...</td>\n",
       "      <td>140</td>\n",
       "      <td>[{'alias': 'tradamerican', 'title': 'American ...</td>\n",
       "      <td>3.5</td>\n",
       "      <td>['delivery']</td>\n",
       "      <td>$$</td>\n",
       "      <td>{\"address1\": \"411 5 Cities Dr\", \"address2\": \"\"...</td>\n",
       "      <td>1.805773e+10</td>\n",
       "      <td>(805) 773-3240</td>\n",
       "      <td>1416.532006</td>\n",
       "      <td>35.136420</td>\n",
       "      <td>-120.625050</td>\n",
       "      <td>[411 5 Cities Dr, Pismo Beach, CA 93449]</td>\n",
       "      <td>411 5 Cities Dr\\nPismo Beach, CA 93449</td>\n",
       "    </tr>\n",
       "    <tr>\n",
       "      <th>85</th>\n",
       "      <td>206Aj3TkUeCvFJojHFXinQ</td>\n",
       "      <td>biddle-ranch-vineyard-san-luis-obispo-2</td>\n",
       "      <td>Biddle Ranch Vineyard</td>\n",
       "      <td>https://s3-media2.fl.yelpcdn.com/bphoto/Lr6AiN...</td>\n",
       "      <td>False</td>\n",
       "      <td>https://www.yelp.com/biz/biddle-ranch-vineyard...</td>\n",
       "      <td>88</td>\n",
       "      <td>[{'alias': 'wineries', 'title': 'Wineries'}]</td>\n",
       "      <td>4.5</td>\n",
       "      <td>[]</td>\n",
       "      <td>$$</td>\n",
       "      <td>{\"address1\": \"2050 Biddle Ranch Rd\", \"address2...</td>\n",
       "      <td>1.805543e+10</td>\n",
       "      <td>(805) 543-2399</td>\n",
       "      <td>8231.417719</td>\n",
       "      <td>35.215348</td>\n",
       "      <td>-120.614705</td>\n",
       "      <td>[2050 Biddle Ranch Rd, San Luis Obispo, CA 93401]</td>\n",
       "      <td>2050 Biddle Ranch Rd\\nSan Luis Obispo, CA 93401</td>\n",
       "    </tr>\n",
       "    <tr>\n",
       "      <th>86</th>\n",
       "      <td>pishOto_0wHMxiiUJ5NV_A</td>\n",
       "      <td>taco-bell-pismo-beach</td>\n",
       "      <td>Taco Bell</td>\n",
       "      <td>https://s3-media4.fl.yelpcdn.com/bphoto/pKWGnY...</td>\n",
       "      <td>False</td>\n",
       "      <td>https://www.yelp.com/biz/taco-bell-pismo-beach...</td>\n",
       "      <td>59</td>\n",
       "      <td>[{'alias': 'mexican', 'title': 'Mexican'}, {'a...</td>\n",
       "      <td>2.5</td>\n",
       "      <td>['delivery']</td>\n",
       "      <td>$</td>\n",
       "      <td>{\"address1\": \"867 Oak Park Blvd\", \"address2\": ...</td>\n",
       "      <td>1.805474e+10</td>\n",
       "      <td>(805) 474-4141</td>\n",
       "      <td>3205.195625</td>\n",
       "      <td>35.131459</td>\n",
       "      <td>-120.605904</td>\n",
       "      <td>[867 Oak Park Blvd, Pismo Beach, CA 93449]</td>\n",
       "      <td>867 Oak Park Blvd\\nPismo Beach, CA 93449</td>\n",
       "    </tr>\n",
       "    <tr>\n",
       "      <th>87</th>\n",
       "      <td>OArcxEWtFq4uut9HTg-aCQ</td>\n",
       "      <td>taco-bell-grover-beach</td>\n",
       "      <td>Taco Bell</td>\n",
       "      <td>https://s3-media4.fl.yelpcdn.com/bphoto/ljA1rt...</td>\n",
       "      <td>False</td>\n",
       "      <td>https://www.yelp.com/biz/taco-bell-grover-beac...</td>\n",
       "      <td>85</td>\n",
       "      <td>[{'alias': 'mexican', 'title': 'Mexican'}, {'a...</td>\n",
       "      <td>2.0</td>\n",
       "      <td>['delivery']</td>\n",
       "      <td>$</td>\n",
       "      <td>{\"address1\": \"1500 W Grand Ave\", \"address2\": \"...</td>\n",
       "      <td>1.805481e+10</td>\n",
       "      <td>(805) 481-3852</td>\n",
       "      <td>3413.898794</td>\n",
       "      <td>35.121122</td>\n",
       "      <td>-120.612425</td>\n",
       "      <td>[1500 W Grand Ave, Grover Beach, CA 93433]</td>\n",
       "      <td>1500 W Grand Ave\\nGrover Beach, CA 93433</td>\n",
       "    </tr>\n",
       "  </tbody>\n",
       "</table>\n",
       "<p>64 rows × 19 columns</p>\n",
       "</div>"
      ],
      "text/plain": [
       "                        id                                    alias  \\\n",
       "0   Km1aQHFPP7VwvFimVByPgg                dels-pizzeria-pismo-beach   \n",
       "1   UCH_lRmCHWBqzb0zs3Hbvg                   pizmo-cafe-pismo-beach   \n",
       "4   kbCBKe2CcNpjy61KoZ907Q            giuseppes-express-pismo-beach   \n",
       "6   NpngL0FEuj9OxaXPzqhNYg   rosas-italian-restaurant-pismo-beach-3   \n",
       "8   Alnpp0cDLJ5ZsDEpzWjuWg              the-boardroom-pismo-beach-4   \n",
       "..                     ...                                      ...   \n",
       "83  Ny2Qj6ywKrHsuqBcvg4kww          julias-juice-bar-grover-beach-2   \n",
       "84  pEcfqzB3-Q7lhJpitGWhLg    cocos-bakery-restaurant-pismo-beach-3   \n",
       "85  206Aj3TkUeCvFJojHFXinQ  biddle-ranch-vineyard-san-luis-obispo-2   \n",
       "86  pishOto_0wHMxiiUJ5NV_A                    taco-bell-pismo-beach   \n",
       "87  OArcxEWtFq4uut9HTg-aCQ                   taco-bell-grover-beach   \n",
       "\n",
       "                         name  \\\n",
       "0              Del's Pizzeria   \n",
       "1                  PizMo Cafe   \n",
       "4          Giuseppe's Express   \n",
       "6   Rosa's Italian Restaurant   \n",
       "8               The Boardroom   \n",
       "..                        ...   \n",
       "83          Julia's Juice Bar   \n",
       "84   Coco's Bakery Restaurant   \n",
       "85      Biddle Ranch Vineyard   \n",
       "86                  Taco Bell   \n",
       "87                  Taco Bell   \n",
       "\n",
       "                                            image_url  is_closed  \\\n",
       "0   https://s3-media2.fl.yelpcdn.com/bphoto/dEgnqd...      False   \n",
       "1   https://s3-media4.fl.yelpcdn.com/bphoto/rno5HY...      False   \n",
       "4   https://s3-media2.fl.yelpcdn.com/bphoto/goUVCf...      False   \n",
       "6   https://s3-media3.fl.yelpcdn.com/bphoto/mGH8L4...      False   \n",
       "8   https://s3-media1.fl.yelpcdn.com/bphoto/RXxgk7...      False   \n",
       "..                                                ...        ...   \n",
       "83  https://s3-media2.fl.yelpcdn.com/bphoto/Duwdva...      False   \n",
       "84  https://s3-media2.fl.yelpcdn.com/bphoto/qc0hm2...      False   \n",
       "85  https://s3-media2.fl.yelpcdn.com/bphoto/Lr6AiN...      False   \n",
       "86  https://s3-media4.fl.yelpcdn.com/bphoto/pKWGnY...      False   \n",
       "87  https://s3-media4.fl.yelpcdn.com/bphoto/ljA1rt...      False   \n",
       "\n",
       "                                                  url  review_count  \\\n",
       "0   https://www.yelp.com/biz/dels-pizzeria-pismo-b...           499   \n",
       "1   https://www.yelp.com/biz/pizmo-cafe-pismo-beac...           458   \n",
       "4   https://www.yelp.com/biz/giuseppes-express-pis...           378   \n",
       "6   https://www.yelp.com/biz/rosas-italian-restaur...          1208   \n",
       "8   https://www.yelp.com/biz/the-boardroom-pismo-b...           279   \n",
       "..                                                ...           ...   \n",
       "83  https://www.yelp.com/biz/julias-juice-bar-grov...           115   \n",
       "84  https://www.yelp.com/biz/cocos-bakery-restaura...           140   \n",
       "85  https://www.yelp.com/biz/biddle-ranch-vineyard...            88   \n",
       "86  https://www.yelp.com/biz/taco-bell-pismo-beach...            59   \n",
       "87  https://www.yelp.com/biz/taco-bell-grover-beac...            85   \n",
       "\n",
       "                                           categories  rating  \\\n",
       "0   [{'alias': 'pizza', 'title': 'Pizza'}, {'alias...     4.0   \n",
       "1   [{'alias': 'pizza', 'title': 'Pizza'}, {'alias...     4.0   \n",
       "4   [{'alias': 'italian', 'title': 'Italian'}, {'a...     3.5   \n",
       "6   [{'alias': 'italian', 'title': 'Italian'}, {'a...     4.0   \n",
       "8   [{'alias': 'pubs', 'title': 'Pubs'}, {'alias':...     4.0   \n",
       "..                                                ...     ...   \n",
       "83  [{'alias': 'juicebars', 'title': 'Juice Bars &...     4.5   \n",
       "84  [{'alias': 'tradamerican', 'title': 'American ...     3.5   \n",
       "85       [{'alias': 'wineries', 'title': 'Wineries'}]     4.5   \n",
       "86  [{'alias': 'mexican', 'title': 'Mexican'}, {'a...     2.5   \n",
       "87  [{'alias': 'mexican', 'title': 'Mexican'}, {'a...     2.0   \n",
       "\n",
       "              transactions price  \\\n",
       "0   ['pickup', 'delivery']    $$   \n",
       "1             ['delivery']    $$   \n",
       "4             ['delivery']    $$   \n",
       "6             ['delivery']    $$   \n",
       "8             ['delivery']    $$   \n",
       "..                     ...   ...   \n",
       "83                      []    $$   \n",
       "84            ['delivery']    $$   \n",
       "85                      []    $$   \n",
       "86            ['delivery']     $   \n",
       "87            ['delivery']     $   \n",
       "\n",
       "                                             location         phone  \\\n",
       "0   {\"address1\": \"1101 Price St\", \"address2\": \"\", ...  1.805773e+10   \n",
       "1   {\"address1\": \"270 Pomeroy Ave\", \"address2\": \"\"...  1.805556e+10   \n",
       "4   {\"address1\": \"800 Price St\", \"address2\": \"\", \"...  1.805773e+10   \n",
       "6   {\"address1\": \"491 Price St\", \"address2\": \"\", \"...  1.805773e+10   \n",
       "8   {\"address1\": \"160 Hinds Ave\", \"address2\": \"\", ...  1.805296e+10   \n",
       "..                                                ...           ...   \n",
       "83  {\"address1\": \"960 W Grand Ave\", \"address2\": \"S...  1.805481e+10   \n",
       "84  {\"address1\": \"411 5 Cities Dr\", \"address2\": \"\"...  1.805773e+10   \n",
       "85  {\"address1\": \"2050 Biddle Ranch Rd\", \"address2...  1.805543e+10   \n",
       "86  {\"address1\": \"867 Oak Park Blvd\", \"address2\": ...  1.805474e+10   \n",
       "87  {\"address1\": \"1500 W Grand Ave\", \"address2\": \"...  1.805481e+10   \n",
       "\n",
       "     display_phone     distance   latitude   longitude  \\\n",
       "0   (805) 773-4438   456.832734  35.144050 -120.642900   \n",
       "1   (805) 556-0347   488.774648  35.140504 -120.641385   \n",
       "4   (805) 773-2873   284.396328  35.142560 -120.640550   \n",
       "6   (805) 773-0551   416.138931  35.140170 -120.638440   \n",
       "8   (805) 295-6222   661.720776  35.138780 -120.641880   \n",
       "..             ...          ...        ...         ...   \n",
       "83  (805) 481-4100  2999.014031  35.121110 -120.619640   \n",
       "84  (805) 773-3240  1416.532006  35.136420 -120.625050   \n",
       "85  (805) 543-2399  8231.417719  35.215348 -120.614705   \n",
       "86  (805) 474-4141  3205.195625  35.131459 -120.605904   \n",
       "87  (805) 481-3852  3413.898794  35.121122 -120.612425   \n",
       "\n",
       "                                     display_location  \\\n",
       "0              [1101 Price St, Pismo Beach, CA 93449]   \n",
       "1            [270 Pomeroy Ave, Pismo Beach, CA 93449]   \n",
       "4               [800 Price St, Pismo Beach, CA 93449]   \n",
       "6               [491 Price St, Pismo Beach, CA 93449]   \n",
       "8              [160 Hinds Ave, Pismo Beach, CA 93449]   \n",
       "..                                                ...   \n",
       "83   [960 W Grand Ave, Ste F, Grover Beach, CA 93433]   \n",
       "84           [411 5 Cities Dr, Pismo Beach, CA 93449]   \n",
       "85  [2050 Biddle Ranch Rd, San Luis Obispo, CA 93401]   \n",
       "86         [867 Oak Park Blvd, Pismo Beach, CA 93449]   \n",
       "87         [1500 W Grand Ave, Grover Beach, CA 93433]   \n",
       "\n",
       "                                            address  \n",
       "0              1101 Price St\\nPismo Beach, CA 93449  \n",
       "1            270 Pomeroy Ave\\nPismo Beach, CA 93449  \n",
       "4               800 Price St\\nPismo Beach, CA 93449  \n",
       "6               491 Price St\\nPismo Beach, CA 93449  \n",
       "8              160 Hinds Ave\\nPismo Beach, CA 93449  \n",
       "..                                              ...  \n",
       "83   960 W Grand Ave\\nSte F\\nGrover Beach, CA 93433  \n",
       "84           411 5 Cities Dr\\nPismo Beach, CA 93449  \n",
       "85  2050 Biddle Ranch Rd\\nSan Luis Obispo, CA 93401  \n",
       "86         867 Oak Park Blvd\\nPismo Beach, CA 93449  \n",
       "87         1500 W Grand Ave\\nGrover Beach, CA 93433  \n",
       "\n",
       "[64 rows x 19 columns]"
      ]
     },
     "execution_count": 41,
     "metadata": {},
     "output_type": "execute_result"
    }
   ],
   "source": [
    "## apply the join to every row with a lambda\n",
    "pismo_df['address'] = pismo_df['display_location'].apply(lambda x: '\\n'.join(x))\n",
    "pismo_df"
   ]
  },
  {
   "cell_type": "markdown",
   "id": "09b90087",
   "metadata": {},
   "source": [
    "### Final Map"
   ]
  },
  {
   "cell_type": "code",
   "execution_count": 43,
   "id": "0afd236d",
   "metadata": {
    "scrolled": false
   },
   "outputs": [
    {
     "data": {
      "application/vnd.plotly.v1+json": {
       "config": {
        "plotlyServerURL": "https://plot.ly"
       },
       "data": [
        {
         "customdata": [
          [
           "$$",
           4,
           "1101 Price St\nPismo Beach, CA 93449"
          ],
          [
           "$$",
           4,
           "270 Pomeroy Ave\nPismo Beach, CA 93449"
          ],
          [
           "$$",
           3.5,
           "800 Price St\nPismo Beach, CA 93449"
          ],
          [
           "$$",
           4,
           "491 Price St\nPismo Beach, CA 93449"
          ],
          [
           "$$",
           4,
           "160 Hinds Ave\nPismo Beach, CA 93449"
          ],
          [
           "$$",
           4,
           "1800 E Grand Ave\nSte N\nGrover Beach, CA 93433"
          ],
          [
           "$",
           3.5,
           "1741 W Grand Ave\nSte D\nGrover Beach, CA 93433"
          ],
          [
           "$$",
           4,
           "1750 El Camino Real\nSte A\nGrover Beach, CA 93433"
          ],
          [
           "$",
           4,
           "277 Pomeroy Ave\nPismo Beach, CA 93449"
          ],
          [
           "$",
           3.5,
           "1514 W Grand Ave\nGrover Beach, CA 93433"
          ],
          [
           "$$",
           3.5,
           "906 Rancho Pkwy\nArroyo Grande, CA 93420"
          ],
          [
           "$$",
           4,
           "500 Cypress St\nSte S2\nPismo Beach, CA 93449"
          ],
          [
           "$$",
           4,
           "404 Front St\nAvila Beach, CA 93405"
          ],
          [
           "$",
           2.5,
           "1231 E Grand Ave\nArroyo Grande, CA 93420"
          ],
          [
           "$$$",
           4,
           "268 Front St\nAvila Beach, CA 93424"
          ],
          [
           "$$",
           4,
           "1527 Shell Beach Rd\nPismo Beach, CA 93449"
          ],
          [
           "$$",
           4,
           "101 Pomeroy Ave\nPismo Beach, CA 93449"
          ],
          [
           "$$",
           2.5,
           "1600 West Grand Ave\nGrover Beach, CA 93433"
          ],
          [
           "$$",
           4,
           "138 E Branch St\nArroyo Grande, CA 93420"
          ],
          [
           "$$",
           3,
           "2790 S Halcyon Rd\nArroyo Grande, CA 93420"
          ],
          [
           "$$",
           5,
           "1255 Shell Beach Rd\nPismo Beach, CA 93449"
          ],
          [
           "$$$",
           4.5,
           "1200 E Grand Ave\nArroyo Grande, CA 93420"
          ],
          [
           "$$",
           4.5,
           "480 Front St\nAvila Beach, CA 93424"
          ],
          [
           "$$",
           4.5,
           "927 Shell Beach Rd\nShell Beach, CA 93449"
          ],
          [
           "$$$",
           4,
           "751 Price St\nPismo Beach, CA 93449"
          ],
          [
           "$$",
           3.5,
           "221 Pomeroy Ave\nPismo Beach, CA 93449"
          ],
          [
           "$$",
           4,
           "200 E Branch St\nArroyo Grande, CA 93420"
          ],
          [
           "$$$",
           4,
           "2727 Shell Beach Rd\nPismo Beach, CA 93449"
          ],
          [
           "$$",
           4,
           "555 Five Cities Dr\nPismo Beach, CA 93449"
          ],
          [
           "$$",
           3.5,
           "460 W Grand Ave\nGrover Beach, CA 93433"
          ],
          [
           "$",
           4.5,
           "2061 Cienaga St\nOceano, CA 93445"
          ],
          [
           "$",
           3.5,
           "187 Pomeroy Ave\nPismo Beach, CA 93449"
          ],
          [
           "$$",
           3,
           "6675 Bay Laurel Pl\nAvila Village\nAvila Beach, CA 93424"
          ],
          [
           "$$",
           4,
           "1759 Shell Beach Rd\nShell Beach, CA 93449"
          ],
          [
           "$$",
           4,
           "100 Ocean View Ave\nPismo Beach, CA 93449"
          ],
          [
           "$$",
           4.5,
           "295 W Grand Ave\nGrover Beach, CA 93433"
          ],
          [
           "$$",
           4,
           "307 E Branch St\nArroyo Grande, CA 93420"
          ],
          [
           "$$",
           3,
           "404 Front St\nAvila Beach, CA 93424"
          ],
          [
           "$",
           3,
           "320 E Branch St\nArroyo Grande, CA 93420"
          ],
          [
           "$$",
           3.5,
           "1215 Avila Beach Dr\nAvila Beach, CA 93424"
          ],
          [
           "$$",
           4,
           "999 Price St\nPismo Beach, CA 93449"
          ],
          [
           "$$",
           3.5,
           "649 Pier Ave\nOceano, CA 93445"
          ],
          [
           "$$",
           3.5,
           "2757 Shell Beach Rd\nPismo Beach, CA 93449"
          ],
          [
           null,
           5,
           "191 Oak Park Blvd\nSte 5\nGrover Beach, CA 93433"
          ],
          [
           "$",
           3.5,
           "531 Five Cities Dr\nPismo Beach, CA 93449"
          ],
          [
           "$",
           5,
           "1750 El Camino Real\nSte B\nGrover Beach, CA 93433"
          ],
          [
           "$$",
           4.5,
           "206 E Branch St\nArroyo Grande, CA 93420"
          ],
          [
           "$$",
           3.5,
           "2703 Spyglass Dr\nShell Beach, CA 93449"
          ],
          [
           "$$",
           3.5,
           "25 W Grand Ave\nGrover Beach, CA 93433"
          ],
          [
           "$$",
           4.5,
           "114 W Branch St\nArroyo Grande, CA 93420"
          ],
          [
           "$$",
           3.5,
           "1300 Railroad St\nOceano, CA 93445"
          ],
          [
           "$$",
           3,
           "1591 W Grand Ave\nGrover Beach, CA 93433"
          ],
          [
           "$$",
           3.5,
           "300 Five Cities Dr\nPismo Beach, CA 93449"
          ],
          [
           "$$",
           2.5,
           "1207 Grand Ave\nArroyo Grande, CA 93420"
          ],
          [
           "$$",
           4,
           "1010 W Grand Ave\nGrover Beach, CA 93433"
          ],
          [
           "$$",
           4,
           "1741 W Grand Ave\nSte E\nGrover Beach, CA 93433"
          ],
          [
           "$$",
           2.5,
           "1690 E Grand Ave\nArroyo Grande, CA 93420"
          ],
          [
           "$",
           1.5,
           "830 Grand Ave\nArroyo Grande, CA 93420"
          ],
          [
           null,
           3,
           "400 Traffic Way\nArroyo Grande, CA 93420"
          ],
          [
           "$$",
           4.5,
           "960 W Grand Ave\nSte F\nGrover Beach, CA 93433"
          ],
          [
           "$$",
           3.5,
           "411 5 Cities Dr\nPismo Beach, CA 93449"
          ],
          [
           "$$",
           4.5,
           "2050 Biddle Ranch Rd\nSan Luis Obispo, CA 93401"
          ],
          [
           "$",
           2.5,
           "867 Oak Park Blvd\nPismo Beach, CA 93449"
          ],
          [
           "$",
           2,
           "1500 W Grand Ave\nGrover Beach, CA 93433"
          ]
         ],
         "hovertemplate": "<b>%{hovertext}</b><br><br>latitude=%{lat}<br>longitude=%{lon}<br>price=%{customdata[0]}<br>rating=%{marker.color}<br>address=%{customdata[2]}<extra></extra>",
         "hovertext": [
          "Del's Pizzeria",
          "PizMo Cafe",
          "Giuseppe's Express",
          "Rosa's Italian Restaurant",
          "The Boardroom",
          "Doughboy's Pizzeria",
          "Fatte's Pizza of Grover Beach",
          "ManRock Brewing",
          "Pismo Bowl",
          "Sam's Giant Manhattan Pizza",
          "Palo Mesa Pizza",
          "Pismo Brewing",
          "Mission Pizza",
          "Domino's Pizza",
          "Ocean Grill Avila Beach",
          "Shell Beach Brewhouse",
          "Wooly's",
          "Round Table Pizza",
          "Gina's Italian Restaurant",
          "Palo Mesa Pizza",
          "Sando's Deli",
          "Ember",
          "PierFront wine & brew",
          "Zorro's Cafe & Cantina",
          "Cracked Crab",
          "MO's Smokehouse BBQ",
          "Rooster Creek",
          "Lido Restaurant & Lounge",
          "California Fresh Market",
          "Sushi 805",
          "Central Market",
          "El Mirador",
          "Woodstone Marketplace",
          "Mei's Chinese Restaurant",
          "SeaVenture Restaurant",
          "The Spoon Trade",
          "Mason Bar & Kitchen",
          "Mr Rick's",
          "Last Chance Liquors",
          "Gardens of Avila Restaurant",
          "Honeymoon Cafe",
          "Old Juan's Cantina",
          "Marisol",
          "New Earth Superfoods",
          "Rite Aid",
          "8575 Perfetto Caffe",
          "Jaffa Cafe",
          "Spyglass Inn Restaurant",
          "Fin's Seafood Restaurant",
          "Doc Burnstein's Ice Cream Lab",
          "Rock & Roll Diner",
          "Golden Gong Chinese Restaurant",
          "Huckleberry's - Pismo Beach",
          "Rite Aid",
          "Jalapenos Restaurant",
          "Yamato Japanese Restaurant",
          "Rite Aid",
          "7-Eleven",
          "Greyhound Bus Lines",
          "Julia's Juice Bar",
          "Coco's Bakery Restaurant",
          "Biddle Ranch Vineyard",
          "Taco Bell",
          "Taco Bell"
         ],
         "lat": [
          35.14405,
          35.1405040480287,
          35.14256,
          35.14017,
          35.13878,
          35.120422,
          35.1211137,
          35.129473,
          35.1405919,
          35.12065823930062,
          35.1271688491754,
          35.1390422,
          35.1788187,
          35.11976049553751,
          35.17865,
          35.1579024160989,
          35.1395782866043,
          35.120827,
          35.12367,
          35.0807952880859,
          35.1571807,
          35.12115,
          35.1792793,
          35.156578673999945,
          35.14179,
          35.14041,
          35.1238970063092,
          35.16448,
          35.135665,
          35.1214790344238,
          35.098442,
          35.1400099,
          35.1895964,
          35.1584181,
          35.13671,
          35.122148717721295,
          35.124651,
          35.1791,
          35.1246138357304,
          35.18598306812193,
          35.143059,
          35.1073832,
          35.16444158956,
          35.11998,
          35.1350709847763,
          35.130022,
          35.123955,
          35.16329,
          35.12226305902,
          35.12324,
          35.105072207875,
          35.1214,
          35.13723,
          35.119293,
          35.1212526022,
          35.1211137,
          35.1215320500822,
          35.1191471731716,
          35.11933,
          35.12111,
          35.13642,
          35.2153483,
          35.131459,
          35.121122
         ],
         "legendgroup": "",
         "lon": [
          -120.6429,
          -120.64138521999335,
          -120.64055,
          -120.63844,
          -120.64188,
          -120.608416,
          -120.6097587,
          -120.608468,
          -120.6417756,
          -120.61321266123021,
          -120.594927600102,
          -120.6408786,
          -120.7336868,
          -120.60226098442318,
          -120.73232,
          -120.672956889546,
          -120.643026373415,
          -120.611361,
          -120.57758,
          -120.585754394531,
          -120.6713944,
          -120.59935,
          -120.7344666,
          -120.66992268238636,
          -120.64058,
          -120.64209,
          -120.57749658823,
          -120.68907,
          -120.623893,
          -120.625663757324,
          -120.60942,
          -120.64255,
          -120.721367,
          -120.6744566,
          -120.64104,
          -120.627865,
          -120.576662,
          -120.7338,
          -120.575822075593,
          -120.71281920653769,
          -120.641823,
          -120.6240768,
          -120.689234733582,
          -120.6088233,
          -120.6250463672,
          -120.608488,
          -120.5773181,
          -120.6886,
          -120.633662715554,
          -120.57984,
          -120.621940771099,
          -120.61175,
          -120.62932,
          -120.601132,
          -120.618937537,
          -120.6097587,
          -120.608323216438,
          -120.591320535186,
          -120.57651,
          -120.61964,
          -120.62505,
          -120.6147054,
          -120.605904,
          -120.612425
         ],
         "marker": {
          "color": [
           4,
           4,
           3.5,
           4,
           4,
           4,
           3.5,
           4,
           4,
           3.5,
           3.5,
           4,
           4,
           2.5,
           4,
           4,
           4,
           2.5,
           4,
           3,
           5,
           4.5,
           4.5,
           4.5,
           4,
           3.5,
           4,
           4,
           4,
           3.5,
           4.5,
           3.5,
           3,
           4,
           4,
           4.5,
           4,
           3,
           3,
           3.5,
           4,
           3.5,
           3.5,
           5,
           3.5,
           5,
           4.5,
           3.5,
           3.5,
           4.5,
           3.5,
           3,
           3.5,
           2.5,
           4,
           4,
           2.5,
           1.5,
           3,
           4.5,
           3.5,
           4.5,
           2.5,
           2
          ],
          "coloraxis": "coloraxis"
         },
         "mode": "markers",
         "name": "",
         "showlegend": false,
         "subplot": "mapbox",
         "type": "scattermapbox"
        }
       ],
       "layout": {
        "coloraxis": {
         "colorbar": {
          "title": {
           "text": "rating"
          }
         },
         "colorscale": [
          [
           0,
           "#0d0887"
          ],
          [
           0.1111111111111111,
           "#46039f"
          ],
          [
           0.2222222222222222,
           "#7201a8"
          ],
          [
           0.3333333333333333,
           "#9c179e"
          ],
          [
           0.4444444444444444,
           "#bd3786"
          ],
          [
           0.5555555555555556,
           "#d8576b"
          ],
          [
           0.6666666666666666,
           "#ed7953"
          ],
          [
           0.7777777777777778,
           "#fb9f3a"
          ],
          [
           0.8888888888888888,
           "#fdca26"
          ],
          [
           1,
           "#f0f921"
          ]
         ]
        },
        "legend": {
         "tracegroupgap": 0
        },
        "mapbox": {
         "accesstoken": "pk.eyJ1IjoidHNjaGVsbGkiLCJhIjoiY2xienVseWJnMmFndjNvbml6bnl2cmY5ZSJ9.4OsA0FBjje5eniwvzW0CKA",
         "center": {
          "lat": 35.136713339465985,
          "lon": -120.63273277983393
         },
         "domain": {
          "x": [
           0,
           1
          ],
          "y": [
           0,
           1
          ]
         },
         "style": "open-street-map",
         "zoom": 8
        },
        "template": {
         "data": {
          "bar": [
           {
            "error_x": {
             "color": "#2a3f5f"
            },
            "error_y": {
             "color": "#2a3f5f"
            },
            "marker": {
             "line": {
              "color": "#E5ECF6",
              "width": 0.5
             },
             "pattern": {
              "fillmode": "overlay",
              "size": 10,
              "solidity": 0.2
             }
            },
            "type": "bar"
           }
          ],
          "barpolar": [
           {
            "marker": {
             "line": {
              "color": "#E5ECF6",
              "width": 0.5
             },
             "pattern": {
              "fillmode": "overlay",
              "size": 10,
              "solidity": 0.2
             }
            },
            "type": "barpolar"
           }
          ],
          "carpet": [
           {
            "aaxis": {
             "endlinecolor": "#2a3f5f",
             "gridcolor": "white",
             "linecolor": "white",
             "minorgridcolor": "white",
             "startlinecolor": "#2a3f5f"
            },
            "baxis": {
             "endlinecolor": "#2a3f5f",
             "gridcolor": "white",
             "linecolor": "white",
             "minorgridcolor": "white",
             "startlinecolor": "#2a3f5f"
            },
            "type": "carpet"
           }
          ],
          "choropleth": [
           {
            "colorbar": {
             "outlinewidth": 0,
             "ticks": ""
            },
            "type": "choropleth"
           }
          ],
          "contour": [
           {
            "colorbar": {
             "outlinewidth": 0,
             "ticks": ""
            },
            "colorscale": [
             [
              0,
              "#0d0887"
             ],
             [
              0.1111111111111111,
              "#46039f"
             ],
             [
              0.2222222222222222,
              "#7201a8"
             ],
             [
              0.3333333333333333,
              "#9c179e"
             ],
             [
              0.4444444444444444,
              "#bd3786"
             ],
             [
              0.5555555555555556,
              "#d8576b"
             ],
             [
              0.6666666666666666,
              "#ed7953"
             ],
             [
              0.7777777777777778,
              "#fb9f3a"
             ],
             [
              0.8888888888888888,
              "#fdca26"
             ],
             [
              1,
              "#f0f921"
             ]
            ],
            "type": "contour"
           }
          ],
          "contourcarpet": [
           {
            "colorbar": {
             "outlinewidth": 0,
             "ticks": ""
            },
            "type": "contourcarpet"
           }
          ],
          "heatmap": [
           {
            "colorbar": {
             "outlinewidth": 0,
             "ticks": ""
            },
            "colorscale": [
             [
              0,
              "#0d0887"
             ],
             [
              0.1111111111111111,
              "#46039f"
             ],
             [
              0.2222222222222222,
              "#7201a8"
             ],
             [
              0.3333333333333333,
              "#9c179e"
             ],
             [
              0.4444444444444444,
              "#bd3786"
             ],
             [
              0.5555555555555556,
              "#d8576b"
             ],
             [
              0.6666666666666666,
              "#ed7953"
             ],
             [
              0.7777777777777778,
              "#fb9f3a"
             ],
             [
              0.8888888888888888,
              "#fdca26"
             ],
             [
              1,
              "#f0f921"
             ]
            ],
            "type": "heatmap"
           }
          ],
          "heatmapgl": [
           {
            "colorbar": {
             "outlinewidth": 0,
             "ticks": ""
            },
            "colorscale": [
             [
              0,
              "#0d0887"
             ],
             [
              0.1111111111111111,
              "#46039f"
             ],
             [
              0.2222222222222222,
              "#7201a8"
             ],
             [
              0.3333333333333333,
              "#9c179e"
             ],
             [
              0.4444444444444444,
              "#bd3786"
             ],
             [
              0.5555555555555556,
              "#d8576b"
             ],
             [
              0.6666666666666666,
              "#ed7953"
             ],
             [
              0.7777777777777778,
              "#fb9f3a"
             ],
             [
              0.8888888888888888,
              "#fdca26"
             ],
             [
              1,
              "#f0f921"
             ]
            ],
            "type": "heatmapgl"
           }
          ],
          "histogram": [
           {
            "marker": {
             "pattern": {
              "fillmode": "overlay",
              "size": 10,
              "solidity": 0.2
             }
            },
            "type": "histogram"
           }
          ],
          "histogram2d": [
           {
            "colorbar": {
             "outlinewidth": 0,
             "ticks": ""
            },
            "colorscale": [
             [
              0,
              "#0d0887"
             ],
             [
              0.1111111111111111,
              "#46039f"
             ],
             [
              0.2222222222222222,
              "#7201a8"
             ],
             [
              0.3333333333333333,
              "#9c179e"
             ],
             [
              0.4444444444444444,
              "#bd3786"
             ],
             [
              0.5555555555555556,
              "#d8576b"
             ],
             [
              0.6666666666666666,
              "#ed7953"
             ],
             [
              0.7777777777777778,
              "#fb9f3a"
             ],
             [
              0.8888888888888888,
              "#fdca26"
             ],
             [
              1,
              "#f0f921"
             ]
            ],
            "type": "histogram2d"
           }
          ],
          "histogram2dcontour": [
           {
            "colorbar": {
             "outlinewidth": 0,
             "ticks": ""
            },
            "colorscale": [
             [
              0,
              "#0d0887"
             ],
             [
              0.1111111111111111,
              "#46039f"
             ],
             [
              0.2222222222222222,
              "#7201a8"
             ],
             [
              0.3333333333333333,
              "#9c179e"
             ],
             [
              0.4444444444444444,
              "#bd3786"
             ],
             [
              0.5555555555555556,
              "#d8576b"
             ],
             [
              0.6666666666666666,
              "#ed7953"
             ],
             [
              0.7777777777777778,
              "#fb9f3a"
             ],
             [
              0.8888888888888888,
              "#fdca26"
             ],
             [
              1,
              "#f0f921"
             ]
            ],
            "type": "histogram2dcontour"
           }
          ],
          "mesh3d": [
           {
            "colorbar": {
             "outlinewidth": 0,
             "ticks": ""
            },
            "type": "mesh3d"
           }
          ],
          "parcoords": [
           {
            "line": {
             "colorbar": {
              "outlinewidth": 0,
              "ticks": ""
             }
            },
            "type": "parcoords"
           }
          ],
          "pie": [
           {
            "automargin": true,
            "type": "pie"
           }
          ],
          "scatter": [
           {
            "fillpattern": {
             "fillmode": "overlay",
             "size": 10,
             "solidity": 0.2
            },
            "type": "scatter"
           }
          ],
          "scatter3d": [
           {
            "line": {
             "colorbar": {
              "outlinewidth": 0,
              "ticks": ""
             }
            },
            "marker": {
             "colorbar": {
              "outlinewidth": 0,
              "ticks": ""
             }
            },
            "type": "scatter3d"
           }
          ],
          "scattercarpet": [
           {
            "marker": {
             "colorbar": {
              "outlinewidth": 0,
              "ticks": ""
             }
            },
            "type": "scattercarpet"
           }
          ],
          "scattergeo": [
           {
            "marker": {
             "colorbar": {
              "outlinewidth": 0,
              "ticks": ""
             }
            },
            "type": "scattergeo"
           }
          ],
          "scattergl": [
           {
            "marker": {
             "colorbar": {
              "outlinewidth": 0,
              "ticks": ""
             }
            },
            "type": "scattergl"
           }
          ],
          "scattermapbox": [
           {
            "marker": {
             "colorbar": {
              "outlinewidth": 0,
              "ticks": ""
             }
            },
            "type": "scattermapbox"
           }
          ],
          "scatterpolar": [
           {
            "marker": {
             "colorbar": {
              "outlinewidth": 0,
              "ticks": ""
             }
            },
            "type": "scatterpolar"
           }
          ],
          "scatterpolargl": [
           {
            "marker": {
             "colorbar": {
              "outlinewidth": 0,
              "ticks": ""
             }
            },
            "type": "scatterpolargl"
           }
          ],
          "scatterternary": [
           {
            "marker": {
             "colorbar": {
              "outlinewidth": 0,
              "ticks": ""
             }
            },
            "type": "scatterternary"
           }
          ],
          "surface": [
           {
            "colorbar": {
             "outlinewidth": 0,
             "ticks": ""
            },
            "colorscale": [
             [
              0,
              "#0d0887"
             ],
             [
              0.1111111111111111,
              "#46039f"
             ],
             [
              0.2222222222222222,
              "#7201a8"
             ],
             [
              0.3333333333333333,
              "#9c179e"
             ],
             [
              0.4444444444444444,
              "#bd3786"
             ],
             [
              0.5555555555555556,
              "#d8576b"
             ],
             [
              0.6666666666666666,
              "#ed7953"
             ],
             [
              0.7777777777777778,
              "#fb9f3a"
             ],
             [
              0.8888888888888888,
              "#fdca26"
             ],
             [
              1,
              "#f0f921"
             ]
            ],
            "type": "surface"
           }
          ],
          "table": [
           {
            "cells": {
             "fill": {
              "color": "#EBF0F8"
             },
             "line": {
              "color": "white"
             }
            },
            "header": {
             "fill": {
              "color": "#C8D4E3"
             },
             "line": {
              "color": "white"
             }
            },
            "type": "table"
           }
          ]
         },
         "layout": {
          "annotationdefaults": {
           "arrowcolor": "#2a3f5f",
           "arrowhead": 0,
           "arrowwidth": 1
          },
          "autotypenumbers": "strict",
          "coloraxis": {
           "colorbar": {
            "outlinewidth": 0,
            "ticks": ""
           }
          },
          "colorscale": {
           "diverging": [
            [
             0,
             "#8e0152"
            ],
            [
             0.1,
             "#c51b7d"
            ],
            [
             0.2,
             "#de77ae"
            ],
            [
             0.3,
             "#f1b6da"
            ],
            [
             0.4,
             "#fde0ef"
            ],
            [
             0.5,
             "#f7f7f7"
            ],
            [
             0.6,
             "#e6f5d0"
            ],
            [
             0.7,
             "#b8e186"
            ],
            [
             0.8,
             "#7fbc41"
            ],
            [
             0.9,
             "#4d9221"
            ],
            [
             1,
             "#276419"
            ]
           ],
           "sequential": [
            [
             0,
             "#0d0887"
            ],
            [
             0.1111111111111111,
             "#46039f"
            ],
            [
             0.2222222222222222,
             "#7201a8"
            ],
            [
             0.3333333333333333,
             "#9c179e"
            ],
            [
             0.4444444444444444,
             "#bd3786"
            ],
            [
             0.5555555555555556,
             "#d8576b"
            ],
            [
             0.6666666666666666,
             "#ed7953"
            ],
            [
             0.7777777777777778,
             "#fb9f3a"
            ],
            [
             0.8888888888888888,
             "#fdca26"
            ],
            [
             1,
             "#f0f921"
            ]
           ],
           "sequentialminus": [
            [
             0,
             "#0d0887"
            ],
            [
             0.1111111111111111,
             "#46039f"
            ],
            [
             0.2222222222222222,
             "#7201a8"
            ],
            [
             0.3333333333333333,
             "#9c179e"
            ],
            [
             0.4444444444444444,
             "#bd3786"
            ],
            [
             0.5555555555555556,
             "#d8576b"
            ],
            [
             0.6666666666666666,
             "#ed7953"
            ],
            [
             0.7777777777777778,
             "#fb9f3a"
            ],
            [
             0.8888888888888888,
             "#fdca26"
            ],
            [
             1,
             "#f0f921"
            ]
           ]
          },
          "colorway": [
           "#636efa",
           "#EF553B",
           "#00cc96",
           "#ab63fa",
           "#FFA15A",
           "#19d3f3",
           "#FF6692",
           "#B6E880",
           "#FF97FF",
           "#FECB52"
          ],
          "font": {
           "color": "#2a3f5f"
          },
          "geo": {
           "bgcolor": "white",
           "lakecolor": "white",
           "landcolor": "#E5ECF6",
           "showlakes": true,
           "showland": true,
           "subunitcolor": "white"
          },
          "hoverlabel": {
           "align": "left"
          },
          "hovermode": "closest",
          "mapbox": {
           "style": "light"
          },
          "paper_bgcolor": "white",
          "plot_bgcolor": "#E5ECF6",
          "polar": {
           "angularaxis": {
            "gridcolor": "white",
            "linecolor": "white",
            "ticks": ""
           },
           "bgcolor": "#E5ECF6",
           "radialaxis": {
            "gridcolor": "white",
            "linecolor": "white",
            "ticks": ""
           }
          },
          "scene": {
           "xaxis": {
            "backgroundcolor": "#E5ECF6",
            "gridcolor": "white",
            "gridwidth": 2,
            "linecolor": "white",
            "showbackground": true,
            "ticks": "",
            "zerolinecolor": "white"
           },
           "yaxis": {
            "backgroundcolor": "#E5ECF6",
            "gridcolor": "white",
            "gridwidth": 2,
            "linecolor": "white",
            "showbackground": true,
            "ticks": "",
            "zerolinecolor": "white"
           },
           "zaxis": {
            "backgroundcolor": "#E5ECF6",
            "gridcolor": "white",
            "gridwidth": 2,
            "linecolor": "white",
            "showbackground": true,
            "ticks": "",
            "zerolinecolor": "white"
           }
          },
          "shapedefaults": {
           "line": {
            "color": "#2a3f5f"
           }
          },
          "ternary": {
           "aaxis": {
            "gridcolor": "white",
            "linecolor": "white",
            "ticks": ""
           },
           "baxis": {
            "gridcolor": "white",
            "linecolor": "white",
            "ticks": ""
           },
           "bgcolor": "#E5ECF6",
           "caxis": {
            "gridcolor": "white",
            "linecolor": "white",
            "ticks": ""
           }
          },
          "title": {
           "x": 0.05
          },
          "xaxis": {
           "automargin": true,
           "gridcolor": "white",
           "linecolor": "white",
           "ticks": "",
           "title": {
            "standoff": 15
           },
           "zerolinecolor": "white",
           "zerolinewidth": 2
          },
          "yaxis": {
           "automargin": true,
           "gridcolor": "white",
           "linecolor": "white",
           "ticks": "",
           "title": {
            "standoff": 15
           },
           "zerolinecolor": "white",
           "zerolinewidth": 2
          }
         }
        },
        "title": {
         "text": "Pizza in Pismo"
        }
       }
      },
      "text/html": [
       "<div>                            <div id=\"daf85677-0ce3-410b-842b-01722ce574e0\" class=\"plotly-graph-div\" style=\"height:525px; width:100%;\"></div>            <script type=\"text/javascript\">                require([\"plotly\"], function(Plotly) {                    window.PLOTLYENV=window.PLOTLYENV || {};                                    if (document.getElementById(\"daf85677-0ce3-410b-842b-01722ce574e0\")) {                    Plotly.newPlot(                        \"daf85677-0ce3-410b-842b-01722ce574e0\",                        [{\"customdata\":[[\"$$\",4.0,\"1101 Price St\\nPismo Beach, CA 93449\"],[\"$$\",4.0,\"270 Pomeroy Ave\\nPismo Beach, CA 93449\"],[\"$$\",3.5,\"800 Price St\\nPismo Beach, CA 93449\"],[\"$$\",4.0,\"491 Price St\\nPismo Beach, CA 93449\"],[\"$$\",4.0,\"160 Hinds Ave\\nPismo Beach, CA 93449\"],[\"$$\",4.0,\"1800 E Grand Ave\\nSte N\\nGrover Beach, CA 93433\"],[\"$\",3.5,\"1741 W Grand Ave\\nSte D\\nGrover Beach, CA 93433\"],[\"$$\",4.0,\"1750 El Camino Real\\nSte A\\nGrover Beach, CA 93433\"],[\"$\",4.0,\"277 Pomeroy Ave\\nPismo Beach, CA 93449\"],[\"$\",3.5,\"1514 W Grand Ave\\nGrover Beach, CA 93433\"],[\"$$\",3.5,\"906 Rancho Pkwy\\nArroyo Grande, CA 93420\"],[\"$$\",4.0,\"500 Cypress St\\nSte S2\\nPismo Beach, CA 93449\"],[\"$$\",4.0,\"404 Front St\\nAvila Beach, CA 93405\"],[\"$\",2.5,\"1231 E Grand Ave\\nArroyo Grande, CA 93420\"],[\"$$$\",4.0,\"268 Front St\\nAvila Beach, CA 93424\"],[\"$$\",4.0,\"1527 Shell Beach Rd\\nPismo Beach, CA 93449\"],[\"$$\",4.0,\"101 Pomeroy Ave\\nPismo Beach, CA 93449\"],[\"$$\",2.5,\"1600 West Grand Ave\\nGrover Beach, CA 93433\"],[\"$$\",4.0,\"138 E Branch St\\nArroyo Grande, CA 93420\"],[\"$$\",3.0,\"2790 S Halcyon Rd\\nArroyo Grande, CA 93420\"],[\"$$\",5.0,\"1255 Shell Beach Rd\\nPismo Beach, CA 93449\"],[\"$$$\",4.5,\"1200 E Grand Ave\\nArroyo Grande, CA 93420\"],[\"$$\",4.5,\"480 Front St\\nAvila Beach, CA 93424\"],[\"$$\",4.5,\"927 Shell Beach Rd\\nShell Beach, CA 93449\"],[\"$$$\",4.0,\"751 Price St\\nPismo Beach, CA 93449\"],[\"$$\",3.5,\"221 Pomeroy Ave\\nPismo Beach, CA 93449\"],[\"$$\",4.0,\"200 E Branch St\\nArroyo Grande, CA 93420\"],[\"$$$\",4.0,\"2727 Shell Beach Rd\\nPismo Beach, CA 93449\"],[\"$$\",4.0,\"555 Five Cities Dr\\nPismo Beach, CA 93449\"],[\"$$\",3.5,\"460 W Grand Ave\\nGrover Beach, CA 93433\"],[\"$\",4.5,\"2061 Cienaga St\\nOceano, CA 93445\"],[\"$\",3.5,\"187 Pomeroy Ave\\nPismo Beach, CA 93449\"],[\"$$\",3.0,\"6675 Bay Laurel Pl\\nAvila Village\\nAvila Beach, CA 93424\"],[\"$$\",4.0,\"1759 Shell Beach Rd\\nShell Beach, CA 93449\"],[\"$$\",4.0,\"100 Ocean View Ave\\nPismo Beach, CA 93449\"],[\"$$\",4.5,\"295 W Grand Ave\\nGrover Beach, CA 93433\"],[\"$$\",4.0,\"307 E Branch St\\nArroyo Grande, CA 93420\"],[\"$$\",3.0,\"404 Front St\\nAvila Beach, CA 93424\"],[\"$\",3.0,\"320 E Branch St\\nArroyo Grande, CA 93420\"],[\"$$\",3.5,\"1215 Avila Beach Dr\\nAvila Beach, CA 93424\"],[\"$$\",4.0,\"999 Price St\\nPismo Beach, CA 93449\"],[\"$$\",3.5,\"649 Pier Ave\\nOceano, CA 93445\"],[\"$$\",3.5,\"2757 Shell Beach Rd\\nPismo Beach, CA 93449\"],[null,5.0,\"191 Oak Park Blvd\\nSte 5\\nGrover Beach, CA 93433\"],[\"$\",3.5,\"531 Five Cities Dr\\nPismo Beach, CA 93449\"],[\"$\",5.0,\"1750 El Camino Real\\nSte B\\nGrover Beach, CA 93433\"],[\"$$\",4.5,\"206 E Branch St\\nArroyo Grande, CA 93420\"],[\"$$\",3.5,\"2703 Spyglass Dr\\nShell Beach, CA 93449\"],[\"$$\",3.5,\"25 W Grand Ave\\nGrover Beach, CA 93433\"],[\"$$\",4.5,\"114 W Branch St\\nArroyo Grande, CA 93420\"],[\"$$\",3.5,\"1300 Railroad St\\nOceano, CA 93445\"],[\"$$\",3.0,\"1591 W Grand Ave\\nGrover Beach, CA 93433\"],[\"$$\",3.5,\"300 Five Cities Dr\\nPismo Beach, CA 93449\"],[\"$$\",2.5,\"1207 Grand Ave\\nArroyo Grande, CA 93420\"],[\"$$\",4.0,\"1010 W Grand Ave\\nGrover Beach, CA 93433\"],[\"$$\",4.0,\"1741 W Grand Ave\\nSte E\\nGrover Beach, CA 93433\"],[\"$$\",2.5,\"1690 E Grand Ave\\nArroyo Grande, CA 93420\"],[\"$\",1.5,\"830 Grand Ave\\nArroyo Grande, CA 93420\"],[null,3.0,\"400 Traffic Way\\nArroyo Grande, CA 93420\"],[\"$$\",4.5,\"960 W Grand Ave\\nSte F\\nGrover Beach, CA 93433\"],[\"$$\",3.5,\"411 5 Cities Dr\\nPismo Beach, CA 93449\"],[\"$$\",4.5,\"2050 Biddle Ranch Rd\\nSan Luis Obispo, CA 93401\"],[\"$\",2.5,\"867 Oak Park Blvd\\nPismo Beach, CA 93449\"],[\"$\",2.0,\"1500 W Grand Ave\\nGrover Beach, CA 93433\"]],\"hovertemplate\":\"<b>%{hovertext}</b><br><br>latitude=%{lat}<br>longitude=%{lon}<br>price=%{customdata[0]}<br>rating=%{marker.color}<br>address=%{customdata[2]}<extra></extra>\",\"hovertext\":[\"Del's Pizzeria\",\"PizMo Cafe\",\"Giuseppe's Express\",\"Rosa's Italian Restaurant\",\"The Boardroom\",\"Doughboy's Pizzeria\",\"Fatte's Pizza of Grover Beach\",\"ManRock Brewing\",\"Pismo Bowl\",\"Sam's Giant Manhattan Pizza\",\"Palo Mesa Pizza\",\"Pismo Brewing\",\"Mission Pizza\",\"Domino's Pizza\",\"Ocean Grill Avila Beach\",\"Shell Beach Brewhouse\",\"Wooly's\",\"Round Table Pizza\",\"Gina's Italian Restaurant\",\"Palo Mesa Pizza\",\"Sando's Deli\",\"Ember\",\"PierFront wine & brew\",\"Zorro's Cafe & Cantina\",\"Cracked Crab\",\"MO's Smokehouse BBQ\",\"Rooster Creek\",\"Lido Restaurant & Lounge\",\"California Fresh Market\",\"Sushi 805\",\"Central Market\",\"El Mirador\",\"Woodstone Marketplace\",\"Mei's Chinese Restaurant\",\"SeaVenture Restaurant\",\"The Spoon Trade\",\"Mason Bar & Kitchen\",\"Mr Rick's\",\"Last Chance Liquors\",\"Gardens of Avila Restaurant\",\"Honeymoon Cafe\",\"Old Juan's Cantina\",\"Marisol\",\"New Earth Superfoods\",\"Rite Aid\",\"8575 Perfetto Caffe\",\"Jaffa Cafe\",\"Spyglass Inn Restaurant\",\"Fin's Seafood Restaurant\",\"Doc Burnstein's Ice Cream Lab\",\"Rock & Roll Diner\",\"Golden Gong Chinese Restaurant\",\"Huckleberry's - Pismo Beach\",\"Rite Aid\",\"Jalapenos Restaurant\",\"Yamato Japanese Restaurant\",\"Rite Aid\",\"7-Eleven\",\"Greyhound Bus Lines\",\"Julia's Juice Bar\",\"Coco's Bakery Restaurant\",\"Biddle Ranch Vineyard\",\"Taco Bell\",\"Taco Bell\"],\"lat\":[35.14405,35.1405040480287,35.14256,35.14017,35.13878,35.120422,35.1211137,35.129473,35.1405919,35.12065823930062,35.1271688491754,35.1390422,35.1788187,35.11976049553751,35.17865,35.1579024160989,35.1395782866043,35.120827,35.12367,35.0807952880859,35.1571807,35.12115,35.1792793,35.156578673999945,35.14179,35.14041,35.1238970063092,35.16448,35.135665,35.1214790344238,35.098442,35.1400099,35.1895964,35.1584181,35.13671,35.122148717721295,35.124651,35.1791,35.1246138357304,35.18598306812193,35.143059,35.1073832,35.16444158956,35.11998,35.1350709847763,35.130022,35.123955,35.16329,35.12226305902,35.12324,35.105072207875,35.1214,35.13723,35.119293,35.1212526022,35.1211137,35.1215320500822,35.1191471731716,35.11933,35.12111,35.13642,35.2153483,35.131459,35.121122],\"legendgroup\":\"\",\"lon\":[-120.6429,-120.64138521999335,-120.64055,-120.63844,-120.64188,-120.608416,-120.6097587,-120.608468,-120.6417756,-120.61321266123021,-120.594927600102,-120.6408786,-120.7336868,-120.60226098442318,-120.73232,-120.672956889546,-120.643026373415,-120.611361,-120.57758,-120.585754394531,-120.6713944,-120.59935,-120.7344666,-120.66992268238636,-120.64058,-120.64209,-120.57749658823,-120.68907,-120.623893,-120.625663757324,-120.60942,-120.64255,-120.721367,-120.6744566,-120.64104,-120.627865,-120.576662,-120.7338,-120.575822075593,-120.71281920653769,-120.641823,-120.6240768,-120.689234733582,-120.6088233,-120.6250463672,-120.608488,-120.5773181,-120.6886,-120.633662715554,-120.57984,-120.621940771099,-120.61175,-120.62932,-120.601132,-120.618937537,-120.6097587,-120.608323216438,-120.591320535186,-120.57651,-120.61964,-120.62505,-120.6147054,-120.605904,-120.612425],\"marker\":{\"color\":[4.0,4.0,3.5,4.0,4.0,4.0,3.5,4.0,4.0,3.5,3.5,4.0,4.0,2.5,4.0,4.0,4.0,2.5,4.0,3.0,5.0,4.5,4.5,4.5,4.0,3.5,4.0,4.0,4.0,3.5,4.5,3.5,3.0,4.0,4.0,4.5,4.0,3.0,3.0,3.5,4.0,3.5,3.5,5.0,3.5,5.0,4.5,3.5,3.5,4.5,3.5,3.0,3.5,2.5,4.0,4.0,2.5,1.5,3.0,4.5,3.5,4.5,2.5,2.0],\"coloraxis\":\"coloraxis\"},\"mode\":\"markers\",\"name\":\"\",\"showlegend\":false,\"subplot\":\"mapbox\",\"type\":\"scattermapbox\"}],                        {\"template\":{\"data\":{\"histogram2dcontour\":[{\"type\":\"histogram2dcontour\",\"colorbar\":{\"outlinewidth\":0,\"ticks\":\"\"},\"colorscale\":[[0.0,\"#0d0887\"],[0.1111111111111111,\"#46039f\"],[0.2222222222222222,\"#7201a8\"],[0.3333333333333333,\"#9c179e\"],[0.4444444444444444,\"#bd3786\"],[0.5555555555555556,\"#d8576b\"],[0.6666666666666666,\"#ed7953\"],[0.7777777777777778,\"#fb9f3a\"],[0.8888888888888888,\"#fdca26\"],[1.0,\"#f0f921\"]]}],\"choropleth\":[{\"type\":\"choropleth\",\"colorbar\":{\"outlinewidth\":0,\"ticks\":\"\"}}],\"histogram2d\":[{\"type\":\"histogram2d\",\"colorbar\":{\"outlinewidth\":0,\"ticks\":\"\"},\"colorscale\":[[0.0,\"#0d0887\"],[0.1111111111111111,\"#46039f\"],[0.2222222222222222,\"#7201a8\"],[0.3333333333333333,\"#9c179e\"],[0.4444444444444444,\"#bd3786\"],[0.5555555555555556,\"#d8576b\"],[0.6666666666666666,\"#ed7953\"],[0.7777777777777778,\"#fb9f3a\"],[0.8888888888888888,\"#fdca26\"],[1.0,\"#f0f921\"]]}],\"heatmap\":[{\"type\":\"heatmap\",\"colorbar\":{\"outlinewidth\":0,\"ticks\":\"\"},\"colorscale\":[[0.0,\"#0d0887\"],[0.1111111111111111,\"#46039f\"],[0.2222222222222222,\"#7201a8\"],[0.3333333333333333,\"#9c179e\"],[0.4444444444444444,\"#bd3786\"],[0.5555555555555556,\"#d8576b\"],[0.6666666666666666,\"#ed7953\"],[0.7777777777777778,\"#fb9f3a\"],[0.8888888888888888,\"#fdca26\"],[1.0,\"#f0f921\"]]}],\"heatmapgl\":[{\"type\":\"heatmapgl\",\"colorbar\":{\"outlinewidth\":0,\"ticks\":\"\"},\"colorscale\":[[0.0,\"#0d0887\"],[0.1111111111111111,\"#46039f\"],[0.2222222222222222,\"#7201a8\"],[0.3333333333333333,\"#9c179e\"],[0.4444444444444444,\"#bd3786\"],[0.5555555555555556,\"#d8576b\"],[0.6666666666666666,\"#ed7953\"],[0.7777777777777778,\"#fb9f3a\"],[0.8888888888888888,\"#fdca26\"],[1.0,\"#f0f921\"]]}],\"contourcarpet\":[{\"type\":\"contourcarpet\",\"colorbar\":{\"outlinewidth\":0,\"ticks\":\"\"}}],\"contour\":[{\"type\":\"contour\",\"colorbar\":{\"outlinewidth\":0,\"ticks\":\"\"},\"colorscale\":[[0.0,\"#0d0887\"],[0.1111111111111111,\"#46039f\"],[0.2222222222222222,\"#7201a8\"],[0.3333333333333333,\"#9c179e\"],[0.4444444444444444,\"#bd3786\"],[0.5555555555555556,\"#d8576b\"],[0.6666666666666666,\"#ed7953\"],[0.7777777777777778,\"#fb9f3a\"],[0.8888888888888888,\"#fdca26\"],[1.0,\"#f0f921\"]]}],\"surface\":[{\"type\":\"surface\",\"colorbar\":{\"outlinewidth\":0,\"ticks\":\"\"},\"colorscale\":[[0.0,\"#0d0887\"],[0.1111111111111111,\"#46039f\"],[0.2222222222222222,\"#7201a8\"],[0.3333333333333333,\"#9c179e\"],[0.4444444444444444,\"#bd3786\"],[0.5555555555555556,\"#d8576b\"],[0.6666666666666666,\"#ed7953\"],[0.7777777777777778,\"#fb9f3a\"],[0.8888888888888888,\"#fdca26\"],[1.0,\"#f0f921\"]]}],\"mesh3d\":[{\"type\":\"mesh3d\",\"colorbar\":{\"outlinewidth\":0,\"ticks\":\"\"}}],\"scatter\":[{\"fillpattern\":{\"fillmode\":\"overlay\",\"size\":10,\"solidity\":0.2},\"type\":\"scatter\"}],\"parcoords\":[{\"type\":\"parcoords\",\"line\":{\"colorbar\":{\"outlinewidth\":0,\"ticks\":\"\"}}}],\"scatterpolargl\":[{\"type\":\"scatterpolargl\",\"marker\":{\"colorbar\":{\"outlinewidth\":0,\"ticks\":\"\"}}}],\"bar\":[{\"error_x\":{\"color\":\"#2a3f5f\"},\"error_y\":{\"color\":\"#2a3f5f\"},\"marker\":{\"line\":{\"color\":\"#E5ECF6\",\"width\":0.5},\"pattern\":{\"fillmode\":\"overlay\",\"size\":10,\"solidity\":0.2}},\"type\":\"bar\"}],\"scattergeo\":[{\"type\":\"scattergeo\",\"marker\":{\"colorbar\":{\"outlinewidth\":0,\"ticks\":\"\"}}}],\"scatterpolar\":[{\"type\":\"scatterpolar\",\"marker\":{\"colorbar\":{\"outlinewidth\":0,\"ticks\":\"\"}}}],\"histogram\":[{\"marker\":{\"pattern\":{\"fillmode\":\"overlay\",\"size\":10,\"solidity\":0.2}},\"type\":\"histogram\"}],\"scattergl\":[{\"type\":\"scattergl\",\"marker\":{\"colorbar\":{\"outlinewidth\":0,\"ticks\":\"\"}}}],\"scatter3d\":[{\"type\":\"scatter3d\",\"line\":{\"colorbar\":{\"outlinewidth\":0,\"ticks\":\"\"}},\"marker\":{\"colorbar\":{\"outlinewidth\":0,\"ticks\":\"\"}}}],\"scattermapbox\":[{\"type\":\"scattermapbox\",\"marker\":{\"colorbar\":{\"outlinewidth\":0,\"ticks\":\"\"}}}],\"scatterternary\":[{\"type\":\"scatterternary\",\"marker\":{\"colorbar\":{\"outlinewidth\":0,\"ticks\":\"\"}}}],\"scattercarpet\":[{\"type\":\"scattercarpet\",\"marker\":{\"colorbar\":{\"outlinewidth\":0,\"ticks\":\"\"}}}],\"carpet\":[{\"aaxis\":{\"endlinecolor\":\"#2a3f5f\",\"gridcolor\":\"white\",\"linecolor\":\"white\",\"minorgridcolor\":\"white\",\"startlinecolor\":\"#2a3f5f\"},\"baxis\":{\"endlinecolor\":\"#2a3f5f\",\"gridcolor\":\"white\",\"linecolor\":\"white\",\"minorgridcolor\":\"white\",\"startlinecolor\":\"#2a3f5f\"},\"type\":\"carpet\"}],\"table\":[{\"cells\":{\"fill\":{\"color\":\"#EBF0F8\"},\"line\":{\"color\":\"white\"}},\"header\":{\"fill\":{\"color\":\"#C8D4E3\"},\"line\":{\"color\":\"white\"}},\"type\":\"table\"}],\"barpolar\":[{\"marker\":{\"line\":{\"color\":\"#E5ECF6\",\"width\":0.5},\"pattern\":{\"fillmode\":\"overlay\",\"size\":10,\"solidity\":0.2}},\"type\":\"barpolar\"}],\"pie\":[{\"automargin\":true,\"type\":\"pie\"}]},\"layout\":{\"autotypenumbers\":\"strict\",\"colorway\":[\"#636efa\",\"#EF553B\",\"#00cc96\",\"#ab63fa\",\"#FFA15A\",\"#19d3f3\",\"#FF6692\",\"#B6E880\",\"#FF97FF\",\"#FECB52\"],\"font\":{\"color\":\"#2a3f5f\"},\"hovermode\":\"closest\",\"hoverlabel\":{\"align\":\"left\"},\"paper_bgcolor\":\"white\",\"plot_bgcolor\":\"#E5ECF6\",\"polar\":{\"bgcolor\":\"#E5ECF6\",\"angularaxis\":{\"gridcolor\":\"white\",\"linecolor\":\"white\",\"ticks\":\"\"},\"radialaxis\":{\"gridcolor\":\"white\",\"linecolor\":\"white\",\"ticks\":\"\"}},\"ternary\":{\"bgcolor\":\"#E5ECF6\",\"aaxis\":{\"gridcolor\":\"white\",\"linecolor\":\"white\",\"ticks\":\"\"},\"baxis\":{\"gridcolor\":\"white\",\"linecolor\":\"white\",\"ticks\":\"\"},\"caxis\":{\"gridcolor\":\"white\",\"linecolor\":\"white\",\"ticks\":\"\"}},\"coloraxis\":{\"colorbar\":{\"outlinewidth\":0,\"ticks\":\"\"}},\"colorscale\":{\"sequential\":[[0.0,\"#0d0887\"],[0.1111111111111111,\"#46039f\"],[0.2222222222222222,\"#7201a8\"],[0.3333333333333333,\"#9c179e\"],[0.4444444444444444,\"#bd3786\"],[0.5555555555555556,\"#d8576b\"],[0.6666666666666666,\"#ed7953\"],[0.7777777777777778,\"#fb9f3a\"],[0.8888888888888888,\"#fdca26\"],[1.0,\"#f0f921\"]],\"sequentialminus\":[[0.0,\"#0d0887\"],[0.1111111111111111,\"#46039f\"],[0.2222222222222222,\"#7201a8\"],[0.3333333333333333,\"#9c179e\"],[0.4444444444444444,\"#bd3786\"],[0.5555555555555556,\"#d8576b\"],[0.6666666666666666,\"#ed7953\"],[0.7777777777777778,\"#fb9f3a\"],[0.8888888888888888,\"#fdca26\"],[1.0,\"#f0f921\"]],\"diverging\":[[0,\"#8e0152\"],[0.1,\"#c51b7d\"],[0.2,\"#de77ae\"],[0.3,\"#f1b6da\"],[0.4,\"#fde0ef\"],[0.5,\"#f7f7f7\"],[0.6,\"#e6f5d0\"],[0.7,\"#b8e186\"],[0.8,\"#7fbc41\"],[0.9,\"#4d9221\"],[1,\"#276419\"]]},\"xaxis\":{\"gridcolor\":\"white\",\"linecolor\":\"white\",\"ticks\":\"\",\"title\":{\"standoff\":15},\"zerolinecolor\":\"white\",\"automargin\":true,\"zerolinewidth\":2},\"yaxis\":{\"gridcolor\":\"white\",\"linecolor\":\"white\",\"ticks\":\"\",\"title\":{\"standoff\":15},\"zerolinecolor\":\"white\",\"automargin\":true,\"zerolinewidth\":2},\"scene\":{\"xaxis\":{\"backgroundcolor\":\"#E5ECF6\",\"gridcolor\":\"white\",\"linecolor\":\"white\",\"showbackground\":true,\"ticks\":\"\",\"zerolinecolor\":\"white\",\"gridwidth\":2},\"yaxis\":{\"backgroundcolor\":\"#E5ECF6\",\"gridcolor\":\"white\",\"linecolor\":\"white\",\"showbackground\":true,\"ticks\":\"\",\"zerolinecolor\":\"white\",\"gridwidth\":2},\"zaxis\":{\"backgroundcolor\":\"#E5ECF6\",\"gridcolor\":\"white\",\"linecolor\":\"white\",\"showbackground\":true,\"ticks\":\"\",\"zerolinecolor\":\"white\",\"gridwidth\":2}},\"shapedefaults\":{\"line\":{\"color\":\"#2a3f5f\"}},\"annotationdefaults\":{\"arrowcolor\":\"#2a3f5f\",\"arrowhead\":0,\"arrowwidth\":1},\"geo\":{\"bgcolor\":\"white\",\"landcolor\":\"#E5ECF6\",\"subunitcolor\":\"white\",\"showland\":true,\"showlakes\":true,\"lakecolor\":\"white\"},\"title\":{\"x\":0.05},\"mapbox\":{\"style\":\"light\"}}},\"mapbox\":{\"domain\":{\"x\":[0.0,1.0],\"y\":[0.0,1.0]},\"center\":{\"lat\":35.136713339465985,\"lon\":-120.63273277983393},\"accesstoken\":\"pk.eyJ1IjoidHNjaGVsbGkiLCJhIjoiY2xienVseWJnMmFndjNvbml6bnl2cmY5ZSJ9.4OsA0FBjje5eniwvzW0CKA\",\"zoom\":8,\"style\":\"open-street-map\"},\"coloraxis\":{\"colorbar\":{\"title\":{\"text\":\"rating\"}},\"colorscale\":[[0.0,\"#0d0887\"],[0.1111111111111111,\"#46039f\"],[0.2222222222222222,\"#7201a8\"],[0.3333333333333333,\"#9c179e\"],[0.4444444444444444,\"#bd3786\"],[0.5555555555555556,\"#d8576b\"],[0.6666666666666666,\"#ed7953\"],[0.7777777777777778,\"#fb9f3a\"],[0.8888888888888888,\"#fdca26\"],[1.0,\"#f0f921\"]]},\"legend\":{\"tracegroupgap\":0},\"title\":{\"text\":\"Pizza in Pismo\"}},                        {\"responsive\": true}                    ).then(function(){\n",
       "                            \n",
       "var gd = document.getElementById('daf85677-0ce3-410b-842b-01722ce574e0');\n",
       "var x = new MutationObserver(function (mutations, observer) {{\n",
       "        var display = window.getComputedStyle(gd).display;\n",
       "        if (!display || display === 'none') {{\n",
       "            console.log([gd, 'removed!']);\n",
       "            Plotly.purge(gd);\n",
       "            observer.disconnect();\n",
       "        }}\n",
       "}});\n",
       "\n",
       "// Listen for the removal of the full notebook cells\n",
       "var notebookContainer = gd.closest('#notebook-container');\n",
       "if (notebookContainer) {{\n",
       "    x.observe(notebookContainer, {childList: true});\n",
       "}}\n",
       "\n",
       "// Listen for the clearing of the current output cell\n",
       "var outputEl = gd.closest('.output');\n",
       "if (outputEl) {{\n",
       "    x.observe(outputEl, {childList: true});\n",
       "}}\n",
       "\n",
       "                        })                };                });            </script>        </div>"
      ]
     },
     "metadata": {},
     "output_type": "display_data"
    }
   ],
   "source": [
    "## make ourn final map and save as varaible\n",
    "pfig = px.scatter_mapbox(pismo_df, lat='latitude', lon='longitude', mapbox_style = 'open-street-map', \n",
    "                  hover_name='name', hover_data=['price', 'rating', 'address'], \n",
    "                        color = 'rating', title = 'Pizza in Pismo')\n",
    "pfig.show()"
   ]
  },
  {
   "cell_type": "markdown",
   "id": "47e93ee3",
   "metadata": {},
   "source": [
    "#### HTML Uses `<br>` instead of `\\n`"
   ]
  },
  {
   "cell_type": "code",
   "execution_count": null,
   "id": "d2758626",
   "metadata": {},
   "outputs": [],
   "source": [
    "## remake the final address column with <br> instead \n",
    "\n",
    "## plot the final map"
   ]
  },
  {
   "cell_type": "code",
   "execution_count": 44,
   "id": "79e43699",
   "metadata": {},
   "outputs": [],
   "source": [
    "## use fig.write_html to save map\n",
    "pfig.write_html('final_map.html')"
   ]
  }
 ],
 "metadata": {
  "kernelspec": {
   "display_name": "Python (dojo-env)",
   "language": "python",
   "name": "dojo-env"
  },
  "language_info": {
   "codemirror_mode": {
    "name": "ipython",
    "version": 3
   },
   "file_extension": ".py",
   "mimetype": "text/x-python",
   "name": "python",
   "nbconvert_exporter": "python",
   "pygments_lexer": "ipython3",
   "version": "3.9.15"
  },
  "toc": {
   "base_numbering": 1,
   "nav_menu": {},
   "number_sections": false,
   "sideBar": true,
   "skip_h1_title": false,
   "title_cell": "Table of Contents",
   "title_sidebar": "Contents",
   "toc_cell": false,
   "toc_position": {
    "height": "calc(100% - 180px)",
    "left": "10px",
    "top": "150px",
    "width": "299.195px"
   },
   "toc_section_display": true,
   "toc_window_display": true
  },
  "widgets": {
   "application/vnd.jupyter.widget-state+json": {
    "state": {},
    "version_major": 2,
    "version_minor": 0
   }
  }
 },
 "nbformat": 4,
 "nbformat_minor": 5
}
