{
 "cells": [
  {
   "cell_type": "markdown",
   "metadata": {
    "id": "8guYh-VR7nlX"
   },
   "source": [
    "# Part 1 - Extracting and Saving Data from Yelp API"
   ]
  },
  {
   "cell_type": "markdown",
   "metadata": {},
   "source": [
    "## Obective"
   ]
  },
  {
   "cell_type": "markdown",
   "metadata": {
    "id": "8guYh-VR7nlX"
   },
   "source": [
    "- For this CodeAlong, we will be working with the Yelp API. \n",
    "- You will use the the Yelp API to search your home town for a cuisine type of your choice.\n",
    "- Next class, we will then use Plotly Express to create a map with the Mapbox API to visualize the results.\n",
    "    \n",
    "    "
   ]
  },
  {
   "cell_type": "markdown",
   "metadata": {
    "id": "8guYh-VR7nlX"
   },
   "source": [
    "## Tools You Will Use\n",
    "- Part 1:\n",
    "    - Yelp API:\n",
    "        - Getting Started: \n",
    "            - https://www.yelp.com/developers/documentation/v3/get_started\n",
    "\n",
    "    - `YelpAPI` python package\n",
    "        -  \"YelpAPI\": https://github.com/gfairchild/yelpapi\n",
    "- Part 2:\n",
    "\n",
    "    - Plotly Express: https://plotly.com/python/getting-started/\n",
    "        - With Mapbox API: https://www.mapbox.com/\n",
    "        - `px.scatter_mapbox` [Documentation](https://plotly.com/python/scattermapbox/): \n",
    "\n",
    "\n"
   ]
  },
  {
   "cell_type": "markdown",
   "metadata": {},
   "source": [
    "### Applying Code From\n",
    "- Efficient API Calls Lesson Link: https://login.codingdojo.com/m/376/12529/88078"
   ]
  },
  {
   "cell_type": "code",
   "execution_count": 1,
   "metadata": {},
   "outputs": [],
   "source": [
    "# Standard Imports\n",
    "import numpy as np\n",
    "import pandas as pd\n",
    "import matplotlib.pyplot as plt\n",
    "import seaborn as sns\n",
    "\n",
    "# Additional Imports\n",
    "import os, json, math, time\n",
    "from yelpapi import YelpAPI\n",
    "from tqdm.notebook import tqdm_notebook"
   ]
  },
  {
   "cell_type": "markdown",
   "metadata": {
    "id": "1l3Z-79nBSX9"
   },
   "source": [
    "## 1. Registering for Required APIs"
   ]
  },
  {
   "cell_type": "markdown",
   "metadata": {
    "id": "1l3Z-79nBSX9"
   },
   "source": [
    "\n",
    "- Yelp: https://www.yelp.com/developers/documentation/v3/get_started\n"
   ]
  },
  {
   "cell_type": "markdown",
   "metadata": {},
   "source": [
    "> Check the official API documentation to know what arguments we can search for: https://www.yelp.com/developers/documentation/v3/business_search"
   ]
  },
  {
   "cell_type": "markdown",
   "metadata": {},
   "source": [
    "### Load Credentials and Create Yelp API Object"
   ]
  },
  {
   "cell_type": "code",
   "execution_count": 2,
   "metadata": {
    "ExecuteTime": {
     "end_time": "2022-03-25T18:20:46.629934Z",
     "start_time": "2022-03-25T18:20:45.915864Z"
    },
    "colab": {
     "base_uri": "https://localhost:8080/"
    },
    "id": "xJYqVvNkE36a",
    "outputId": "67798160-dea2-41fc-9040-2b3833efa560"
   },
   "outputs": [
    {
     "data": {
      "text/plain": [
       "dict_keys(['client-id', 'api-key'])"
      ]
     },
     "execution_count": 2,
     "metadata": {},
     "output_type": "execute_result"
    }
   ],
   "source": [
    "# Load API Credentials\n",
    "with open('/Users/tyler/.secret/yelp_api.json') as f: \n",
    "    login = json.load(f)\n",
    "login.keys()"
   ]
  },
  {
   "cell_type": "code",
   "execution_count": 3,
   "metadata": {},
   "outputs": [
    {
     "data": {
      "text/plain": [
       "<yelpapi.yelpapi.YelpAPI at 0x1ef61f51ee0>"
      ]
     },
     "execution_count": 3,
     "metadata": {},
     "output_type": "execute_result"
    }
   ],
   "source": [
    "# Instantiate YelpAPI Variable\n",
    "yelp_api = YelpAPI(login['api-key'], timeout_s=5.0)\n",
    "yelp_api"
   ]
  },
  {
   "cell_type": "markdown",
   "metadata": {},
   "source": [
    "### Define Search Terms and File Paths"
   ]
  },
  {
   "cell_type": "code",
   "execution_count": 4,
   "metadata": {},
   "outputs": [],
   "source": [
    "# set our API call parameters and filename before the first call\n",
    "LOCATION = 'Pismo Beach, CA'\n",
    "TERM = 'pizza'"
   ]
  },
  {
   "cell_type": "code",
   "execution_count": 14,
   "metadata": {},
   "outputs": [
    {
     "data": {
      "text/plain": [
       "'Data/Pismo Beach-pizza.json'"
      ]
     },
     "execution_count": 14,
     "metadata": {},
     "output_type": "execute_result"
    }
   ],
   "source": [
    "## Specify folder for saving data\n",
    "FOLDER = 'Data/'\n",
    "os.makedirs(FOLDER, exist_ok = True)\n",
    "\n",
    "# Specifying JSON_FILE filename (can include a folder)\n",
    "JSON_FILE = FOLDER + f'{LOCATION.split(\",\")[0]}-{TERM}.json'\n",
    "JSON_FILE"
   ]
  },
  {
   "cell_type": "markdown",
   "metadata": {},
   "source": [
    "### Check if Json File exists and Create it if it doesn't"
   ]
  },
  {
   "cell_type": "code",
   "execution_count": 15,
   "metadata": {},
   "outputs": [
    {
     "name": "stdout",
     "output_type": "stream",
     "text": [
      "[i] Data/Pismo Beach-pizza.json not found. Saving empty list to file.\n"
     ]
    }
   ],
   "source": [
    "## Check if JSON_FILE exists\n",
    "file_exists = os.path.isfile(JSON_FILE)\n",
    "## If it does not exist: \n",
    "if file_exists == False:\n",
    "    ## CREATE ANY NEEDED FOLDERS\n",
    "    # Get the Folder Name only\n",
    "    folder = os.path.dirname(JSON_FILE)\n",
    "    \n",
    "    ## If JSON_FILE included a folder:\n",
    "    if len(folder)>0:\n",
    "        # create the folder\n",
    "        os.makedirs(folder, exist_ok = True)\n",
    "        \n",
    "        \n",
    "    ## INFORM USER AND SAVE EMPTY LIST\n",
    "    print(f\"[i] {JSON_FILE} not found. Saving empty list to file.\")\n",
    "    \n",
    "    \n",
    "    ## save the first page of results\n",
    "    with open(JSON_FILE, 'w') as f:\n",
    "        json.dump([], f)\n",
    "        \n",
    "## If it exists, inform user\n",
    "else:\n",
    "    print(f\"[i] {JSON_FILE} already exists.\")"
   ]
  },
  {
   "cell_type": "markdown",
   "metadata": {},
   "source": [
    "### Load JSON FIle and account for previous results"
   ]
  },
  {
   "cell_type": "code",
   "execution_count": null,
   "metadata": {},
   "outputs": [],
   "source": [
    "## Load previous results and use len of results for offset\n",
    "\n",
    "## set offset based on previous results\n"
   ]
  },
  {
   "cell_type": "markdown",
   "metadata": {},
   "source": [
    "### Make the first API call to get the first page of data"
   ]
  },
  {
   "cell_type": "markdown",
   "metadata": {},
   "source": [
    "- We will use this first result to check:\n",
    "    - how many total results there are?\n",
    "    - Where is the actual data we want to save?\n",
    "    - how many results do we get at a time?\n"
   ]
  },
  {
   "cell_type": "code",
   "execution_count": 17,
   "metadata": {},
   "outputs": [],
   "source": [
    "# use our yelp_api variable's search_query method to perform our API call\n",
    "results = yelp_api.search_query(term=TERM, location=LOCATION)"
   ]
  },
  {
   "cell_type": "code",
   "execution_count": 18,
   "metadata": {},
   "outputs": [
    {
     "data": {
      "text/plain": [
       "dict"
      ]
     },
     "execution_count": 18,
     "metadata": {},
     "output_type": "execute_result"
    }
   ],
   "source": [
    "type(results)"
   ]
  },
  {
   "cell_type": "code",
   "execution_count": 26,
   "metadata": {
    "ExecuteTime": {
     "end_time": "2022-03-24T20:01:48.867510Z",
     "start_time": "2022-03-24T20:01:48.854746Z"
    },
    "colab": {
     "base_uri": "https://localhost:8080/"
    },
    "id": "Myur3i1KGhPf",
    "outputId": "f447c6f9-596b-41d0-ccda-50af0ce82108"
   },
   "outputs": [
    {
     "data": {
      "text/plain": [
       "20"
      ]
     },
     "execution_count": 26,
     "metadata": {},
     "output_type": "execute_result"
    }
   ],
   "source": [
    "## How many results total?\n",
    "len(results['businesses'])"
   ]
  },
  {
   "cell_type": "code",
   "execution_count": 20,
   "metadata": {},
   "outputs": [
    {
     "data": {
      "text/plain": [
       "dict_keys(['businesses', 'total', 'region'])"
      ]
     },
     "execution_count": 20,
     "metadata": {},
     "output_type": "execute_result"
    }
   ],
   "source": [
    "results.keys()"
   ]
  },
  {
   "cell_type": "markdown",
   "metadata": {},
   "source": [
    "- Where is the actual data we want to save?"
   ]
  },
  {
   "cell_type": "code",
   "execution_count": 27,
   "metadata": {
    "scrolled": true
   },
   "outputs": [
    {
     "data": {
      "text/plain": [
       "{'id': '6NltjvK48THHxOP78m-pbA',\n",
       " 'alias': 'giuseppes-cucina-italiana-pismo-beach',\n",
       " 'name': \"Giuseppe's Cucina Italiana\",\n",
       " 'image_url': 'https://s3-media1.fl.yelpcdn.com/bphoto/MVaKRVVwAEpbfLKKTIsJnQ/o.jpg',\n",
       " 'is_closed': False,\n",
       " 'url': 'https://www.yelp.com/biz/giuseppes-cucina-italiana-pismo-beach?adjust_creative=xQGuQUpb4cAw44Jwhkrkzw&utm_campaign=yelp_api_v3&utm_medium=api_v3_business_search&utm_source=xQGuQUpb4cAw44Jwhkrkzw',\n",
       " 'review_count': 1425,\n",
       " 'categories': [{'alias': 'pizza', 'title': 'Pizza'},\n",
       "  {'alias': 'italian', 'title': 'Italian'}],\n",
       " 'rating': 4.0,\n",
       " 'coordinates': {'latitude': 35.14249, 'longitude': -120.64124},\n",
       " 'transactions': ['delivery'],\n",
       " 'price': '$$',\n",
       " 'location': {'address1': '891 Price St',\n",
       "  'address2': '',\n",
       "  'address3': '',\n",
       "  'city': 'Pismo Beach',\n",
       "  'zip_code': '93449',\n",
       "  'country': 'US',\n",
       "  'state': 'CA',\n",
       "  'display_address': ['891 Price St', 'Pismo Beach, CA 93449']},\n",
       " 'phone': '+18057732870',\n",
       " 'display_phone': '(805) 773-2870',\n",
       " 'distance': 348.22768832510155}"
      ]
     },
     "execution_count": 27,
     "metadata": {},
     "output_type": "execute_result"
    }
   ],
   "source": [
    "results['businesses'][0]"
   ]
  },
  {
   "cell_type": "code",
   "execution_count": 25,
   "metadata": {},
   "outputs": [
    {
     "data": {
      "text/plain": [
       "89"
      ]
     },
     "execution_count": 25,
     "metadata": {},
     "output_type": "execute_result"
    }
   ],
   "source": [
    "results['total']"
   ]
  },
  {
   "cell_type": "code",
   "execution_count": 28,
   "metadata": {},
   "outputs": [
    {
     "data": {
      "text/html": [
       "<div>\n",
       "<style scoped>\n",
       "    .dataframe tbody tr th:only-of-type {\n",
       "        vertical-align: middle;\n",
       "    }\n",
       "\n",
       "    .dataframe tbody tr th {\n",
       "        vertical-align: top;\n",
       "    }\n",
       "\n",
       "    .dataframe thead th {\n",
       "        text-align: right;\n",
       "    }\n",
       "</style>\n",
       "<table border=\"1\" class=\"dataframe\">\n",
       "  <thead>\n",
       "    <tr style=\"text-align: right;\">\n",
       "      <th></th>\n",
       "      <th>id</th>\n",
       "      <th>alias</th>\n",
       "      <th>name</th>\n",
       "      <th>image_url</th>\n",
       "      <th>is_closed</th>\n",
       "      <th>url</th>\n",
       "      <th>review_count</th>\n",
       "      <th>categories</th>\n",
       "      <th>rating</th>\n",
       "      <th>coordinates</th>\n",
       "      <th>transactions</th>\n",
       "      <th>price</th>\n",
       "      <th>location</th>\n",
       "      <th>phone</th>\n",
       "      <th>display_phone</th>\n",
       "      <th>distance</th>\n",
       "    </tr>\n",
       "  </thead>\n",
       "  <tbody>\n",
       "    <tr>\n",
       "      <th>0</th>\n",
       "      <td>6NltjvK48THHxOP78m-pbA</td>\n",
       "      <td>giuseppes-cucina-italiana-pismo-beach</td>\n",
       "      <td>Giuseppe's Cucina Italiana</td>\n",
       "      <td>https://s3-media1.fl.yelpcdn.com/bphoto/MVaKRV...</td>\n",
       "      <td>False</td>\n",
       "      <td>https://www.yelp.com/biz/giuseppes-cucina-ital...</td>\n",
       "      <td>1425</td>\n",
       "      <td>[{'alias': 'pizza', 'title': 'Pizza'}, {'alias...</td>\n",
       "      <td>4.0</td>\n",
       "      <td>{'latitude': 35.14249, 'longitude': -120.64124}</td>\n",
       "      <td>[delivery]</td>\n",
       "      <td>$$</td>\n",
       "      <td>{'address1': '891 Price St', 'address2': '', '...</td>\n",
       "      <td>+18057732870</td>\n",
       "      <td>(805) 773-2870</td>\n",
       "      <td>348.227688</td>\n",
       "    </tr>\n",
       "    <tr>\n",
       "      <th>1</th>\n",
       "      <td>Km1aQHFPP7VwvFimVByPgg</td>\n",
       "      <td>dels-pizzeria-pismo-beach</td>\n",
       "      <td>Del's Pizzeria</td>\n",
       "      <td>https://s3-media2.fl.yelpcdn.com/bphoto/dEgnqd...</td>\n",
       "      <td>False</td>\n",
       "      <td>https://www.yelp.com/biz/dels-pizzeria-pismo-b...</td>\n",
       "      <td>499</td>\n",
       "      <td>[{'alias': 'pizza', 'title': 'Pizza'}, {'alias...</td>\n",
       "      <td>4.0</td>\n",
       "      <td>{'latitude': 35.14405, 'longitude': -120.6429}</td>\n",
       "      <td>[delivery, pickup]</td>\n",
       "      <td>$$</td>\n",
       "      <td>{'address1': '1101 Price St', 'address2': '', ...</td>\n",
       "      <td>+18057734438</td>\n",
       "      <td>(805) 773-4438</td>\n",
       "      <td>456.832734</td>\n",
       "    </tr>\n",
       "    <tr>\n",
       "      <th>2</th>\n",
       "      <td>UCH_lRmCHWBqzb0zs3Hbvg</td>\n",
       "      <td>pizmo-cafe-pismo-beach</td>\n",
       "      <td>PizMo Cafe</td>\n",
       "      <td>https://s3-media4.fl.yelpcdn.com/bphoto/rno5HY...</td>\n",
       "      <td>False</td>\n",
       "      <td>https://www.yelp.com/biz/pizmo-cafe-pismo-beac...</td>\n",
       "      <td>458</td>\n",
       "      <td>[{'alias': 'pizza', 'title': 'Pizza'}, {'alias...</td>\n",
       "      <td>4.0</td>\n",
       "      <td>{'latitude': 35.1405040480287, 'longitude': -1...</td>\n",
       "      <td>[delivery]</td>\n",
       "      <td>$$</td>\n",
       "      <td>{'address1': '270 Pomeroy Ave', 'address2': ''...</td>\n",
       "      <td>+18055560347</td>\n",
       "      <td>(805) 556-0347</td>\n",
       "      <td>488.774648</td>\n",
       "    </tr>\n",
       "    <tr>\n",
       "      <th>3</th>\n",
       "      <td>vxFH7N_Ntxg-pagIIWM75g</td>\n",
       "      <td>beach-pizza-grover-beach</td>\n",
       "      <td>Beach Pizza</td>\n",
       "      <td>https://s3-media3.fl.yelpcdn.com/bphoto/aCoCRY...</td>\n",
       "      <td>False</td>\n",
       "      <td>https://www.yelp.com/biz/beach-pizza-grover-be...</td>\n",
       "      <td>138</td>\n",
       "      <td>[{'alias': 'pizza', 'title': 'Pizza'}, {'alias...</td>\n",
       "      <td>4.5</td>\n",
       "      <td>{'latitude': 35.12111, 'longitude': -120.61964}</td>\n",
       "      <td>[delivery, pickup]</td>\n",
       "      <td>NaN</td>\n",
       "      <td>{'address1': '960 W Grand Ave', 'address2': No...</td>\n",
       "      <td>+18054744499</td>\n",
       "      <td>(805) 474-4499</td>\n",
       "      <td>2999.014031</td>\n",
       "    </tr>\n",
       "    <tr>\n",
       "      <th>4</th>\n",
       "      <td>4fAGqkTIOMmkXyylyQXhBw</td>\n",
       "      <td>ginos-pizza-pismo-beach</td>\n",
       "      <td>Gino's Pizza</td>\n",
       "      <td>https://s3-media3.fl.yelpcdn.com/bphoto/kPxejj...</td>\n",
       "      <td>False</td>\n",
       "      <td>https://www.yelp.com/biz/ginos-pizza-pismo-bea...</td>\n",
       "      <td>361</td>\n",
       "      <td>[{'alias': 'pizza', 'title': 'Pizza'}]</td>\n",
       "      <td>4.0</td>\n",
       "      <td>{'latitude': 35.1351676233652, 'longitude': -1...</td>\n",
       "      <td>[delivery, pickup]</td>\n",
       "      <td>$$</td>\n",
       "      <td>{'address1': '539 Five Cities Dr', 'address2':...</td>\n",
       "      <td>+18055560939</td>\n",
       "      <td>(805) 556-0939</td>\n",
       "      <td>1533.749594</td>\n",
       "    </tr>\n",
       "    <tr>\n",
       "      <th>5</th>\n",
       "      <td>kbCBKe2CcNpjy61KoZ907Q</td>\n",
       "      <td>giuseppes-express-pismo-beach</td>\n",
       "      <td>Giuseppe's Express</td>\n",
       "      <td>https://s3-media2.fl.yelpcdn.com/bphoto/goUVCf...</td>\n",
       "      <td>False</td>\n",
       "      <td>https://www.yelp.com/biz/giuseppes-express-pis...</td>\n",
       "      <td>378</td>\n",
       "      <td>[{'alias': 'italian', 'title': 'Italian'}, {'a...</td>\n",
       "      <td>3.5</td>\n",
       "      <td>{'latitude': 35.14256, 'longitude': -120.64055}</td>\n",
       "      <td>[delivery]</td>\n",
       "      <td>$$</td>\n",
       "      <td>{'address1': '800 Price St', 'address2': '', '...</td>\n",
       "      <td>+18057732873</td>\n",
       "      <td>(805) 773-2873</td>\n",
       "      <td>284.396328</td>\n",
       "    </tr>\n",
       "    <tr>\n",
       "      <th>6</th>\n",
       "      <td>dWNxwCf8R_SDJf63E4pfAw</td>\n",
       "      <td>me-n-ed-s-pizzeria-and-craft-house-pismo-beach-2</td>\n",
       "      <td>Me n Ed’s Pizzeria and Craft House</td>\n",
       "      <td>https://s3-media2.fl.yelpcdn.com/bphoto/7fpkEX...</td>\n",
       "      <td>False</td>\n",
       "      <td>https://www.yelp.com/biz/me-n-ed-s-pizzeria-an...</td>\n",
       "      <td>65</td>\n",
       "      <td>[{'alias': 'pizza', 'title': 'Pizza'}, {'alias...</td>\n",
       "      <td>3.5</td>\n",
       "      <td>{'latitude': 35.1421, 'longitude': -120.64004}</td>\n",
       "      <td>[]</td>\n",
       "      <td>NaN</td>\n",
       "      <td>{'address1': '750 Price St', 'address2': None,...</td>\n",
       "      <td>+18055563636</td>\n",
       "      <td>(805) 556-3636</td>\n",
       "      <td>281.184189</td>\n",
       "    </tr>\n",
       "    <tr>\n",
       "      <th>7</th>\n",
       "      <td>NpngL0FEuj9OxaXPzqhNYg</td>\n",
       "      <td>rosas-italian-restaurant-pismo-beach-3</td>\n",
       "      <td>Rosa's Italian Restaurant</td>\n",
       "      <td>https://s3-media3.fl.yelpcdn.com/bphoto/mGH8L4...</td>\n",
       "      <td>False</td>\n",
       "      <td>https://www.yelp.com/biz/rosas-italian-restaur...</td>\n",
       "      <td>1208</td>\n",
       "      <td>[{'alias': 'italian', 'title': 'Italian'}, {'a...</td>\n",
       "      <td>4.0</td>\n",
       "      <td>{'latitude': 35.14017, 'longitude': -120.63844}</td>\n",
       "      <td>[delivery]</td>\n",
       "      <td>$$</td>\n",
       "      <td>{'address1': '491 Price St', 'address2': '', '...</td>\n",
       "      <td>+18057730551</td>\n",
       "      <td>(805) 773-0551</td>\n",
       "      <td>416.138931</td>\n",
       "    </tr>\n",
       "    <tr>\n",
       "      <th>8</th>\n",
       "      <td>EqLSwFmOJ6kosvRFELw70w</td>\n",
       "      <td>palo-mesa-wood-fired-arroyo-grande</td>\n",
       "      <td>Palo Mesa Wood Fired</td>\n",
       "      <td>https://s3-media4.fl.yelpcdn.com/bphoto/qS_y0w...</td>\n",
       "      <td>False</td>\n",
       "      <td>https://www.yelp.com/biz/palo-mesa-wood-fired-...</td>\n",
       "      <td>184</td>\n",
       "      <td>[{'alias': 'salad', 'title': 'Salad'}, {'alias...</td>\n",
       "      <td>4.5</td>\n",
       "      <td>{'latitude': 35.12283, 'longitude': -120.58113}</td>\n",
       "      <td>[delivery]</td>\n",
       "      <td>$$</td>\n",
       "      <td>{'address1': '150 West Branch St', 'address2':...</td>\n",
       "      <td>+18059046807</td>\n",
       "      <td>(805) 904-6807</td>\n",
       "      <td>5651.900210</td>\n",
       "    </tr>\n",
       "    <tr>\n",
       "      <th>9</th>\n",
       "      <td>Alnpp0cDLJ5ZsDEpzWjuWg</td>\n",
       "      <td>the-boardroom-pismo-beach-4</td>\n",
       "      <td>The Boardroom</td>\n",
       "      <td>https://s3-media1.fl.yelpcdn.com/bphoto/RXxgk7...</td>\n",
       "      <td>False</td>\n",
       "      <td>https://www.yelp.com/biz/the-boardroom-pismo-b...</td>\n",
       "      <td>279</td>\n",
       "      <td>[{'alias': 'pubs', 'title': 'Pubs'}, {'alias':...</td>\n",
       "      <td>4.0</td>\n",
       "      <td>{'latitude': 35.13878, 'longitude': -120.64188}</td>\n",
       "      <td>[delivery]</td>\n",
       "      <td>$$</td>\n",
       "      <td>{'address1': '160 Hinds Ave', 'address2': '', ...</td>\n",
       "      <td>+18052956222</td>\n",
       "      <td>(805) 295-6222</td>\n",
       "      <td>661.720776</td>\n",
       "    </tr>\n",
       "    <tr>\n",
       "      <th>10</th>\n",
       "      <td>5kwOxAZw2Ychp2xI37R1QA</td>\n",
       "      <td>blast-and-brew-pismo-beach-2</td>\n",
       "      <td>Blast &amp; Brew</td>\n",
       "      <td>https://s3-media2.fl.yelpcdn.com/bphoto/0I65uI...</td>\n",
       "      <td>False</td>\n",
       "      <td>https://www.yelp.com/biz/blast-and-brew-pismo-...</td>\n",
       "      <td>363</td>\n",
       "      <td>[{'alias': 'newamerican', 'title': 'American (...</td>\n",
       "      <td>3.5</td>\n",
       "      <td>{'latitude': 35.14826862632902, 'longitude': -...</td>\n",
       "      <td>[delivery]</td>\n",
       "      <td>$$</td>\n",
       "      <td>{'address1': '2131 Price St', 'address2': None...</td>\n",
       "      <td>+18052955151</td>\n",
       "      <td>(805) 295-5151</td>\n",
       "      <td>1114.239537</td>\n",
       "    </tr>\n",
       "    <tr>\n",
       "      <th>11</th>\n",
       "      <td>UMM2irwWRWg_jbh2vbTZjg</td>\n",
       "      <td>grover-beach-sourdough-grover-beach-2</td>\n",
       "      <td>Grover Beach Sourdough</td>\n",
       "      <td>https://s3-media2.fl.yelpcdn.com/bphoto/JCGJ57...</td>\n",
       "      <td>False</td>\n",
       "      <td>https://www.yelp.com/biz/grover-beach-sourdoug...</td>\n",
       "      <td>155</td>\n",
       "      <td>[{'alias': 'bakeries', 'title': 'Bakeries'}, {...</td>\n",
       "      <td>5.0</td>\n",
       "      <td>{'latitude': 35.1217466, 'longitude': -120.628...</td>\n",
       "      <td>[delivery]</td>\n",
       "      <td>$</td>\n",
       "      <td>{'address1': '236 W Grand Ave', 'address2': ''...</td>\n",
       "      <td>+18056682256</td>\n",
       "      <td>(805) 668-2256</td>\n",
       "      <td>2609.226761</td>\n",
       "    </tr>\n",
       "    <tr>\n",
       "      <th>12</th>\n",
       "      <td>-52mRVrDPB8ki930kXv9KA</td>\n",
       "      <td>doughboys-pizzeria-grover-beach-4</td>\n",
       "      <td>Doughboy's Pizzeria</td>\n",
       "      <td>https://s3-media2.fl.yelpcdn.com/bphoto/Ofi_nL...</td>\n",
       "      <td>False</td>\n",
       "      <td>https://www.yelp.com/biz/doughboys-pizzeria-gr...</td>\n",
       "      <td>258</td>\n",
       "      <td>[{'alias': 'pizza', 'title': 'Pizza'}, {'alias...</td>\n",
       "      <td>4.0</td>\n",
       "      <td>{'latitude': 35.120422, 'longitude': -120.608416}</td>\n",
       "      <td>[delivery, pickup]</td>\n",
       "      <td>$$</td>\n",
       "      <td>{'address1': '1800 E Grand Ave', 'address2': '...</td>\n",
       "      <td>+18054748888</td>\n",
       "      <td>(805) 474-8888</td>\n",
       "      <td>3723.816999</td>\n",
       "    </tr>\n",
       "    <tr>\n",
       "      <th>13</th>\n",
       "      <td>YOIdczoG4nNzJ2DMFgg1qg</td>\n",
       "      <td>pismo-s-world-famous-pizza-and-chowder-house-p...</td>\n",
       "      <td>Pismo’s World Famous Pizza &amp; Chowder House</td>\n",
       "      <td>https://s3-media3.fl.yelpcdn.com/bphoto/vQynNK...</td>\n",
       "      <td>False</td>\n",
       "      <td>https://www.yelp.com/biz/pismo-s-world-famous-...</td>\n",
       "      <td>59</td>\n",
       "      <td>[{'alias': 'pizza', 'title': 'Pizza'}]</td>\n",
       "      <td>2.5</td>\n",
       "      <td>{'latitude': 35.140673, 'longitude': -120.640953}</td>\n",
       "      <td>[]</td>\n",
       "      <td>$$</td>\n",
       "      <td>{'address1': '690 Dolliver St', 'address2': ''...</td>\n",
       "      <td></td>\n",
       "      <td></td>\n",
       "      <td>452.583803</td>\n",
       "    </tr>\n",
       "    <tr>\n",
       "      <th>14</th>\n",
       "      <td>XTAS2oxAVqkhhMqN4V67yQ</td>\n",
       "      <td>fattes-pizza-of-grover-beach-grover-beach-2</td>\n",
       "      <td>Fatte's Pizza of Grover Beach</td>\n",
       "      <td>https://s3-media2.fl.yelpcdn.com/bphoto/OJ8eBZ...</td>\n",
       "      <td>False</td>\n",
       "      <td>https://www.yelp.com/biz/fattes-pizza-of-grove...</td>\n",
       "      <td>178</td>\n",
       "      <td>[{'alias': 'pizza', 'title': 'Pizza'}, {'alias...</td>\n",
       "      <td>3.5</td>\n",
       "      <td>{'latitude': 35.1211137, 'longitude': -120.609...</td>\n",
       "      <td>[delivery]</td>\n",
       "      <td>$</td>\n",
       "      <td>{'address1': '1741 W Grand Ave', 'address2': '...</td>\n",
       "      <td>+18054895555</td>\n",
       "      <td>(805) 489-5555</td>\n",
       "      <td>3516.988845</td>\n",
       "    </tr>\n",
       "    <tr>\n",
       "      <th>15</th>\n",
       "      <td>SkOgvn62-hID__rsofeDeQ</td>\n",
       "      <td>klondike-pizza-arroyo-grande</td>\n",
       "      <td>Klondike Pizza</td>\n",
       "      <td>https://s3-media2.fl.yelpcdn.com/bphoto/EO7Z-O...</td>\n",
       "      <td>False</td>\n",
       "      <td>https://www.yelp.com/biz/klondike-pizza-arroyo...</td>\n",
       "      <td>400</td>\n",
       "      <td>[{'alias': 'pizza', 'title': 'Pizza'}]</td>\n",
       "      <td>4.0</td>\n",
       "      <td>{'latitude': 35.122914, 'longitude': -120.579206}</td>\n",
       "      <td>[delivery]</td>\n",
       "      <td>$$</td>\n",
       "      <td>{'address1': '104 Bridge St', 'address2': None...</td>\n",
       "      <td>+18054815288</td>\n",
       "      <td>(805) 481-5288</td>\n",
       "      <td>5813.018552</td>\n",
       "    </tr>\n",
       "    <tr>\n",
       "      <th>16</th>\n",
       "      <td>QZdQ0kftMHwnSwSgwQh8XQ</td>\n",
       "      <td>manrock-brewing-grover-beach-2</td>\n",
       "      <td>ManRock Brewing</td>\n",
       "      <td>https://s3-media2.fl.yelpcdn.com/bphoto/cvrrdI...</td>\n",
       "      <td>False</td>\n",
       "      <td>https://www.yelp.com/biz/manrock-brewing-grove...</td>\n",
       "      <td>217</td>\n",
       "      <td>[{'alias': 'pizza', 'title': 'Pizza'}, {'alias...</td>\n",
       "      <td>4.0</td>\n",
       "      <td>{'latitude': 35.129473, 'longitude': -120.608468}</td>\n",
       "      <td>[delivery]</td>\n",
       "      <td>$$</td>\n",
       "      <td>{'address1': '1750 El Camino Real', 'address2'...</td>\n",
       "      <td>+18056682006</td>\n",
       "      <td>(805) 668-2006</td>\n",
       "      <td>3103.115675</td>\n",
       "    </tr>\n",
       "    <tr>\n",
       "      <th>17</th>\n",
       "      <td>OBCr95fi2-15vjxszHjo6A</td>\n",
       "      <td>pismo-bowl-pismo-beach</td>\n",
       "      <td>Pismo Bowl</td>\n",
       "      <td>https://s3-media2.fl.yelpcdn.com/bphoto/SD70BK...</td>\n",
       "      <td>False</td>\n",
       "      <td>https://www.yelp.com/biz/pismo-bowl-pismo-beac...</td>\n",
       "      <td>85</td>\n",
       "      <td>[{'alias': 'bowling', 'title': 'Bowling'}, {'a...</td>\n",
       "      <td>4.0</td>\n",
       "      <td>{'latitude': 35.1405919, 'longitude': -120.641...</td>\n",
       "      <td>[delivery]</td>\n",
       "      <td>$</td>\n",
       "      <td>{'address1': '277 Pomeroy Ave', 'address2': ''...</td>\n",
       "      <td>+18057732482</td>\n",
       "      <td>(805) 773-2482</td>\n",
       "      <td>502.731423</td>\n",
       "    </tr>\n",
       "    <tr>\n",
       "      <th>18</th>\n",
       "      <td>NcJd9i4bg6qHFHfviiSC6g</td>\n",
       "      <td>sams-giant-manhattan-pizza-grover-beach-2</td>\n",
       "      <td>Sam's Giant Manhattan Pizza</td>\n",
       "      <td>https://s3-media2.fl.yelpcdn.com/bphoto/t6rN-N...</td>\n",
       "      <td>False</td>\n",
       "      <td>https://www.yelp.com/biz/sams-giant-manhattan-...</td>\n",
       "      <td>197</td>\n",
       "      <td>[{'alias': 'pizza', 'title': 'Pizza'}, {'alias...</td>\n",
       "      <td>3.5</td>\n",
       "      <td>{'latitude': 35.12065823930062, 'longitude': -...</td>\n",
       "      <td>[delivery, pickup]</td>\n",
       "      <td>$</td>\n",
       "      <td>{'address1': '1514 W Grand Ave', 'address2': '...</td>\n",
       "      <td>+18054813444</td>\n",
       "      <td>(805) 481-3444</td>\n",
       "      <td>3404.685617</td>\n",
       "    </tr>\n",
       "    <tr>\n",
       "      <th>19</th>\n",
       "      <td>_IuAMSYJTZ7OEG7lLjLexg</td>\n",
       "      <td>palo-mesa-pizza-arroyo-grande-4</td>\n",
       "      <td>Palo Mesa Pizza</td>\n",
       "      <td>https://s3-media1.fl.yelpcdn.com/bphoto/S339vn...</td>\n",
       "      <td>False</td>\n",
       "      <td>https://www.yelp.com/biz/palo-mesa-pizza-arroy...</td>\n",
       "      <td>152</td>\n",
       "      <td>[{'alias': 'pizza', 'title': 'Pizza'}]</td>\n",
       "      <td>3.5</td>\n",
       "      <td>{'latitude': 35.1271688491754, 'longitude': -1...</td>\n",
       "      <td>[delivery]</td>\n",
       "      <td>$$</td>\n",
       "      <td>{'address1': '906 Rancho Pkwy', 'address2': ''...</td>\n",
       "      <td>+18054817888</td>\n",
       "      <td>(805) 481-7888</td>\n",
       "      <td>4311.527149</td>\n",
       "    </tr>\n",
       "  </tbody>\n",
       "</table>\n",
       "</div>"
      ],
      "text/plain": [
       "                        id                                              alias  \\\n",
       "0   6NltjvK48THHxOP78m-pbA              giuseppes-cucina-italiana-pismo-beach   \n",
       "1   Km1aQHFPP7VwvFimVByPgg                          dels-pizzeria-pismo-beach   \n",
       "2   UCH_lRmCHWBqzb0zs3Hbvg                             pizmo-cafe-pismo-beach   \n",
       "3   vxFH7N_Ntxg-pagIIWM75g                           beach-pizza-grover-beach   \n",
       "4   4fAGqkTIOMmkXyylyQXhBw                            ginos-pizza-pismo-beach   \n",
       "5   kbCBKe2CcNpjy61KoZ907Q                      giuseppes-express-pismo-beach   \n",
       "6   dWNxwCf8R_SDJf63E4pfAw   me-n-ed-s-pizzeria-and-craft-house-pismo-beach-2   \n",
       "7   NpngL0FEuj9OxaXPzqhNYg             rosas-italian-restaurant-pismo-beach-3   \n",
       "8   EqLSwFmOJ6kosvRFELw70w                 palo-mesa-wood-fired-arroyo-grande   \n",
       "9   Alnpp0cDLJ5ZsDEpzWjuWg                        the-boardroom-pismo-beach-4   \n",
       "10  5kwOxAZw2Ychp2xI37R1QA                       blast-and-brew-pismo-beach-2   \n",
       "11  UMM2irwWRWg_jbh2vbTZjg              grover-beach-sourdough-grover-beach-2   \n",
       "12  -52mRVrDPB8ki930kXv9KA                  doughboys-pizzeria-grover-beach-4   \n",
       "13  YOIdczoG4nNzJ2DMFgg1qg  pismo-s-world-famous-pizza-and-chowder-house-p...   \n",
       "14  XTAS2oxAVqkhhMqN4V67yQ        fattes-pizza-of-grover-beach-grover-beach-2   \n",
       "15  SkOgvn62-hID__rsofeDeQ                       klondike-pizza-arroyo-grande   \n",
       "16  QZdQ0kftMHwnSwSgwQh8XQ                     manrock-brewing-grover-beach-2   \n",
       "17  OBCr95fi2-15vjxszHjo6A                             pismo-bowl-pismo-beach   \n",
       "18  NcJd9i4bg6qHFHfviiSC6g          sams-giant-manhattan-pizza-grover-beach-2   \n",
       "19  _IuAMSYJTZ7OEG7lLjLexg                    palo-mesa-pizza-arroyo-grande-4   \n",
       "\n",
       "                                          name  \\\n",
       "0                   Giuseppe's Cucina Italiana   \n",
       "1                               Del's Pizzeria   \n",
       "2                                   PizMo Cafe   \n",
       "3                                  Beach Pizza   \n",
       "4                                 Gino's Pizza   \n",
       "5                           Giuseppe's Express   \n",
       "6           Me n Ed’s Pizzeria and Craft House   \n",
       "7                    Rosa's Italian Restaurant   \n",
       "8                         Palo Mesa Wood Fired   \n",
       "9                                The Boardroom   \n",
       "10                                Blast & Brew   \n",
       "11                      Grover Beach Sourdough   \n",
       "12                         Doughboy's Pizzeria   \n",
       "13  Pismo’s World Famous Pizza & Chowder House   \n",
       "14               Fatte's Pizza of Grover Beach   \n",
       "15                              Klondike Pizza   \n",
       "16                             ManRock Brewing   \n",
       "17                                  Pismo Bowl   \n",
       "18                 Sam's Giant Manhattan Pizza   \n",
       "19                             Palo Mesa Pizza   \n",
       "\n",
       "                                            image_url  is_closed  \\\n",
       "0   https://s3-media1.fl.yelpcdn.com/bphoto/MVaKRV...      False   \n",
       "1   https://s3-media2.fl.yelpcdn.com/bphoto/dEgnqd...      False   \n",
       "2   https://s3-media4.fl.yelpcdn.com/bphoto/rno5HY...      False   \n",
       "3   https://s3-media3.fl.yelpcdn.com/bphoto/aCoCRY...      False   \n",
       "4   https://s3-media3.fl.yelpcdn.com/bphoto/kPxejj...      False   \n",
       "5   https://s3-media2.fl.yelpcdn.com/bphoto/goUVCf...      False   \n",
       "6   https://s3-media2.fl.yelpcdn.com/bphoto/7fpkEX...      False   \n",
       "7   https://s3-media3.fl.yelpcdn.com/bphoto/mGH8L4...      False   \n",
       "8   https://s3-media4.fl.yelpcdn.com/bphoto/qS_y0w...      False   \n",
       "9   https://s3-media1.fl.yelpcdn.com/bphoto/RXxgk7...      False   \n",
       "10  https://s3-media2.fl.yelpcdn.com/bphoto/0I65uI...      False   \n",
       "11  https://s3-media2.fl.yelpcdn.com/bphoto/JCGJ57...      False   \n",
       "12  https://s3-media2.fl.yelpcdn.com/bphoto/Ofi_nL...      False   \n",
       "13  https://s3-media3.fl.yelpcdn.com/bphoto/vQynNK...      False   \n",
       "14  https://s3-media2.fl.yelpcdn.com/bphoto/OJ8eBZ...      False   \n",
       "15  https://s3-media2.fl.yelpcdn.com/bphoto/EO7Z-O...      False   \n",
       "16  https://s3-media2.fl.yelpcdn.com/bphoto/cvrrdI...      False   \n",
       "17  https://s3-media2.fl.yelpcdn.com/bphoto/SD70BK...      False   \n",
       "18  https://s3-media2.fl.yelpcdn.com/bphoto/t6rN-N...      False   \n",
       "19  https://s3-media1.fl.yelpcdn.com/bphoto/S339vn...      False   \n",
       "\n",
       "                                                  url  review_count  \\\n",
       "0   https://www.yelp.com/biz/giuseppes-cucina-ital...          1425   \n",
       "1   https://www.yelp.com/biz/dels-pizzeria-pismo-b...           499   \n",
       "2   https://www.yelp.com/biz/pizmo-cafe-pismo-beac...           458   \n",
       "3   https://www.yelp.com/biz/beach-pizza-grover-be...           138   \n",
       "4   https://www.yelp.com/biz/ginos-pizza-pismo-bea...           361   \n",
       "5   https://www.yelp.com/biz/giuseppes-express-pis...           378   \n",
       "6   https://www.yelp.com/biz/me-n-ed-s-pizzeria-an...            65   \n",
       "7   https://www.yelp.com/biz/rosas-italian-restaur...          1208   \n",
       "8   https://www.yelp.com/biz/palo-mesa-wood-fired-...           184   \n",
       "9   https://www.yelp.com/biz/the-boardroom-pismo-b...           279   \n",
       "10  https://www.yelp.com/biz/blast-and-brew-pismo-...           363   \n",
       "11  https://www.yelp.com/biz/grover-beach-sourdoug...           155   \n",
       "12  https://www.yelp.com/biz/doughboys-pizzeria-gr...           258   \n",
       "13  https://www.yelp.com/biz/pismo-s-world-famous-...            59   \n",
       "14  https://www.yelp.com/biz/fattes-pizza-of-grove...           178   \n",
       "15  https://www.yelp.com/biz/klondike-pizza-arroyo...           400   \n",
       "16  https://www.yelp.com/biz/manrock-brewing-grove...           217   \n",
       "17  https://www.yelp.com/biz/pismo-bowl-pismo-beac...            85   \n",
       "18  https://www.yelp.com/biz/sams-giant-manhattan-...           197   \n",
       "19  https://www.yelp.com/biz/palo-mesa-pizza-arroy...           152   \n",
       "\n",
       "                                           categories  rating  \\\n",
       "0   [{'alias': 'pizza', 'title': 'Pizza'}, {'alias...     4.0   \n",
       "1   [{'alias': 'pizza', 'title': 'Pizza'}, {'alias...     4.0   \n",
       "2   [{'alias': 'pizza', 'title': 'Pizza'}, {'alias...     4.0   \n",
       "3   [{'alias': 'pizza', 'title': 'Pizza'}, {'alias...     4.5   \n",
       "4              [{'alias': 'pizza', 'title': 'Pizza'}]     4.0   \n",
       "5   [{'alias': 'italian', 'title': 'Italian'}, {'a...     3.5   \n",
       "6   [{'alias': 'pizza', 'title': 'Pizza'}, {'alias...     3.5   \n",
       "7   [{'alias': 'italian', 'title': 'Italian'}, {'a...     4.0   \n",
       "8   [{'alias': 'salad', 'title': 'Salad'}, {'alias...     4.5   \n",
       "9   [{'alias': 'pubs', 'title': 'Pubs'}, {'alias':...     4.0   \n",
       "10  [{'alias': 'newamerican', 'title': 'American (...     3.5   \n",
       "11  [{'alias': 'bakeries', 'title': 'Bakeries'}, {...     5.0   \n",
       "12  [{'alias': 'pizza', 'title': 'Pizza'}, {'alias...     4.0   \n",
       "13             [{'alias': 'pizza', 'title': 'Pizza'}]     2.5   \n",
       "14  [{'alias': 'pizza', 'title': 'Pizza'}, {'alias...     3.5   \n",
       "15             [{'alias': 'pizza', 'title': 'Pizza'}]     4.0   \n",
       "16  [{'alias': 'pizza', 'title': 'Pizza'}, {'alias...     4.0   \n",
       "17  [{'alias': 'bowling', 'title': 'Bowling'}, {'a...     4.0   \n",
       "18  [{'alias': 'pizza', 'title': 'Pizza'}, {'alias...     3.5   \n",
       "19             [{'alias': 'pizza', 'title': 'Pizza'}]     3.5   \n",
       "\n",
       "                                          coordinates        transactions  \\\n",
       "0     {'latitude': 35.14249, 'longitude': -120.64124}          [delivery]   \n",
       "1      {'latitude': 35.14405, 'longitude': -120.6429}  [delivery, pickup]   \n",
       "2   {'latitude': 35.1405040480287, 'longitude': -1...          [delivery]   \n",
       "3     {'latitude': 35.12111, 'longitude': -120.61964}  [delivery, pickup]   \n",
       "4   {'latitude': 35.1351676233652, 'longitude': -1...  [delivery, pickup]   \n",
       "5     {'latitude': 35.14256, 'longitude': -120.64055}          [delivery]   \n",
       "6      {'latitude': 35.1421, 'longitude': -120.64004}                  []   \n",
       "7     {'latitude': 35.14017, 'longitude': -120.63844}          [delivery]   \n",
       "8     {'latitude': 35.12283, 'longitude': -120.58113}          [delivery]   \n",
       "9     {'latitude': 35.13878, 'longitude': -120.64188}          [delivery]   \n",
       "10  {'latitude': 35.14826862632902, 'longitude': -...          [delivery]   \n",
       "11  {'latitude': 35.1217466, 'longitude': -120.628...          [delivery]   \n",
       "12  {'latitude': 35.120422, 'longitude': -120.608416}  [delivery, pickup]   \n",
       "13  {'latitude': 35.140673, 'longitude': -120.640953}                  []   \n",
       "14  {'latitude': 35.1211137, 'longitude': -120.609...          [delivery]   \n",
       "15  {'latitude': 35.122914, 'longitude': -120.579206}          [delivery]   \n",
       "16  {'latitude': 35.129473, 'longitude': -120.608468}          [delivery]   \n",
       "17  {'latitude': 35.1405919, 'longitude': -120.641...          [delivery]   \n",
       "18  {'latitude': 35.12065823930062, 'longitude': -...  [delivery, pickup]   \n",
       "19  {'latitude': 35.1271688491754, 'longitude': -1...          [delivery]   \n",
       "\n",
       "   price                                           location         phone  \\\n",
       "0     $$  {'address1': '891 Price St', 'address2': '', '...  +18057732870   \n",
       "1     $$  {'address1': '1101 Price St', 'address2': '', ...  +18057734438   \n",
       "2     $$  {'address1': '270 Pomeroy Ave', 'address2': ''...  +18055560347   \n",
       "3    NaN  {'address1': '960 W Grand Ave', 'address2': No...  +18054744499   \n",
       "4     $$  {'address1': '539 Five Cities Dr', 'address2':...  +18055560939   \n",
       "5     $$  {'address1': '800 Price St', 'address2': '', '...  +18057732873   \n",
       "6    NaN  {'address1': '750 Price St', 'address2': None,...  +18055563636   \n",
       "7     $$  {'address1': '491 Price St', 'address2': '', '...  +18057730551   \n",
       "8     $$  {'address1': '150 West Branch St', 'address2':...  +18059046807   \n",
       "9     $$  {'address1': '160 Hinds Ave', 'address2': '', ...  +18052956222   \n",
       "10    $$  {'address1': '2131 Price St', 'address2': None...  +18052955151   \n",
       "11     $  {'address1': '236 W Grand Ave', 'address2': ''...  +18056682256   \n",
       "12    $$  {'address1': '1800 E Grand Ave', 'address2': '...  +18054748888   \n",
       "13    $$  {'address1': '690 Dolliver St', 'address2': ''...                 \n",
       "14     $  {'address1': '1741 W Grand Ave', 'address2': '...  +18054895555   \n",
       "15    $$  {'address1': '104 Bridge St', 'address2': None...  +18054815288   \n",
       "16    $$  {'address1': '1750 El Camino Real', 'address2'...  +18056682006   \n",
       "17     $  {'address1': '277 Pomeroy Ave', 'address2': ''...  +18057732482   \n",
       "18     $  {'address1': '1514 W Grand Ave', 'address2': '...  +18054813444   \n",
       "19    $$  {'address1': '906 Rancho Pkwy', 'address2': ''...  +18054817888   \n",
       "\n",
       "     display_phone     distance  \n",
       "0   (805) 773-2870   348.227688  \n",
       "1   (805) 773-4438   456.832734  \n",
       "2   (805) 556-0347   488.774648  \n",
       "3   (805) 474-4499  2999.014031  \n",
       "4   (805) 556-0939  1533.749594  \n",
       "5   (805) 773-2873   284.396328  \n",
       "6   (805) 556-3636   281.184189  \n",
       "7   (805) 773-0551   416.138931  \n",
       "8   (805) 904-6807  5651.900210  \n",
       "9   (805) 295-6222   661.720776  \n",
       "10  (805) 295-5151  1114.239537  \n",
       "11  (805) 668-2256  2609.226761  \n",
       "12  (805) 474-8888  3723.816999  \n",
       "13                   452.583803  \n",
       "14  (805) 489-5555  3516.988845  \n",
       "15  (805) 481-5288  5813.018552  \n",
       "16  (805) 668-2006  3103.115675  \n",
       "17  (805) 773-2482   502.731423  \n",
       "18  (805) 481-3444  3404.685617  \n",
       "19  (805) 481-7888  4311.527149  "
      ]
     },
     "execution_count": 28,
     "metadata": {},
     "output_type": "execute_result"
    }
   ],
   "source": [
    "pd.DataFrame(results['businesses'])"
   ]
  },
  {
   "cell_type": "code",
   "execution_count": 37,
   "metadata": {},
   "outputs": [
    {
     "data": {
      "text/plain": [
       "20"
      ]
     },
     "execution_count": 37,
     "metadata": {},
     "output_type": "execute_result"
    }
   ],
   "source": [
    "## How many did we get the details for?\n",
    "results_per_page = len(results['businesses'])\n",
    "results_per_page"
   ]
  },
  {
   "cell_type": "markdown",
   "metadata": {},
   "source": [
    "- Calculate how many pages of results needed to cover the total_results"
   ]
  },
  {
   "cell_type": "code",
   "execution_count": 44,
   "metadata": {},
   "outputs": [
    {
     "name": "stdout",
     "output_type": "stream",
     "text": [
      "- 88 previous results found.\n"
     ]
    }
   ],
   "source": [
    "with open(JSON_FILE, 'r') as f:\n",
    "    previous_results = json.load(f)\n",
    "\n",
    "n_results = len(previous_results)\n",
    "print(f'- {n_results} previous results found.')"
   ]
  },
  {
   "cell_type": "code",
   "execution_count": 39,
   "metadata": {},
   "outputs": [
    {
     "data": {
      "text/plain": [
       "5"
      ]
     },
     "execution_count": 39,
     "metadata": {},
     "output_type": "execute_result"
    }
   ],
   "source": [
    "# Use math.ceil to round up for the total number of pages of results.\n",
    "n_pages = math.ceil((results['total'] - n_results) / results_per_page)\n",
    "n_pages"
   ]
  },
  {
   "cell_type": "code",
   "execution_count": 43,
   "metadata": {},
   "outputs": [
    {
     "data": {
      "application/vnd.jupyter.widget-view+json": {
       "model_id": "3eddb54989c746a396306ed488ca5250",
       "version_major": 2,
       "version_minor": 0
      },
      "text/plain": [
       "  0%|          | 0/5 [00:00<?, ?it/s]"
      ]
     },
     "metadata": {},
     "output_type": "display_data"
    }
   ],
   "source": [
    "for i in tqdm_notebook( range(1,n_pages+1)):\n",
    "    ## The block of code we want to TRY to run\n",
    "    try:\n",
    "        time.sleep(.2)\n",
    "        \n",
    "        ## Read in results in progress file and check the length\n",
    "        with open(JSON_FILE, 'r') as f:\n",
    "            previous_results = json.load(f)\n",
    "        \n",
    "        ## save number of results for to use as offset\n",
    "        n_results = len(previous_results)\n",
    "        \n",
    "        \n",
    "        ## use n_results as the OFFSET \n",
    "        results = yelp_api.search_query(location=LOCATION,\n",
    "                                   term=TERM,\n",
    "                                   offset=n_results+1)\n",
    "\n",
    "        ## append new results and save to file\n",
    "        previous_results.extend(results['businesses'])\n",
    "        \n",
    "        with open(JSON_FILE, 'w') as f:\n",
    "            json.dump(previous_results, f)\n",
    "\n",
    "            \n",
    "    ## What to do if we get an error/exception.\n",
    "    except Exception as e:\n",
    "        print('[!] ERROR: ', e)\n"
   ]
  },
  {
   "cell_type": "markdown",
   "metadata": {},
   "source": [
    "## Open the Final JSON File with Pandas"
   ]
  },
  {
   "cell_type": "code",
   "execution_count": 49,
   "metadata": {},
   "outputs": [],
   "source": [
    "df = pd.read_json(JSON_FILE)"
   ]
  },
  {
   "cell_type": "code",
   "execution_count": 50,
   "metadata": {},
   "outputs": [
    {
     "data": {
      "text/plain": [
       "'Data/Pismo Beach-pizza.csv.gz'"
      ]
     },
     "execution_count": 50,
     "metadata": {},
     "output_type": "execute_result"
    }
   ],
   "source": [
    "## convert the filename to a .csv.gz\n",
    "csv_file = JSON_FILE.replace('.json','.csv.gz')\n",
    "csv_file"
   ]
  },
  {
   "cell_type": "code",
   "execution_count": 51,
   "metadata": {},
   "outputs": [],
   "source": [
    "## Save it as a compressed csv (to save space)\n",
    "df.to_csv(csv_file, compression='gzip', index=False)"
   ]
  },
  {
   "cell_type": "markdown",
   "metadata": {},
   "source": [
    "## Bonus: compare filesize with os module's `os.path.getsize`"
   ]
  },
  {
   "cell_type": "code",
   "execution_count": 52,
   "metadata": {},
   "outputs": [
    {
     "name": "stdout",
     "output_type": "stream",
     "text": [
      "JSON FILE: 87,158 Bytes\n",
      "CSV.GZ FILE: 12,664 Bytes\n",
      "the csv.gz is 6.88234365129501 times smaller!\n"
     ]
    }
   ],
   "source": [
    "size_json = os.path.getsize(JSON_FILE)\n",
    "size_csv_gz = os.path.getsize(JSON_FILE.replace('.json','.csv.gz'))\n",
    "\n",
    "print(f'JSON FILE: {size_json:,} Bytes')\n",
    "print(f'CSV.GZ FILE: {size_csv_gz:,} Bytes')\n",
    "\n",
    "print(f'the csv.gz is {size_json/size_csv_gz} times smaller!')"
   ]
  },
  {
   "cell_type": "markdown",
   "metadata": {},
   "source": [
    "## Next Class: Processing the Results and Mapping "
   ]
  }
 ],
 "metadata": {
  "colab": {
   "collapsed_sections": [],
   "name": "Test Yelp API Package.ipynb",
   "provenance": []
  },
  "kernelspec": {
   "display_name": "Python (dojo-env)",
   "language": "python",
   "name": "dojo-env"
  },
  "language_info": {
   "codemirror_mode": {
    "name": "ipython",
    "version": 3
   },
   "file_extension": ".py",
   "mimetype": "text/x-python",
   "name": "python",
   "nbconvert_exporter": "python",
   "pygments_lexer": "ipython3",
   "version": "3.9.15"
  },
  "toc": {
   "base_numbering": 1,
   "nav_menu": {},
   "number_sections": false,
   "sideBar": true,
   "skip_h1_title": false,
   "title_cell": "Table of Contents",
   "title_sidebar": "Contents",
   "toc_cell": false,
   "toc_position": {},
   "toc_section_display": true,
   "toc_window_display": true
  }
 },
 "nbformat": 4,
 "nbformat_minor": 1
}
